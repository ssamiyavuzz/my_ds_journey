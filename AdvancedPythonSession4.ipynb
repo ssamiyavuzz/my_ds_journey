{
 "cells": [
  {
   "cell_type": "code",
   "execution_count": 5,
   "metadata": {},
   "outputs": [
    {
     "name": "stdout",
     "output_type": "stream",
     "text": [
      "Kasa Tipi Suv\n"
     ]
    }
   ],
   "source": [
    "class Araba:\n",
    "    def marka(self):\n",
    "        return \"Araba\"\n",
    "    def model(self):\n",
    "        return \"Modeli\"\n",
    "    def hizi(self):\n",
    "        return \"Hizi\"\n",
    "    def kasatipi(self, kasa):\n",
    "        return f\"Kasa Tipi {kasa}\"\n",
    "    \n",
    "araba1 = Araba()\n",
    "\n",
    "print(araba1.kasatipi(\"Suv\"))"
   ]
  },
  {
   "cell_type": "code",
   "execution_count": 6,
   "metadata": {},
   "outputs": [],
   "source": [
    "per1_isim = 'John'\n",
    "per1_soyisim = 'Smith'\n",
    "per1_eposta = 'john.smith@firma.com'\n",
    "\n",
    "per2_isim = \"Mary\"\n",
    "per2_soyisim = \"Smith\"\n",
    "per2_eposta = \"mary.smith@firma.com\""
   ]
  },
  {
   "cell_type": "code",
   "execution_count": 7,
   "metadata": {},
   "outputs": [
    {
     "name": "stdout",
     "output_type": "stream",
     "text": [
      "john.smith@firma.com\n",
      "mary.smith@firma.com\n"
     ]
    }
   ],
   "source": [
    "print(per1_eposta)\n",
    "print(per2_eposta)"
   ]
  },
  {
   "cell_type": "code",
   "execution_count": 8,
   "metadata": {},
   "outputs": [],
   "source": [
    "def kisi_olustur():\n",
    "    isim = input(\"isim:\")\n",
    "    soyisim = input(\"soyisim:\")\n",
    "    eposta = input(\"E-Posta:\")\n",
    "    return isim, soyisim, eposta\n",
    "\n",
    "per1_isim, per1_soyisim, per1_eposta = kisi_olustur()\n",
    "per2_isim, per2_soyisim, per2_eposta = kisi_olustur()"
   ]
  },
  {
   "cell_type": "code",
   "execution_count": 9,
   "metadata": {},
   "outputs": [
    {
     "name": "stdout",
     "output_type": "stream",
     "text": [
      "ahmet@email.com\n",
      "ayse@email.com\n"
     ]
    }
   ],
   "source": [
    "print(per1_eposta)\n",
    "print(per2_eposta)"
   ]
  },
  {
   "cell_type": "code",
   "execution_count": 10,
   "metadata": {},
   "outputs": [
    {
     "name": "stdout",
     "output_type": "stream",
     "text": [
      "Kişi1:\n",
      "İsim: Ayla\n",
      "Soyisim: Meşe\n",
      "E-posta: ayla@email.com\n",
      "Kişi2:\n",
      "İsim: Ali\n",
      "Soyisim: Demir\n",
      "E-posta: ali@email.com\n"
     ]
    }
   ],
   "source": [
    "class Kisi:\n",
    "    def __init__(self, isim, soyisim, eposta):\n",
    "        self.ad = isim\n",
    "        self.soyad = soyisim\n",
    "        self.mail = eposta\n",
    "    \n",
    "    def bilgileri_goruntule(self):\n",
    "        return f\"İsim: {self.ad}\\nSoyisim: {self.soyad}\\nE-posta: {self.mail}\"\n",
    "    \n",
    "kisi1 = Kisi(\"Ayla\", \"Meşe\", \"ayla@email.com\")\n",
    "kisi2 = Kisi(\"Ali\", \"Demir\", \"ali@email.com\")\n",
    "\n",
    "print(\"Kişi1:\")\n",
    "print(kisi1.bilgileri_goruntule())\n",
    "print(\"Kişi2:\")\n",
    "print(kisi2.bilgileri_goruntule())"
   ]
  },
  {
   "cell_type": "code",
   "execution_count": 14,
   "metadata": {},
   "outputs": [
    {
     "name": "stdout",
     "output_type": "stream",
     "text": [
      "John 50000 john.smith@email.com\n",
      "Aziz Taş 60000 aziz.taş@email.com\n"
     ]
    }
   ],
   "source": [
    "class Personel:\n",
    "    saat = 13\n",
    "    def __init__(self, isim, soyisim, maas):\n",
    "        self.ad = isim\n",
    "        self.soyad = soyisim\n",
    "        self.ucret = maas\n",
    "        self.eposta = f\"{isim.lower()}.{soyisim.lower()}@email.com\"\n",
    "        self.saat = 15\n",
    "\n",
    "person1 = Personel(isim='John', soyisim='Smith', maas=50000)\n",
    "person2 = Personel(\"Aziz\", \"Taş\", 60000)\n",
    "\n",
    "print(person1.ad, person1.ucret, person1.eposta, end=\"\\n\")\n",
    "print(person2.ad, person2.soyad, person2.ucret, person2.eposta, end=\"\\n\")"
   ]
  },
  {
   "cell_type": "code",
   "execution_count": 15,
   "metadata": {},
   "outputs": [
    {
     "name": "stdout",
     "output_type": "stream",
     "text": [
      "John 50000 john.smith@email.com\n",
      "Aziz Taş 60000 aziz.taş@email.com\n"
     ]
    }
   ],
   "source": [
    "class Personel:\n",
    "    def __init__(nesne, isim, soyisim, maas):\n",
    "        nesne.ad = isim\n",
    "        nesne.soyad = soyisim\n",
    "        nesne.ucret = maas\n",
    "        nesne.eposta = f\"{isim.lower()}.{soyisim.lower()}@email.com\"\n",
    "\n",
    "person1 = Personel(isim='John', soyisim='Smith', maas=50000)\n",
    "person2 = Personel(\"Aziz\", \"Taş\", 60000)\n",
    "\n",
    "print(person1.ad, person1.ucret, person1.eposta, end=\"\\n\")\n",
    "print(person2.ad, person2.soyad, person2.ucret, person2.eposta, end=\"\\n\")"
   ]
  },
  {
   "cell_type": "code",
   "execution_count": 20,
   "metadata": {},
   "outputs": [
    {
     "name": "stdout",
     "output_type": "stream",
     "text": [
      "Ahmet Yerel\n",
      "45000\n",
      "47250.0\n",
      "Elif Dilek\n",
      "50000\n",
      "52500.0\n",
      "\n",
      "{'ad': 'Ahmet', 'soyad': 'Yerel', 'ucret': 47250.0, 'eposta': 'ahmet.yerel@email.com'}\n",
      "{'ad': 'Elif', 'soyad': 'Dilek', 'ucret': 52500.0, 'eposta': 'elif.dilek@email.com'}\n"
     ]
    }
   ],
   "source": [
    "class Personel:\n",
    "    zam_orani = 1.05\n",
    "    def __init__(self, isim, soyisim, maas):\n",
    "        self.ad = isim\n",
    "        self.soyad = soyisim\n",
    "        self.ucret = maas\n",
    "        self.eposta = f\"{isim.lower()}.{soyisim.lower()}@email.com\"\n",
    "\n",
    "    def tam_isim(self):\n",
    "        return f\"{self.ad} {self.soyad}\"\n",
    "    \n",
    "    def zam_uygula(self):\n",
    "        self.ucret = self.ucret * self.zam_orani\n",
    "        return self.ucret\n",
    "\n",
    "per1 = Personel(\"Ahmet\", \"Yerel\", 45000)\n",
    "per2 = Personel(\"Elif\", \"Dilek\", 50000)\n",
    "\n",
    "print(per1.tam_isim())\n",
    "print(per1.ucret)\n",
    "per1.zam_uygula()\n",
    "print(per1.ucret)\n",
    "\n",
    "print(per2.tam_isim())\n",
    "print(per2.ucret)\n",
    "per2.zam_uygula()\n",
    "print(per2.ucret)\n",
    "print()\n",
    "print(per1.__dict__)\n",
    "print(per2.__dict__)"
   ]
  },
  {
   "cell_type": "code",
   "execution_count": 30,
   "metadata": {},
   "outputs": [
    {
     "name": "stdout",
     "output_type": "stream",
     "text": [
      "0\n",
      "2\n",
      "1.05\n",
      "1.1\n",
      "(49500.00000000001, 1.1)\n",
      "\n",
      "Ahmet Yerel\n",
      "49500.00000000001\n",
      "1.1\n",
      "54450.000000000015\n"
     ]
    }
   ],
   "source": [
    "class Personel:\n",
    "    zam_orani = 1.05\n",
    "    personel_sayisi = 0\n",
    "\n",
    "    def __init__(self, isim, soyisim, maas):\n",
    "        self.ad = isim\n",
    "        self.soyad = soyisim\n",
    "        self.ucret = maas\n",
    "        self.eposta = f\"{isim.lower()}.{soyisim.lower()}@email.com\"\n",
    "\n",
    "        Personel.personel_sayisi += 1\n",
    "\n",
    "    def tam_isim(self):\n",
    "        return f\"{self.ad} {self.soyad}\"\n",
    "    \n",
    "    def zam_uygula(self):\n",
    "        self.zam_orani = 1.1\n",
    "        self.ucret = self.ucret * self.zam_orani\n",
    "        print(self.zam_orani)\n",
    "        return self.ucret, self.zam_orani\n",
    "    \n",
    "print(Personel.personel_sayisi)\n",
    "\n",
    "per1 = Personel(\"Ahmet\", \"Yerel\", 45000)\n",
    "per2 = Personel(\"Elif\", \"Dilek\", 50000)\n",
    "\n",
    "print(Personel.personel_sayisi)\n",
    "\n",
    "print(Personel.zam_orani)\n",
    "print(per1.zam_uygula())\n",
    "\n",
    "print()\n",
    "print(per1.tam_isim())\n",
    "print(per1.ucret)\n",
    "per1.zam_uygula()\n",
    "print(per1.ucret)"
   ]
  },
  {
   "cell_type": "code",
   "execution_count": 32,
   "metadata": {},
   "outputs": [
    {
     "name": "stdout",
     "output_type": "stream",
     "text": [
      "Eski zam oranı (1.05) güncellendi. Yeni oran : 1.1\n",
      "1.1\n",
      "1.1\n",
      "1.1\n",
      "\n",
      "45000\n",
      "49500.00000000001\n"
     ]
    }
   ],
   "source": [
    "class Personel:\n",
    "    zam_orani = 1.05\n",
    "\n",
    "    def __init__(self, isim, soyisim, maas):\n",
    "        self.ad = isim\n",
    "        self.soyad = soyisim\n",
    "        self.ucret = maas\n",
    "        self.eposta = f\"{isim.lower()}.{soyisim.lower()}@email.com\"\n",
    "\n",
    "    def tam_isim(self):\n",
    "        return f\"{self.ad} {self.soyad}\"\n",
    "    \n",
    "    def zam_uygula(self):\n",
    "        self.ucret = self.ucret * self.zam_orani\n",
    "        return self.ucret\n",
    "    \n",
    "    @classmethod\n",
    "    def zam_oranini_belirle(cls, oran): # Sınıfın özelliklerini kullanmasına rağmen sınıfa doğrudan bağlı olmayan özerk bir method, decorator olmazsa(@classmethod) hata verir\n",
    "        eski_oran = cls.zam_orani\n",
    "        cls.zam_orani = oran\n",
    "        print(f\"Eski zam oranı ({eski_oran}) güncellendi. Yeni oran : {cls.zam_orani}\")\n",
    "\n",
    "\n",
    "per1 = Personel(\"Ahmet\", \"Yerel\", 45000)\n",
    "per2 = Personel(\"Elif\", \"Dilek\", 50000)\n",
    "\n",
    "Personel.zam_oranini_belirle(1.1)\n",
    "\n",
    "print(per1.zam_orani)\n",
    "print(Personel.zam_orani)\n",
    "print(per2.zam_orani)\n",
    "print()\n",
    "print(per1.ucret)\n",
    "per1.zam_uygula()\n",
    "print(per1.ucret)\n"
   ]
  },
  {
   "cell_type": "markdown",
   "metadata": {},
   "source": [
    "Bir \"Kitap\" sınıfı oluşturun. Her kitap, başlık, yazar ve yayın yılı gibi özelliklere sahip olmalıdır."
   ]
  },
  {
   "cell_type": "code",
   "execution_count": 36,
   "metadata": {},
   "outputs": [
    {
     "name": "stdout",
     "output_type": "stream",
     "text": [
      "Python Programlama - John Smith - 2020\n",
      "Veri Bilimi Temelleri - Alice Johnson - 2019\n",
      "Web Geliştirme Rehberi - David Williams - 2021\n"
     ]
    }
   ],
   "source": [
    "class Kitap:\n",
    "    def __init__(self, baslik, yazar, yayin_yili):\n",
    "        self.baslik = baslik\n",
    "        self.yazar = yazar\n",
    "        self.yayin_yili = yayin_yili\n",
    "\n",
    "    def __str__(self):\n",
    "        return f\"{self.baslik} - {self.yazar} - {self.yayin_yili}\"\n",
    "    \n",
    "kitap1 = Kitap(\"Python Programlama\", \"John Smith\", 2020)\n",
    "kitap2 = Kitap(\"Veri Bilimi Temelleri\", \"Alice Johnson\", 2019)\n",
    "kitap3 = Kitap(\"Web Geliştirme Rehberi\", \"David Williams\", 2021)\n",
    "\n",
    "print(kitap1)\n",
    "print(kitap2)\n",
    "print(kitap3)"
   ]
  },
  {
   "cell_type": "markdown",
   "metadata": {},
   "source": [
    "Bir \"Müşteri\" ve \"Hesap\" sınıfı oluşturun. Müşteriler hesaplarını yönetebilmeli ve para transferi gibi işlemler yapabilmelidir."
   ]
  },
  {
   "cell_type": "code",
   "execution_count": 38,
   "metadata": {},
   "outputs": [
    {
     "name": "stdout",
     "output_type": "stream",
     "text": [
      "Ahmet Kaya isimli müşteriye yeni hesap oluşturuldu.\n",
      "Ahmet Kaya isimli müşteriye yeni hesap oluşturuldu.\n",
      "Ahmet Kaya adlı müşterinin hesapları:\n",
      "Hesap sahibi: Ahmet Kaya, Bakiye: 10000 TL\n",
      "Hesap sahibi: Ahmet Kaya, Bakiye: 5000 TL\n"
     ]
    }
   ],
   "source": [
    "class Hesap:\n",
    "    def __init__(self, hesap_sahibi, bakiye=0):\n",
    "        self.hesap_sahibi = hesap_sahibi\n",
    "        self.bakiye = bakiye\n",
    "\n",
    "    def para_yatir(self, miktar):\n",
    "        if miktar > 0:\n",
    "            self.bakiye += miktar\n",
    "            print(f\"Hesabınıza {miktar} TL para yatırıldı. Güncel bakiyeniz: {self.bakiye}\")\n",
    "        else:\n",
    "            print(\"Geçersiz miktar değeri girdiniz. Lütfen pozitif bir değer giriniz.\")\n",
    "\n",
    "    def para_cek(self, miktar):\n",
    "        if miktar > 0 and miktar <= self.bakiye:\n",
    "            self.bakiye -= miktar\n",
    "            print(f\"Hesabınızdan {miktar} TL para çekildi. Güncel bakiyeniz: {self.bakiye}\")\n",
    "        elif miktar > self.bakiye:\n",
    "            print(\"Bakiyeniz yetersiz. Lütfen bakiyenizden daha az bir miktar değeri giriniz.\")\n",
    "        else:\n",
    "            print(\"Geçersiz miktar değeri girdiniz. Lütfen pozitif bir değer girin.\")\n",
    "    \n",
    "    def bakiye_goster(self):\n",
    "        print(f\"{self.hesap_sahibi} hesabının bakiyesi: {self.bakiye} TL'dir\")\n",
    "\n",
    "class Musteri:\n",
    "    def __init__(self, isim):\n",
    "        self.isim = isim\n",
    "        self.hesaplar = []\n",
    "\n",
    "    def hesap_olustur(self, baslangic_bakiye=0):\n",
    "        yeni_hesap = Hesap(self.isim, baslangic_bakiye)\n",
    "        self.hesaplar.append(yeni_hesap)\n",
    "        print(f\"{self.isim} isimli müşteriye yeni hesap oluşturuldu.\")\n",
    "\n",
    "    def hesaplarim(self):\n",
    "        print(f\"{self.isim} adlı müşterinin hesapları:\")\n",
    "        for hesap in self.hesaplar:\n",
    "            print(f\"Hesap sahibi: {hesap.hesap_sahibi}, Bakiye: {hesap.bakiye} TL\")\n",
    "\n",
    "\n",
    "musteri1 = Musteri(\"Ahmet Kaya\")\n",
    "\n",
    "musteri1.hesap_olustur(10000)\n",
    "musteri1.hesap_olustur(5000)\n",
    "\n",
    "musteri1.hesaplarim()"
   ]
  },
  {
   "cell_type": "code",
   "execution_count": 39,
   "metadata": {},
   "outputs": [
    {
     "name": "stdout",
     "output_type": "stream",
     "text": [
      "Hesabınıza 2000 TL para yatırıldı. Güncel bakiyeniz: 12000\n"
     ]
    }
   ],
   "source": [
    "musteri1.hesaplar[0].para_yatir(2000)"
   ]
  },
  {
   "cell_type": "code",
   "execution_count": 40,
   "metadata": {},
   "outputs": [
    {
     "name": "stdout",
     "output_type": "stream",
     "text": [
      "Hesabınızdan 500 TL para çekildi. Güncel bakiyeniz: 11500\n"
     ]
    }
   ],
   "source": [
    "musteri1.hesaplar[0].para_cek(500)"
   ]
  },
  {
   "cell_type": "code",
   "execution_count": 41,
   "metadata": {},
   "outputs": [
    {
     "name": "stdout",
     "output_type": "stream",
     "text": [
      "Ahmet Kaya hesabının bakiyesi: 11500 TL'dir\n"
     ]
    }
   ],
   "source": [
    "musteri1.hesaplar[0].bakiye_goster()"
   ]
  }
 ],
 "metadata": {
  "kernelspec": {
   "display_name": "Python 3",
   "language": "python",
   "name": "python3"
  },
  "language_info": {
   "codemirror_mode": {
    "name": "ipython",
    "version": 3
   },
   "file_extension": ".py",
   "mimetype": "text/x-python",
   "name": "python",
   "nbconvert_exporter": "python",
   "pygments_lexer": "ipython3",
   "version": "3.11.4"
  }
 },
 "nbformat": 4,
 "nbformat_minor": 2
}
