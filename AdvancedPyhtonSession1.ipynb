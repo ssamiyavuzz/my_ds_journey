{
 "cells": [
  {
   "cell_type": "markdown",
   "metadata": {},
   "source": [
    "# try & except"
   ]
  },
  {
   "cell_type": "code",
   "execution_count": 1,
   "metadata": {},
   "outputs": [
    {
     "data": {
      "text/plain": [
       "8"
      ]
     },
     "execution_count": 1,
     "metadata": {},
     "output_type": "execute_result"
    }
   ],
   "source": [
    "3 + 5"
   ]
  },
  {
   "cell_type": "code",
   "execution_count": 2,
   "metadata": {},
   "outputs": [
    {
     "ename": "TypeError",
     "evalue": "can only concatenate str (not \"int\") to str",
     "output_type": "error",
     "traceback": [
      "\u001b[1;31m---------------------------------------------------------------------------\u001b[0m",
      "\u001b[1;31mTypeError\u001b[0m                                 Traceback (most recent call last)",
      "\u001b[1;32mc:\\Users\\Techpro\\Desktop\\AdvancePython\\session_21_20_10_2023.ipynb Cell 2\u001b[0m line \u001b[0;36m1\n\u001b[1;32m----> <a href='vscode-notebook-cell:/c%3A/Users/Techpro/Desktop/AdvancePython/session_21_20_10_2023.ipynb#W1sZmlsZQ%3D%3D?line=0'>1</a>\u001b[0m \u001b[39m\"\u001b[39;49m\u001b[39m4\u001b[39;49m\u001b[39m\"\u001b[39;49m \u001b[39m+\u001b[39;49m \u001b[39m5\u001b[39;49m\n",
      "\u001b[1;31mTypeError\u001b[0m: can only concatenate str (not \"int\") to str"
     ]
    }
   ],
   "source": [
    "\"4\" + 5"
   ]
  },
  {
   "cell_type": "code",
   "execution_count": 3,
   "metadata": {},
   "outputs": [
    {
     "data": {
      "text/plain": [
       "9"
      ]
     },
     "execution_count": 3,
     "metadata": {},
     "output_type": "execute_result"
    }
   ],
   "source": [
    "3 + 6"
   ]
  },
  {
   "cell_type": "code",
   "execution_count": 5,
   "metadata": {},
   "outputs": [
    {
     "ename": "ValueError",
     "evalue": "invalid literal for int() with base 10: 'yirmi'",
     "output_type": "error",
     "traceback": [
      "\u001b[1;31m---------------------------------------------------------------------------\u001b[0m",
      "\u001b[1;31mValueError\u001b[0m                                Traceback (most recent call last)",
      "\u001b[1;32mc:\\Users\\Techpro\\Desktop\\AdvancePython\\session_21_20_10_2023.ipynb Cell 4\u001b[0m line \u001b[0;36m1\n\u001b[1;32m----> <a href='vscode-notebook-cell:/c%3A/Users/Techpro/Desktop/AdvancePython/session_21_20_10_2023.ipynb#W3sZmlsZQ%3D%3D?line=0'>1</a>\u001b[0m x \u001b[39m=\u001b[39m \u001b[39mint\u001b[39;49m(\u001b[39minput\u001b[39;49m(\u001b[39m\"\u001b[39;49m\u001b[39mLütfen bir sayı giriniz... :\u001b[39;49m\u001b[39m\"\u001b[39;49m))\n\u001b[0;32m      <a href='vscode-notebook-cell:/c%3A/Users/Techpro/Desktop/AdvancePython/session_21_20_10_2023.ipynb#W3sZmlsZQ%3D%3D?line=1'>2</a>\u001b[0m \u001b[39mprint\u001b[39m(\u001b[39m\"\u001b[39m\u001b[39mGirdiğiniz sayı : \u001b[39m\u001b[39m\"\u001b[39m, x)\n",
      "\u001b[1;31mValueError\u001b[0m: invalid literal for int() with base 10: 'yirmi'"
     ]
    }
   ],
   "source": [
    "x = int(input(\"Lütfen bir sayı giriniz... :\"))\n",
    "print(\"Girdiğiniz sayı : \", x)"
   ]
  },
  {
   "cell_type": "code",
   "execution_count": 18,
   "metadata": {},
   "outputs": [
    {
     "name": "stdout",
     "output_type": "stream",
     "text": [
      "Hatalı giriş yaptınız.\n"
     ]
    }
   ],
   "source": [
    "try:\n",
    "    x = int(input(\"Lütfen bir sayı giriniz... :\"))\n",
    "    if x > 0:\n",
    "        print(\"Girdiğiniz sayı : \", x)\n",
    "except:\n",
    "    print(\"Hatalı giriş yaptınız.\")"
   ]
  },
  {
   "cell_type": "code",
   "execution_count": 14,
   "metadata": {},
   "outputs": [
    {
     "name": "stdout",
     "output_type": "stream",
     "text": [
      "Hatayı gösterme bana. Sadece çalış\n"
     ]
    }
   ],
   "source": [
    "try:\n",
    "    \"4\" + 5\n",
    "except:\n",
    "    print(\"Hatayı gösterme bana. Sadece çalış\")"
   ]
  },
  {
   "cell_type": "code",
   "execution_count": 15,
   "metadata": {},
   "outputs": [
    {
     "name": "stdout",
     "output_type": "stream",
     "text": [
      "Hatayı gösterme bana. Sadece çalış\n",
      "9\n"
     ]
    }
   ],
   "source": [
    "try:\n",
    "    \"4\" + 5\n",
    "except:\n",
    "    print(\"Hatayı gösterme bana. Sadece çalış\")\n",
    "    print(4+5)"
   ]
  },
  {
   "cell_type": "code",
   "execution_count": 16,
   "metadata": {},
   "outputs": [
    {
     "name": "stdout",
     "output_type": "stream",
     "text": [
      "Hatayı gösterme bana. Sadece çalış\n"
     ]
    },
    {
     "ename": "TypeError",
     "evalue": "can only concatenate str (not \"int\") to str",
     "output_type": "error",
     "traceback": [
      "\u001b[1;31m---------------------------------------------------------------------------\u001b[0m",
      "\u001b[1;31mTypeError\u001b[0m                                 Traceback (most recent call last)",
      "\u001b[1;32mc:\\Users\\Techpro\\Desktop\\AdvancePython\\session_21_20_10_2023.ipynb Cell 9\u001b[0m line \u001b[0;36m2\n\u001b[0;32m      <a href='vscode-notebook-cell:/c%3A/Users/Techpro/Desktop/AdvancePython/session_21_20_10_2023.ipynb#X11sZmlsZQ%3D%3D?line=0'>1</a>\u001b[0m \u001b[39mtry\u001b[39;00m:\n\u001b[1;32m----> <a href='vscode-notebook-cell:/c%3A/Users/Techpro/Desktop/AdvancePython/session_21_20_10_2023.ipynb#X11sZmlsZQ%3D%3D?line=1'>2</a>\u001b[0m     \u001b[39m\"\u001b[39;49m\u001b[39m4\u001b[39;49m\u001b[39m\"\u001b[39;49m \u001b[39m+\u001b[39;49m \u001b[39m5\u001b[39;49m\n\u001b[0;32m      <a href='vscode-notebook-cell:/c%3A/Users/Techpro/Desktop/AdvancePython/session_21_20_10_2023.ipynb#X11sZmlsZQ%3D%3D?line=2'>3</a>\u001b[0m \u001b[39mexcept\u001b[39;00m:\n",
      "\u001b[1;31mTypeError\u001b[0m: can only concatenate str (not \"int\") to str",
      "\nDuring handling of the above exception, another exception occurred:\n",
      "\u001b[1;31mTypeError\u001b[0m                                 Traceback (most recent call last)",
      "\u001b[1;32mc:\\Users\\Techpro\\Desktop\\AdvancePython\\session_21_20_10_2023.ipynb Cell 9\u001b[0m line \u001b[0;36m5\n\u001b[0;32m      <a href='vscode-notebook-cell:/c%3A/Users/Techpro/Desktop/AdvancePython/session_21_20_10_2023.ipynb#X11sZmlsZQ%3D%3D?line=2'>3</a>\u001b[0m \u001b[39mexcept\u001b[39;00m:\n\u001b[0;32m      <a href='vscode-notebook-cell:/c%3A/Users/Techpro/Desktop/AdvancePython/session_21_20_10_2023.ipynb#X11sZmlsZQ%3D%3D?line=3'>4</a>\u001b[0m     \u001b[39mprint\u001b[39m(\u001b[39m\"\u001b[39m\u001b[39mHatayı gösterme bana. Sadece çalış\u001b[39m\u001b[39m\"\u001b[39m)\n\u001b[1;32m----> <a href='vscode-notebook-cell:/c%3A/Users/Techpro/Desktop/AdvancePython/session_21_20_10_2023.ipynb#X11sZmlsZQ%3D%3D?line=4'>5</a>\u001b[0m     \u001b[39mprint\u001b[39m(\u001b[39m\"\u001b[39;49m\u001b[39m4\u001b[39;49m\u001b[39m\"\u001b[39;49m\u001b[39m+\u001b[39;49m\u001b[39m5\u001b[39;49m)\n",
      "\u001b[1;31mTypeError\u001b[0m: can only concatenate str (not \"int\") to str"
     ]
    }
   ],
   "source": [
    "try:\n",
    "    \"4\" + 5\n",
    "except:\n",
    "    print(\"Hatayı gösterme bana. Sadece çalış\")\n",
    "    print(\"4\"+5)"
   ]
  },
  {
   "cell_type": "code",
   "execution_count": 19,
   "metadata": {},
   "outputs": [
    {
     "name": "stdout",
     "output_type": "stream",
     "text": [
      "44444\n"
     ]
    }
   ],
   "source": [
    "try:\n",
    "    print(\"4\" * 5)\n",
    "except:\n",
    "    print(\"Hatayı gösterme bana. Sadece çalış\")\n"
   ]
  },
  {
   "cell_type": "code",
   "execution_count": 20,
   "metadata": {},
   "outputs": [
    {
     "name": "stdout",
     "output_type": "stream",
     "text": [
      "Hata TypeError olduğu için ben çalıştım\n"
     ]
    }
   ],
   "source": [
    "try:\n",
    "    print(\"4\" + 5)\n",
    "except TypeError:\n",
    "    print(\"Hata TypeError olduğu için ben çalıştım\")"
   ]
  },
  {
   "cell_type": "code",
   "execution_count": 21,
   "metadata": {},
   "outputs": [
    {
     "ename": "TypeError",
     "evalue": "can only concatenate str (not \"int\") to str",
     "output_type": "error",
     "traceback": [
      "\u001b[1;31m---------------------------------------------------------------------------\u001b[0m",
      "\u001b[1;31mTypeError\u001b[0m                                 Traceback (most recent call last)",
      "\u001b[1;32mc:\\Users\\Techpro\\Desktop\\AdvancePython\\session_21_20_10_2023.ipynb Cell 12\u001b[0m line \u001b[0;36m2\n\u001b[0;32m      <a href='vscode-notebook-cell:/c%3A/Users/Techpro/Desktop/AdvancePython/session_21_20_10_2023.ipynb#X14sZmlsZQ%3D%3D?line=0'>1</a>\u001b[0m \u001b[39mtry\u001b[39;00m:\n\u001b[1;32m----> <a href='vscode-notebook-cell:/c%3A/Users/Techpro/Desktop/AdvancePython/session_21_20_10_2023.ipynb#X14sZmlsZQ%3D%3D?line=1'>2</a>\u001b[0m     \u001b[39mprint\u001b[39m(\u001b[39m\"\u001b[39;49m\u001b[39m4\u001b[39;49m\u001b[39m\"\u001b[39;49m \u001b[39m+\u001b[39;49m \u001b[39m5\u001b[39;49m)\n\u001b[0;32m      <a href='vscode-notebook-cell:/c%3A/Users/Techpro/Desktop/AdvancePython/session_21_20_10_2023.ipynb#X14sZmlsZQ%3D%3D?line=2'>3</a>\u001b[0m \u001b[39mexcept\u001b[39;00m \u001b[39mNameError\u001b[39;00m:\n\u001b[0;32m      <a href='vscode-notebook-cell:/c%3A/Users/Techpro/Desktop/AdvancePython/session_21_20_10_2023.ipynb#X14sZmlsZQ%3D%3D?line=3'>4</a>\u001b[0m     \u001b[39mprint\u001b[39m(\u001b[39m\"\u001b[39m\u001b[39mHata NameError olduğu için ben çalıştım\u001b[39m\u001b[39m\"\u001b[39m)\n",
      "\u001b[1;31mTypeError\u001b[0m: can only concatenate str (not \"int\") to str"
     ]
    }
   ],
   "source": [
    "try:\n",
    "    print(\"4\" + 5)\n",
    "except NameError:\n",
    "    print(\"Hata NameError olduğu için ben çalıştım\")"
   ]
  },
  {
   "cell_type": "code",
   "execution_count": 22,
   "metadata": {},
   "outputs": [
    {
     "name": "stdout",
     "output_type": "stream",
     "text": [
      "Hata TypeError olduğu için ben çalıştım\n"
     ]
    }
   ],
   "source": [
    "try:\n",
    "    print(\"4\" + 5)\n",
    "except NameError:\n",
    "    print(\"Hata NameError olduğu için ben çalıştım\")\n",
    "except TypeError:\n",
    "    print(\"Hata TypeError olduğu için ben çalıştım\")"
   ]
  },
  {
   "cell_type": "code",
   "execution_count": 24,
   "metadata": {},
   "outputs": [
    {
     "ename": "ValueError",
     "evalue": "invalid literal for int() with base 10: 'k'",
     "output_type": "error",
     "traceback": [
      "\u001b[1;31m---------------------------------------------------------------------------\u001b[0m",
      "\u001b[1;31mValueError\u001b[0m                                Traceback (most recent call last)",
      "\u001b[1;32mc:\\Users\\Techpro\\Desktop\\AdvancePython\\session_21_20_10_2023.ipynb Cell 14\u001b[0m line \u001b[0;36m2\n\u001b[0;32m      <a href='vscode-notebook-cell:/c%3A/Users/Techpro/Desktop/AdvancePython/session_21_20_10_2023.ipynb#X16sZmlsZQ%3D%3D?line=0'>1</a>\u001b[0m x \u001b[39m=\u001b[39m \u001b[39mint\u001b[39m(\u001b[39minput\u001b[39m(\u001b[39m\"\u001b[39m\u001b[39mBir sayı giriniz\u001b[39m\u001b[39m\"\u001b[39m))\n\u001b[1;32m----> <a href='vscode-notebook-cell:/c%3A/Users/Techpro/Desktop/AdvancePython/session_21_20_10_2023.ipynb#X16sZmlsZQ%3D%3D?line=1'>2</a>\u001b[0m y \u001b[39m=\u001b[39m \u001b[39mint\u001b[39;49m(\u001b[39minput\u001b[39;49m(\u001b[39m\"\u001b[39;49m\u001b[39mBaşka bir sayı giriniz\u001b[39;49m\u001b[39m\"\u001b[39;49m))\n\u001b[0;32m      <a href='vscode-notebook-cell:/c%3A/Users/Techpro/Desktop/AdvancePython/session_21_20_10_2023.ipynb#X16sZmlsZQ%3D%3D?line=3'>4</a>\u001b[0m \u001b[39mtry\u001b[39;00m:\n\u001b[0;32m      <a href='vscode-notebook-cell:/c%3A/Users/Techpro/Desktop/AdvancePython/session_21_20_10_2023.ipynb#X16sZmlsZQ%3D%3D?line=4'>5</a>\u001b[0m     \u001b[39mprint\u001b[39m(x \u001b[39m/\u001b[39m y)\n",
      "\u001b[1;31mValueError\u001b[0m: invalid literal for int() with base 10: 'k'"
     ]
    }
   ],
   "source": [
    "x = int(input(\"Bir sayı giriniz\"))\n",
    "y = int(input(\"Başka bir sayı giriniz\"))\n",
    "\n",
    "try:\n",
    "    print(x / y)\n",
    "except:\n",
    "    print(\"Bu yazıyı görüyorsanız sayılarda hata var demektir.\")"
   ]
  },
  {
   "cell_type": "code",
   "execution_count": 27,
   "metadata": {},
   "outputs": [
    {
     "name": "stdout",
     "output_type": "stream",
     "text": [
      "Bu yazıyı görüyorsanız sayılarda hata var demektir.\n"
     ]
    }
   ],
   "source": [
    "x = input(\"Bir sayı giriniz\")\n",
    "y = input(\"Başka bir sayı giriniz\")\n",
    "\n",
    "try:\n",
    "    print(int(x) / int(y))\n",
    "except:\n",
    "    print(\"Bu yazıyı görüyorsanız sayılarda hata var demektir.\")"
   ]
  },
  {
   "cell_type": "code",
   "execution_count": 29,
   "metadata": {},
   "outputs": [
    {
     "name": "stdout",
     "output_type": "stream",
     "text": [
      "Lütfen sayıyı tamsayı formatında giriniz...\n"
     ]
    }
   ],
   "source": [
    "x = input(\"Bir sayı giriniz\")\n",
    "y = input(\"Başka bir sayı giriniz\")\n",
    "\n",
    "try:\n",
    "    print(int(x) / int(y))\n",
    "except ValueError:\n",
    "    print(\"Lütfen sayıyı tamsayı formatında giriniz...\")"
   ]
  },
  {
   "cell_type": "code",
   "execution_count": 30,
   "metadata": {},
   "outputs": [
    {
     "ename": "ZeroDivisionError",
     "evalue": "division by zero",
     "output_type": "error",
     "traceback": [
      "\u001b[1;31m---------------------------------------------------------------------------\u001b[0m",
      "\u001b[1;31mZeroDivisionError\u001b[0m                         Traceback (most recent call last)",
      "\u001b[1;32mc:\\Users\\Techpro\\Desktop\\AdvancePython\\session_21_20_10_2023.ipynb Cell 17\u001b[0m line \u001b[0;36m1\n\u001b[1;32m----> <a href='vscode-notebook-cell:/c%3A/Users/Techpro/Desktop/AdvancePython/session_21_20_10_2023.ipynb#X22sZmlsZQ%3D%3D?line=0'>1</a>\u001b[0m \u001b[39m8\u001b[39;49m \u001b[39m/\u001b[39;49m \u001b[39m0\u001b[39;49m\n",
      "\u001b[1;31mZeroDivisionError\u001b[0m: division by zero"
     ]
    }
   ],
   "source": [
    "8 / 0"
   ]
  },
  {
   "cell_type": "code",
   "execution_count": 32,
   "metadata": {},
   "outputs": [
    {
     "name": "stdout",
     "output_type": "stream",
     "text": [
      "Lütfen sayıyı tamsayı formatında giriniz ve ikinci sayıyı sıfır girmeyiniz...\n"
     ]
    }
   ],
   "source": [
    "x = input(\"Bir sayı giriniz\")\n",
    "y = input(\"Başka bir sayı giriniz\")\n",
    "\n",
    "try:\n",
    "    print(int(x) / int(y))\n",
    "except (ValueError, ZeroDivisionError):\n",
    "    print(\"Lütfen sayıyı tamsayı formatında giriniz ve ikinci sayıyı sıfır girmeyiniz...\")"
   ]
  },
  {
   "cell_type": "code",
   "execution_count": 36,
   "metadata": {},
   "outputs": [
    {
     "name": "stdout",
     "output_type": "stream",
     "text": [
      "Lütfen sayıyı tamsayı formatında giriniz...\n"
     ]
    }
   ],
   "source": [
    "x = input(\"Bir sayı giriniz\")\n",
    "y = input(\"Başka bir sayı giriniz\")\n",
    "\n",
    "try:\n",
    "    print(int(x) / int(y))\n",
    "except ValueError:\n",
    "    print(\"Lütfen sayıyı tamsayı formatında giriniz...\")\n",
    "except ZeroDivisionError:\n",
    "    print(\"Sıfır ile bölmek mümkün değil.\")"
   ]
  },
  {
   "cell_type": "code",
   "execution_count": 37,
   "metadata": {},
   "outputs": [
    {
     "name": "stdout",
     "output_type": "stream",
     "text": [
      "Sıfır ile bölmek mümkün değil\n"
     ]
    }
   ],
   "source": [
    "x = input(\"Bir sayı giriniz\")\n",
    "y = input(\"Başka bir sayı giriniz\")\n",
    "try:\n",
    "    print(int(x) / int(y))\n",
    "except NameError:\n",
    "    print(\"Hata NAmeError olduğu için ben çalıştım\")\n",
    "except ZeroDivisionError: # try blogu ıcerısınde hatalı ise except kodu çalışıyor yoks try calısıyor\n",
    "    print(\"Sıfır ile bölmek mümkün değil\")"
   ]
  },
  {
   "cell_type": "code",
   "execution_count": 38,
   "metadata": {},
   "outputs": [
    {
     "ename": "NameError",
     "evalue": "name 'a' is not defined",
     "output_type": "error",
     "traceback": [
      "\u001b[1;31m---------------------------------------------------------------------------\u001b[0m",
      "\u001b[1;31mNameError\u001b[0m                                 Traceback (most recent call last)",
      "\u001b[1;32mc:\\Users\\Techpro\\Desktop\\AdvancePython\\session_21_20_10_2023.ipynb Cell 21\u001b[0m line \u001b[0;36m5\n\u001b[0;32m      <a href='vscode-notebook-cell:/c%3A/Users/Techpro/Desktop/AdvancePython/session_21_20_10_2023.ipynb#X26sZmlsZQ%3D%3D?line=1'>2</a>\u001b[0m y \u001b[39m=\u001b[39m \u001b[39minput\u001b[39m(\u001b[39m\"\u001b[39m\u001b[39mBaşka bir sayı giriniz\u001b[39m\u001b[39m\"\u001b[39m)\n\u001b[0;32m      <a href='vscode-notebook-cell:/c%3A/Users/Techpro/Desktop/AdvancePython/session_21_20_10_2023.ipynb#X26sZmlsZQ%3D%3D?line=3'>4</a>\u001b[0m \u001b[39mtry\u001b[39;00m:\n\u001b[1;32m----> <a href='vscode-notebook-cell:/c%3A/Users/Techpro/Desktop/AdvancePython/session_21_20_10_2023.ipynb#X26sZmlsZQ%3D%3D?line=4'>5</a>\u001b[0m     \u001b[39mprint\u001b[39m(\u001b[39mint\u001b[39m(a) \u001b[39m/\u001b[39m \u001b[39mint\u001b[39m(y))\n\u001b[0;32m      <a href='vscode-notebook-cell:/c%3A/Users/Techpro/Desktop/AdvancePython/session_21_20_10_2023.ipynb#X26sZmlsZQ%3D%3D?line=5'>6</a>\u001b[0m \u001b[39mexcept\u001b[39;00m \u001b[39mValueError\u001b[39;00m:\n\u001b[0;32m      <a href='vscode-notebook-cell:/c%3A/Users/Techpro/Desktop/AdvancePython/session_21_20_10_2023.ipynb#X26sZmlsZQ%3D%3D?line=6'>7</a>\u001b[0m     \u001b[39mprint\u001b[39m(\u001b[39m\"\u001b[39m\u001b[39mLütfen sayıyı tamsayı formatında giriniz...\u001b[39m\u001b[39m\"\u001b[39m)\n",
      "\u001b[1;31mNameError\u001b[0m: name 'a' is not defined"
     ]
    }
   ],
   "source": [
    "x = input(\"Bir sayı giriniz\")\n",
    "y = input(\"Başka bir sayı giriniz\")\n",
    "\n",
    "try:\n",
    "    print(int(a) / int(y))\n",
    "except ValueError:\n",
    "    print(\"Lütfen sayıyı tamsayı formatında giriniz...\")\n",
    "except ZeroDivisionError:\n",
    "    print(\"Sıfır ile bölmek mümkün değil.\")"
   ]
  },
  {
   "cell_type": "code",
   "execution_count": 39,
   "metadata": {},
   "outputs": [
    {
     "name": "stdout",
     "output_type": "stream",
     "text": [
      "Hatanın ne olduğunu ben de bilmiyorum\n"
     ]
    }
   ],
   "source": [
    "x = input(\"Bir sayı giriniz\")\n",
    "y = input(\"Başka bir sayı giriniz\")\n",
    "\n",
    "try:\n",
    "    print(int(a) / int(y))\n",
    "except ValueError:\n",
    "    print(\"Lütfen sayıyı tamsayı formatında giriniz...\")\n",
    "except ZeroDivisionError:\n",
    "    print(\"Sıfır ile bölmek mümkün değil.\")\n",
    "except:\n",
    "    print(\"Hatanın ne olduğunu ben de bilmiyorum\")"
   ]
  },
  {
   "cell_type": "code",
   "execution_count": 40,
   "metadata": {},
   "outputs": [
    {
     "name": "stdout",
     "output_type": "stream",
     "text": [
      "Hatanın ne olduğunu ben de bilmiyorum\n",
      "buradaki hata: name 'a' is not defined\n"
     ]
    }
   ],
   "source": [
    "x = input(\"Bir sayı giriniz\")\n",
    "y = input(\"Başka bir sayı giriniz\")\n",
    "\n",
    "try:\n",
    "    print(int(a) / int(y))\n",
    "except ValueError:\n",
    "    print(\"Lütfen sayıyı tamsayı formatında giriniz...\")\n",
    "except ZeroDivisionError:\n",
    "    print(\"Sıfır ile bölmek mümkün değil.\")\n",
    "except Exception as hata:\n",
    "    print(\"Hatanın ne olduğunu ben de bilmiyorum\")\n",
    "    print(f\"buradaki hata: {hata}\")"
   ]
  },
  {
   "cell_type": "code",
   "execution_count": 43,
   "metadata": {},
   "outputs": [
    {
     "name": "stdout",
     "output_type": "stream",
     "text": [
      "Lütfen sayıyı tamsayı formatında giriniz...\n"
     ]
    }
   ],
   "source": [
    "x = input(\"Bir sayı giriniz\")\n",
    "y = input(\"Başka bir sayı giriniz\")\n",
    "\n",
    "try:\n",
    "    a = int(x) / int(y)\n",
    "except ValueError:\n",
    "    print(\"Lütfen sayıyı tamsayı formatında giriniz...\")\n",
    "except ZeroDivisionError:\n",
    "    print(\"Sıfır ile bölmek mümkün değil.\")\n",
    "else:\n",
    "    print(a ** 2)"
   ]
  },
  {
   "cell_type": "markdown",
   "metadata": {},
   "source": [
    "kullanıcıdan 2 sayı alın. \n",
    "sayıları birbirine bölün. \n",
    "bölünmüş halini listeye ekleyin.\n",
    "Liste de 3 eleman olana kadar işlemi yapın."
   ]
  },
  {
   "cell_type": "code",
   "execution_count": 47,
   "metadata": {},
   "outputs": [
    {
     "name": "stdout",
     "output_type": "stream",
     "text": [
      "Hatalı giriş yaptınız. Lütfen rakamlar giriniz.\n",
      "[15.0, 30.0, 5.0]\n"
     ]
    }
   ],
   "source": [
    "liste = []\n",
    "\n",
    "while True:\n",
    "\n",
    "    x = input(\"Bir sayı giriniz.\")\n",
    "    y = input(\"Başka bir sayı giriniz.\")\n",
    "\n",
    "    try:\n",
    "        a = int(x) / int(y)\n",
    "    except ValueError:\n",
    "        print(\"Hatalı giriş yaptınız. Lütfen rakamlar giriniz.\")\n",
    "    except ZeroDivisionError:\n",
    "        print(\"Sayı 0'a bölünemez.\")\n",
    "    else:\n",
    "        liste.append(a)\n",
    "\n",
    "    if len(liste) == 3:\n",
    "        break\n",
    "\n",
    "print(liste)"
   ]
  },
  {
   "cell_type": "markdown",
   "metadata": {},
   "source": [
    "Kullanıcıdan bir sayı alın ve karesini bulun."
   ]
  },
  {
   "cell_type": "code",
   "execution_count": 48,
   "metadata": {},
   "outputs": [
    {
     "name": "stdout",
     "output_type": "stream",
     "text": [
      "Hatalı giriş yaptınız. Tekrar bir sayı girin\n",
      "Hatalı giriş yaptınız. Tekrar bir sayı girin\n",
      "25\n"
     ]
    }
   ],
   "source": [
    "while True:\n",
    "    try:\n",
    "        x = int(input(\"Bir sayı giriniz\"))\n",
    "        break\n",
    "    except:\n",
    "        print(\"Hatalı giriş yaptınız. Tekrar bir sayı girin\")\n",
    "\n",
    "print(x ** 2)"
   ]
  },
  {
   "cell_type": "markdown",
   "metadata": {},
   "source": [
    "#### finally"
   ]
  },
  {
   "cell_type": "code",
   "execution_count": 50,
   "metadata": {},
   "outputs": [
    {
     "name": "stdout",
     "output_type": "stream",
     "text": [
      "Bölüm değeri sıfır olamaz.\n",
      "Bu her halde çalışacak amacı veritabanı bağlantısını kesmek\n"
     ]
    }
   ],
   "source": [
    "try:\n",
    "    a = int(input(\"Lütfen birinci sayıyı giriniz:\"))\n",
    "    b = int(input(\"Lütfen ikinci sayıyı giriniz:\"))\n",
    "    print(a / b)\n",
    "except ValueError:\n",
    "    print(\"Lütfen tamsayı değeri giriniz\")\n",
    "except ZeroDivisionError:\n",
    "    print(\"Bölüm değeri sıfır olamaz.\")\n",
    "\n",
    "finally:\n",
    "    print(\"Bu her halde çalışacak amacı veritabanı bağlantısını kesmek\")"
   ]
  },
  {
   "cell_type": "code",
   "execution_count": 53,
   "metadata": {},
   "outputs": [
    {
     "name": "stdout",
     "output_type": "stream",
     "text": [
      "0.0\n",
      "Beni kimse durduramaz. Ben hep çalışırım.\n"
     ]
    }
   ],
   "source": [
    "while True: \n",
    "    \n",
    "    x = input(\"Bir sayı girin\")\n",
    "    y = input(\"Başka bir sayı girin\")\n",
    "\n",
    "    try:\n",
    "        a = int(x) / int(y)\n",
    "    except ValueError:\n",
    "        print(\"Bu yazıyı görüyarsanız tamsayı formatında değer girmemişsiniz demektir.\")\n",
    "    except ZeroDivisionError:\n",
    "        print(\"Bu yazıyı görüyarsanız ikinci girdiğiniz değer sıfırdır.\")\n",
    "    else:\n",
    "        print(a ** 2)\n",
    "        break\n",
    "    finally:\n",
    "        print(\"Beni kimse durduramaz. Ben hep çalışırım.\")"
   ]
  },
  {
   "cell_type": "markdown",
   "metadata": {},
   "source": [
    "liste = [5, \"aa15\" , 15 , \"asdeddcds48\", 48 ] listenin içindeki int elemanları döndüren try except li kodu yazın."
   ]
  },
  {
   "cell_type": "code",
   "execution_count": 56,
   "metadata": {},
   "outputs": [
    {
     "name": "stdout",
     "output_type": "stream",
     "text": [
      "Buradaki hata invalid literal for int() with base 10: 'aa15'\n",
      "Buradaki hata invalid literal for int() with base 10: 'asdeddcds48'\n",
      "[5, 15, 48]\n"
     ]
    }
   ],
   "source": [
    "liste = [5, \"aa15\" , 15 , \"asdeddcds48\", 48]\n",
    "new_list = []\n",
    "\n",
    "for i in liste:\n",
    "    try:\n",
    "        x = int(i)\n",
    "        \n",
    "    except Exception as hata:\n",
    "        print(f\"Buradaki hata {hata}\")\n",
    "        continue\n",
    "    else:\n",
    "        new_list.append(i)\n",
    "\n",
    "print(new_list)"
   ]
  },
  {
   "cell_type": "markdown",
   "metadata": {},
   "source": [
    "Bir faktöriyel fonksiyonu yazın, try except bloğu kullanarak. fonksiyonu çalıştırdığınızı gösterin"
   ]
  },
  {
   "cell_type": "code",
   "execution_count": 57,
   "metadata": {},
   "outputs": [],
   "source": [
    "def faktoriyel(x):\n",
    "    try:\n",
    "        assert x >= 0, \"Negatif sayıların faktöriyeli aranmaz.\"\n",
    "        carpim = 1\n",
    "        for i in range(x, 0, -1):\n",
    "            carpim *= i\n",
    "        return carpim\n",
    "    except Exception as hata:\n",
    "        return hata"
   ]
  },
  {
   "cell_type": "code",
   "execution_count": 58,
   "metadata": {},
   "outputs": [
    {
     "data": {
      "text/plain": [
       "120"
      ]
     },
     "execution_count": 58,
     "metadata": {},
     "output_type": "execute_result"
    }
   ],
   "source": [
    "faktoriyel(5)"
   ]
  },
  {
   "cell_type": "code",
   "execution_count": 59,
   "metadata": {},
   "outputs": [
    {
     "data": {
      "text/plain": [
       "AssertionError('Negatif sayıların faktöriyeli aranmaz.')"
      ]
     },
     "execution_count": 59,
     "metadata": {},
     "output_type": "execute_result"
    }
   ],
   "source": [
    "faktoriyel(-5)"
   ]
  },
  {
   "cell_type": "code",
   "execution_count": 60,
   "metadata": {},
   "outputs": [],
   "source": [
    "def faktoriyel(x):\n",
    "    assert x >= 0, \"Negatif sayıların faktöriyeli aranmaz.\"\n",
    "    carpim = 1\n",
    "    for i in range(x, 0, -1):\n",
    "        carpim *= i\n",
    "    return carpim\n"
   ]
  },
  {
   "cell_type": "code",
   "execution_count": 61,
   "metadata": {},
   "outputs": [
    {
     "ename": "AssertionError",
     "evalue": "Negatif sayıların faktöriyeli aranmaz.",
     "output_type": "error",
     "traceback": [
      "\u001b[1;31m---------------------------------------------------------------------------\u001b[0m",
      "\u001b[1;31mAssertionError\u001b[0m                            Traceback (most recent call last)",
      "\u001b[1;32mc:\\Users\\Techpro\\Desktop\\AdvancePython\\session_21_20_10_2023.ipynb Cell 39\u001b[0m line \u001b[0;36m1\n\u001b[1;32m----> <a href='vscode-notebook-cell:/c%3A/Users/Techpro/Desktop/AdvancePython/session_21_20_10_2023.ipynb#X53sZmlsZQ%3D%3D?line=0'>1</a>\u001b[0m faktoriyel(\u001b[39m-\u001b[39;49m\u001b[39m2\u001b[39;49m)\n",
      "\u001b[1;32mc:\\Users\\Techpro\\Desktop\\AdvancePython\\session_21_20_10_2023.ipynb Cell 39\u001b[0m line \u001b[0;36m2\n\u001b[0;32m      <a href='vscode-notebook-cell:/c%3A/Users/Techpro/Desktop/AdvancePython/session_21_20_10_2023.ipynb#X53sZmlsZQ%3D%3D?line=0'>1</a>\u001b[0m \u001b[39mdef\u001b[39;00m \u001b[39mfaktoriyel\u001b[39m(x):\n\u001b[1;32m----> <a href='vscode-notebook-cell:/c%3A/Users/Techpro/Desktop/AdvancePython/session_21_20_10_2023.ipynb#X53sZmlsZQ%3D%3D?line=1'>2</a>\u001b[0m     \u001b[39massert\u001b[39;00m x \u001b[39m>\u001b[39m\u001b[39m=\u001b[39m \u001b[39m0\u001b[39m, \u001b[39m\"\u001b[39m\u001b[39mNegatif sayıların faktöriyeli aranmaz.\u001b[39m\u001b[39m\"\u001b[39m\n\u001b[0;32m      <a href='vscode-notebook-cell:/c%3A/Users/Techpro/Desktop/AdvancePython/session_21_20_10_2023.ipynb#X53sZmlsZQ%3D%3D?line=2'>3</a>\u001b[0m     carpim \u001b[39m=\u001b[39m \u001b[39m1\u001b[39m\n\u001b[0;32m      <a href='vscode-notebook-cell:/c%3A/Users/Techpro/Desktop/AdvancePython/session_21_20_10_2023.ipynb#X53sZmlsZQ%3D%3D?line=3'>4</a>\u001b[0m     \u001b[39mfor\u001b[39;00m i \u001b[39min\u001b[39;00m \u001b[39mrange\u001b[39m(x, \u001b[39m0\u001b[39m, \u001b[39m-\u001b[39m\u001b[39m1\u001b[39m):\n",
      "\u001b[1;31mAssertionError\u001b[0m: Negatif sayıların faktöriyeli aranmaz."
     ]
    }
   ],
   "source": [
    "faktoriyel(-2)"
   ]
  },
  {
   "cell_type": "code",
   "execution_count": 63,
   "metadata": {},
   "outputs": [
    {
     "name": "stdout",
     "output_type": "stream",
     "text": [
      "girdiğiniz sayı: -15\n"
     ]
    },
    {
     "ename": "AssertionError",
     "evalue": "Sayı pozitif olmalıdır",
     "output_type": "error",
     "traceback": [
      "\u001b[1;31m---------------------------------------------------------------------------\u001b[0m",
      "\u001b[1;31mAssertionError\u001b[0m                            Traceback (most recent call last)",
      "\u001b[1;32mc:\\Users\\Techpro\\Desktop\\AdvancePython\\session_21_20_10_2023.ipynb Cell 40\u001b[0m line \u001b[0;36m3\n\u001b[0;32m      <a href='vscode-notebook-cell:/c%3A/Users/Techpro/Desktop/AdvancePython/session_21_20_10_2023.ipynb#X54sZmlsZQ%3D%3D?line=0'>1</a>\u001b[0m sayi \u001b[39m=\u001b[39m \u001b[39mint\u001b[39m(\u001b[39minput\u001b[39m(\u001b[39m\"\u001b[39m\u001b[39mLütfen bir sayı giriniz:\u001b[39m\u001b[39m\"\u001b[39m))\n\u001b[0;32m      <a href='vscode-notebook-cell:/c%3A/Users/Techpro/Desktop/AdvancePython/session_21_20_10_2023.ipynb#X54sZmlsZQ%3D%3D?line=1'>2</a>\u001b[0m \u001b[39mprint\u001b[39m(\u001b[39m\"\u001b[39m\u001b[39mgirdiğiniz sayı:\u001b[39m\u001b[39m\"\u001b[39m, sayi)\n\u001b[1;32m----> <a href='vscode-notebook-cell:/c%3A/Users/Techpro/Desktop/AdvancePython/session_21_20_10_2023.ipynb#X54sZmlsZQ%3D%3D?line=2'>3</a>\u001b[0m \u001b[39massert\u001b[39;00m sayi \u001b[39m>\u001b[39m \u001b[39m0\u001b[39m, \u001b[39m\"\u001b[39m\u001b[39mSayı pozitif olmalıdır\u001b[39m\u001b[39m\"\u001b[39m\n",
      "\u001b[1;31mAssertionError\u001b[0m: Sayı pozitif olmalıdır"
     ]
    }
   ],
   "source": [
    "sayi = int(input(\"Lütfen bir sayı giriniz:\"))\n",
    "print(\"girdiğiniz sayı:\", sayi)\n",
    "assert sayi > 0, \"Sayı pozitif olmalıdır\""
   ]
  },
  {
   "cell_type": "code",
   "execution_count": 65,
   "metadata": {},
   "outputs": [
    {
     "ename": "AssertionError",
     "evalue": "kelime kelimesi metinde bulunamadı",
     "output_type": "error",
     "traceback": [
      "\u001b[1;31m---------------------------------------------------------------------------\u001b[0m",
      "\u001b[1;31mAssertionError\u001b[0m                            Traceback (most recent call last)",
      "\u001b[1;32mc:\\Users\\Techpro\\Desktop\\AdvancePython\\session_21_20_10_2023.ipynb Cell 41\u001b[0m line \u001b[0;36m4\n\u001b[0;32m      <a href='vscode-notebook-cell:/c%3A/Users/Techpro/Desktop/AdvancePython/session_21_20_10_2023.ipynb#X55sZmlsZQ%3D%3D?line=0'>1</a>\u001b[0m metin \u001b[39m=\u001b[39m \u001b[39m\"\u001b[39m\u001b[39mMerhaba, bu bir örnek metindir.\u001b[39m\u001b[39m\"\u001b[39m\n\u001b[0;32m      <a href='vscode-notebook-cell:/c%3A/Users/Techpro/Desktop/AdvancePython/session_21_20_10_2023.ipynb#X55sZmlsZQ%3D%3D?line=1'>2</a>\u001b[0m aranan_kelime \u001b[39m=\u001b[39m \u001b[39m\"\u001b[39m\u001b[39mkelime\u001b[39m\u001b[39m\"\u001b[39m\n\u001b[1;32m----> <a href='vscode-notebook-cell:/c%3A/Users/Techpro/Desktop/AdvancePython/session_21_20_10_2023.ipynb#X55sZmlsZQ%3D%3D?line=3'>4</a>\u001b[0m \u001b[39massert\u001b[39;00m aranan_kelime \u001b[39min\u001b[39;00m metin, \u001b[39mf\u001b[39m\u001b[39m\"\u001b[39m\u001b[39m{\u001b[39;00maranan_kelime\u001b[39m}\u001b[39;00m\u001b[39m kelimesi metinde bulunamadı\u001b[39m\u001b[39m\"\u001b[39m\n",
      "\u001b[1;31mAssertionError\u001b[0m: kelime kelimesi metinde bulunamadı"
     ]
    }
   ],
   "source": [
    "metin = \"Merhaba, bu bir örnek metindir.\"\n",
    "aranan_kelime = \"kelime\"\n",
    "\n",
    "assert aranan_kelime in metin, f\"{aranan_kelime} kelimesi metinde bulunamadı\""
   ]
  },
  {
   "cell_type": "code",
   "execution_count": 66,
   "metadata": {},
   "outputs": [
    {
     "ename": "AssertionError",
     "evalue": "İsim bölümü boş bırakılamaz",
     "output_type": "error",
     "traceback": [
      "\u001b[1;31m---------------------------------------------------------------------------\u001b[0m",
      "\u001b[1;31mAssertionError\u001b[0m                            Traceback (most recent call last)",
      "\u001b[1;32mc:\\Users\\Techpro\\Desktop\\AdvancePython\\session_21_20_10_2023.ipynb Cell 42\u001b[0m line \u001b[0;36m3\n\u001b[0;32m      <a href='vscode-notebook-cell:/c%3A/Users/Techpro/Desktop/AdvancePython/session_21_20_10_2023.ipynb#X56sZmlsZQ%3D%3D?line=0'>1</a>\u001b[0m giris \u001b[39m=\u001b[39m \u001b[39minput\u001b[39m(\u001b[39m\"\u001b[39m\u001b[39mMerhaba! Adın ne?\u001b[39m\u001b[39m\"\u001b[39m)\n\u001b[0;32m      <a href='vscode-notebook-cell:/c%3A/Users/Techpro/Desktop/AdvancePython/session_21_20_10_2023.ipynb#X56sZmlsZQ%3D%3D?line=1'>2</a>\u001b[0m \u001b[39mif\u001b[39;00m \u001b[39mlen\u001b[39m(giris) \u001b[39m==\u001b[39m \u001b[39m0\u001b[39m:\n\u001b[1;32m----> <a href='vscode-notebook-cell:/c%3A/Users/Techpro/Desktop/AdvancePython/session_21_20_10_2023.ipynb#X56sZmlsZQ%3D%3D?line=2'>3</a>\u001b[0m     \u001b[39mraise\u001b[39;00m \u001b[39mAssertionError\u001b[39;00m(\u001b[39m\"\u001b[39m\u001b[39mİsim bölümü boş bırakılamaz\u001b[39m\u001b[39m\"\u001b[39m)\n",
      "\u001b[1;31mAssertionError\u001b[0m: İsim bölümü boş bırakılamaz"
     ]
    }
   ],
   "source": [
    "giris = input(\"Merhaba! Adın ne?\")\n",
    "if len(giris) == 0:\n",
    "    raise AssertionError(\"İsim bölümü boş bırakılamaz\")"
   ]
  },
  {
   "cell_type": "code",
   "execution_count": 67,
   "metadata": {},
   "outputs": [
    {
     "ename": "AssertionError",
     "evalue": "İsim bölümü boş bırakılamaz",
     "output_type": "error",
     "traceback": [
      "\u001b[1;31m---------------------------------------------------------------------------\u001b[0m",
      "\u001b[1;31mAssertionError\u001b[0m                            Traceback (most recent call last)",
      "\u001b[1;32mc:\\Users\\Techpro\\Desktop\\AdvancePython\\session_21_20_10_2023.ipynb Cell 43\u001b[0m line \u001b[0;36m2\n\u001b[0;32m      <a href='vscode-notebook-cell:/c%3A/Users/Techpro/Desktop/AdvancePython/session_21_20_10_2023.ipynb#X60sZmlsZQ%3D%3D?line=0'>1</a>\u001b[0m giris \u001b[39m=\u001b[39m \u001b[39minput\u001b[39m(\u001b[39m\"\u001b[39m\u001b[39mMerhaba! Adın ne?\u001b[39m\u001b[39m\"\u001b[39m)\n\u001b[1;32m----> <a href='vscode-notebook-cell:/c%3A/Users/Techpro/Desktop/AdvancePython/session_21_20_10_2023.ipynb#X60sZmlsZQ%3D%3D?line=1'>2</a>\u001b[0m \u001b[39massert\u001b[39;00m \u001b[39mlen\u001b[39m(giris) \u001b[39m!=\u001b[39m \u001b[39m0\u001b[39m, \u001b[39m\"\u001b[39m\u001b[39mİsim bölümü boş bırakılamaz\u001b[39m\u001b[39m\"\u001b[39m\n\u001b[0;32m      <a href='vscode-notebook-cell:/c%3A/Users/Techpro/Desktop/AdvancePython/session_21_20_10_2023.ipynb#X60sZmlsZQ%3D%3D?line=2'>3</a>\u001b[0m \u001b[39mprint\u001b[39m(\u001b[39m\"\u001b[39m\u001b[39mHoş geldiniz\u001b[39m\u001b[39m\"\u001b[39m)\n",
      "\u001b[1;31mAssertionError\u001b[0m: İsim bölümü boş bırakılamaz"
     ]
    }
   ],
   "source": [
    "giris = input(\"Merhaba! Adın ne?\")\n",
    "assert len(giris) != 0, \"İsim bölümü boş bırakılamaz\"\n",
    "print(\"Hoş geldiniz\")"
   ]
  },
  {
   "cell_type": "markdown",
   "metadata": {},
   "source": [
    "### **raise**\n",
    "\n",
    "Bazen, yazdığımız bir programda, kullanıcının yaptığı bir işlem normal şartlar altında hata vermeyecek olsa bile biz ona ‘Python tarzı’ bir hata mesajı göstermek isteyebiliriz. Böyle bir durumda ihtiyacımız olan şey Python’ın bize sunduğu raise adlı deyimdir. Bu deyim yardımıyla duruma özgü hata mesajları üretebiliriz."
   ]
  },
  {
   "cell_type": "code",
   "execution_count": 69,
   "metadata": {},
   "outputs": [
    {
     "name": "stdout",
     "output_type": "stream",
     "text": [
      "25 / 5 = 5.0\n"
     ]
    }
   ],
   "source": [
    "bolunen = int(input(\"bölünecek sayıyı giriniz\"))\n",
    "\n",
    "if bolunen == 46:\n",
    "    raise Exception(\"Bu programda 46 sayısını görmek istemiyorum!\")\n",
    "\n",
    "bolen = int(input(\"bölen sayıyı giriniz\"))\n",
    "print(f\"{bolunen} / {bolen} = {bolunen/bolen}\")"
   ]
  },
  {
   "cell_type": "code",
   "execution_count": 71,
   "metadata": {},
   "outputs": [
    {
     "ename": "TypeError",
     "evalue": "Parolada Türkçe karakter kullanılamaz!",
     "output_type": "error",
     "traceback": [
      "\u001b[1;31m---------------------------------------------------------------------------\u001b[0m",
      "\u001b[1;31mTypeError\u001b[0m                                 Traceback (most recent call last)",
      "\u001b[1;32mc:\\Users\\Techpro\\Desktop\\AdvancePython\\session_21_20_10_2023.ipynb Cell 46\u001b[0m line \u001b[0;36m7\n\u001b[0;32m      <a href='vscode-notebook-cell:/c%3A/Users/Techpro/Desktop/AdvancePython/session_21_20_10_2023.ipynb#X63sZmlsZQ%3D%3D?line=4'>5</a>\u001b[0m \u001b[39mfor\u001b[39;00m i \u001b[39min\u001b[39;00m parola:\n\u001b[0;32m      <a href='vscode-notebook-cell:/c%3A/Users/Techpro/Desktop/AdvancePython/session_21_20_10_2023.ipynb#X63sZmlsZQ%3D%3D?line=5'>6</a>\u001b[0m     \u001b[39mif\u001b[39;00m i \u001b[39min\u001b[39;00m tr_karakter:\n\u001b[1;32m----> <a href='vscode-notebook-cell:/c%3A/Users/Techpro/Desktop/AdvancePython/session_21_20_10_2023.ipynb#X63sZmlsZQ%3D%3D?line=6'>7</a>\u001b[0m         \u001b[39mraise\u001b[39;00m \u001b[39mTypeError\u001b[39;00m(\u001b[39m\"\u001b[39m\u001b[39mParolada Türkçe karakter kullanılamaz!\u001b[39m\u001b[39m\"\u001b[39m)\n\u001b[0;32m      <a href='vscode-notebook-cell:/c%3A/Users/Techpro/Desktop/AdvancePython/session_21_20_10_2023.ipynb#X63sZmlsZQ%3D%3D?line=7'>8</a>\u001b[0m     \u001b[39melse\u001b[39;00m:\n\u001b[0;32m      <a href='vscode-notebook-cell:/c%3A/Users/Techpro/Desktop/AdvancePython/session_21_20_10_2023.ipynb#X63sZmlsZQ%3D%3D?line=8'>9</a>\u001b[0m         \u001b[39mpass\u001b[39;00m\n",
      "\u001b[1;31mTypeError\u001b[0m: Parolada Türkçe karakter kullanılamaz!"
     ]
    }
   ],
   "source": [
    "tr_karakter = \"şçğüöıİ\"\n",
    "\n",
    "parola = input(\"Paralnızı giriniz: \").lower()\n",
    "\n",
    "for i in parola:\n",
    "    if i in tr_karakter:\n",
    "        raise TypeError(\"Parolada Türkçe karakter kullanılamaz!\")\n",
    "    else:\n",
    "        pass\n",
    "\n",
    "print(\"Parola geçerli\")"
   ]
  },
  {
   "cell_type": "code",
   "execution_count": 72,
   "metadata": {},
   "outputs": [
    {
     "name": "stdout",
     "output_type": "stream",
     "text": [
      "bir sayıyı 0'a bölemezsiniz\n"
     ]
    },
    {
     "ename": "ZeroDivisionError",
     "evalue": "division by zero",
     "output_type": "error",
     "traceback": [
      "\u001b[1;31m---------------------------------------------------------------------------\u001b[0m",
      "\u001b[1;31mZeroDivisionError\u001b[0m                         Traceback (most recent call last)",
      "\u001b[1;32mc:\\Users\\Techpro\\Desktop\\AdvancePython\\session_21_20_10_2023.ipynb Cell 47\u001b[0m line \u001b[0;36m4\n\u001b[0;32m      <a href='vscode-notebook-cell:/c%3A/Users/Techpro/Desktop/AdvancePython/session_21_20_10_2023.ipynb#X64sZmlsZQ%3D%3D?line=1'>2</a>\u001b[0m     bolunen \u001b[39m=\u001b[39m \u001b[39mint\u001b[39m(\u001b[39minput\u001b[39m(\u001b[39m\"\u001b[39m\u001b[39mbölünecek sayı\u001b[39m\u001b[39m\"\u001b[39m))\n\u001b[0;32m      <a href='vscode-notebook-cell:/c%3A/Users/Techpro/Desktop/AdvancePython/session_21_20_10_2023.ipynb#X64sZmlsZQ%3D%3D?line=2'>3</a>\u001b[0m     bolen \u001b[39m=\u001b[39m \u001b[39mint\u001b[39m(\u001b[39minput\u001b[39m(\u001b[39m\"\u001b[39m\u001b[39mbölecek sayı\u001b[39m\u001b[39m\"\u001b[39m))\n\u001b[1;32m----> <a href='vscode-notebook-cell:/c%3A/Users/Techpro/Desktop/AdvancePython/session_21_20_10_2023.ipynb#X64sZmlsZQ%3D%3D?line=3'>4</a>\u001b[0m     \u001b[39mprint\u001b[39m(bolunen\u001b[39m/\u001b[39;49mbolen)\n\u001b[0;32m      <a href='vscode-notebook-cell:/c%3A/Users/Techpro/Desktop/AdvancePython/session_21_20_10_2023.ipynb#X64sZmlsZQ%3D%3D?line=4'>5</a>\u001b[0m \u001b[39mexcept\u001b[39;00m \u001b[39mZeroDivisionError\u001b[39;00m:\n\u001b[0;32m      <a href='vscode-notebook-cell:/c%3A/Users/Techpro/Desktop/AdvancePython/session_21_20_10_2023.ipynb#X64sZmlsZQ%3D%3D?line=5'>6</a>\u001b[0m     \u001b[39mprint\u001b[39m(\u001b[39m\"\u001b[39m\u001b[39mbir sayıyı 0\u001b[39m\u001b[39m'\u001b[39m\u001b[39ma bölemezsiniz\u001b[39m\u001b[39m\"\u001b[39m)\n",
      "\u001b[1;31mZeroDivisionError\u001b[0m: division by zero"
     ]
    }
   ],
   "source": [
    "try:\n",
    "    bolunen = int(input(\"bölünecek sayı\"))\n",
    "    bolen = int(input(\"bölecek sayı\"))\n",
    "    print(bolunen/bolen)\n",
    "except ZeroDivisionError:\n",
    "    print(\"bir sayıyı 0'a bölemezsiniz\")\n",
    "    raise"
   ]
  }
 ],
 "metadata": {
  "kernelspec": {
   "display_name": "Python 3",
   "language": "python",
   "name": "python3"
  },
  "language_info": {
   "codemirror_mode": {
    "name": "ipython",
    "version": 3
   },
   "file_extension": ".py",
   "mimetype": "text/x-python",
   "name": "python",
   "nbconvert_exporter": "python",
   "pygments_lexer": "ipython3",
   "version": "3.11.4"
  }
 },
 "nbformat": 4,
 "nbformat_minor": 2
}
