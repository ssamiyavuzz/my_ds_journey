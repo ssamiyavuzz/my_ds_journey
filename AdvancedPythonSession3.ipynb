{
 "cells": [
  {
   "cell_type": "markdown",
   "metadata": {},
   "source": [
    "# **File Management**\n",
    "## Dosya Açma ve Kapama"
   ]
  },
  {
   "cell_type": "markdown",
   "metadata": {},
   "source": [
    "### \"r\": Read modu. Dosya varsa içeriğini okur. Varsayılan olarak dosya açarken belirtilmese bile bu modda dosya açılır."
   ]
  },
  {
   "cell_type": "code",
   "execution_count": 1,
   "metadata": {},
   "outputs": [
    {
     "ename": "FileNotFoundError",
     "evalue": "[Errno 2] No such file or directory: 'metinDosyasi.txt'",
     "output_type": "error",
     "traceback": [
      "\u001b[1;31m---------------------------------------------------------------------------\u001b[0m",
      "\u001b[1;31mFileNotFoundError\u001b[0m                         Traceback (most recent call last)",
      "\u001b[1;32mc:\\Users\\Techpro\\Desktop\\AdvancePython\\session_23_23_10_2023_fileManagement.ipynb Cell 2\u001b[0m line \u001b[0;36m1\n\u001b[1;32m----> <a href='vscode-notebook-cell:/c%3A/Users/Techpro/Desktop/AdvancePython/session_23_23_10_2023_fileManagement.ipynb#W0sZmlsZQ%3D%3D?line=0'>1</a>\u001b[0m result \u001b[39m=\u001b[39m \u001b[39mopen\u001b[39;49m(\u001b[39m\"\u001b[39;49m\u001b[39mmetinDosyasi.txt\u001b[39;49m\u001b[39m\"\u001b[39;49m, \u001b[39m\"\u001b[39;49m\u001b[39mr\u001b[39;49m\u001b[39m\"\u001b[39;49m)\n",
      "File \u001b[1;32m~\\AppData\\Roaming\\Python\\Python311\\site-packages\\IPython\\core\\interactiveshell.py:284\u001b[0m, in \u001b[0;36m_modified_open\u001b[1;34m(file, *args, **kwargs)\u001b[0m\n\u001b[0;32m    277\u001b[0m \u001b[39mif\u001b[39;00m file \u001b[39min\u001b[39;00m {\u001b[39m0\u001b[39m, \u001b[39m1\u001b[39m, \u001b[39m2\u001b[39m}:\n\u001b[0;32m    278\u001b[0m     \u001b[39mraise\u001b[39;00m \u001b[39mValueError\u001b[39;00m(\n\u001b[0;32m    279\u001b[0m         \u001b[39mf\u001b[39m\u001b[39m\"\u001b[39m\u001b[39mIPython won\u001b[39m\u001b[39m'\u001b[39m\u001b[39mt let you open fd=\u001b[39m\u001b[39m{\u001b[39;00mfile\u001b[39m}\u001b[39;00m\u001b[39m by default \u001b[39m\u001b[39m\"\u001b[39m\n\u001b[0;32m    280\u001b[0m         \u001b[39m\"\u001b[39m\u001b[39mas it is likely to crash IPython. If you know what you are doing, \u001b[39m\u001b[39m\"\u001b[39m\n\u001b[0;32m    281\u001b[0m         \u001b[39m\"\u001b[39m\u001b[39myou can use builtins\u001b[39m\u001b[39m'\u001b[39m\u001b[39m open.\u001b[39m\u001b[39m\"\u001b[39m\n\u001b[0;32m    282\u001b[0m     )\n\u001b[1;32m--> 284\u001b[0m \u001b[39mreturn\u001b[39;00m io_open(file, \u001b[39m*\u001b[39;49margs, \u001b[39m*\u001b[39;49m\u001b[39m*\u001b[39;49mkwargs)\n",
      "\u001b[1;31mFileNotFoundError\u001b[0m: [Errno 2] No such file or directory: 'metinDosyasi.txt'"
     ]
    }
   ],
   "source": [
    "result = open(\"metinDosyasi.txt\", \"r\")"
   ]
  },
  {
   "cell_type": "markdown",
   "metadata": {},
   "source": [
    "### \"w\": (Write) yazma modu. \n",
    "1. Dosyayı konumda oluşturur.\n",
    "2. Dosya içeriğini siler ve yeniden ekleme yapar."
   ]
  },
  {
   "cell_type": "code",
   "execution_count": 6,
   "metadata": {},
   "outputs": [
    {
     "name": "stdout",
     "output_type": "stream",
     "text": [
      "<_io.TextIOWrapper name='metinDosyasi.txt' mode='w' encoding='utf-8'>\n"
     ]
    }
   ],
   "source": [
    "result = open(\"metinDosyasi.txt\", \"w\", encoding=\"utf-8\")\n",
    "\n",
    "result.write(\"dişdfsşşööğüüğ\")\n",
    "\n",
    "print(result)\n",
    "\n",
    "result.close()"
   ]
  },
  {
   "cell_type": "code",
   "execution_count": 8,
   "metadata": {},
   "outputs": [],
   "source": [
    "file = open(r\"C:\\Users\\Techpro\\Desktop\\dene\\yeniMetinDosyasi.txt\", \"w\", encoding=\"utf-8\")\n",
    "\n",
    "file.write(\"Sana erişebildim\")\n",
    "\n",
    "file.close()"
   ]
  },
  {
   "cell_type": "code",
   "execution_count": 9,
   "metadata": {},
   "outputs": [],
   "source": [
    "file = open(\"C:/Users/Techpro/Desktop/dene/yeniMetinDosyasi.txt\", \"w\", encoding=\"utf-8\")\n",
    "\n",
    "file.write(\"Sana ikinci kez erişebildim\")\n",
    "\n",
    "file.close()"
   ]
  },
  {
   "cell_type": "code",
   "execution_count": 10,
   "metadata": {},
   "outputs": [],
   "source": [
    "file = open(\"C:\\\\Users\\\\Techpro\\\\Desktop\\\\dene\\\\yeniMetinDosyasi.txt\", \"w\", encoding=\"utf-8\")\n",
    "\n",
    "file.write(\"Sana erişebildim\")\n",
    "\n",
    "file.close()"
   ]
  },
  {
   "cell_type": "code",
   "execution_count": 13,
   "metadata": {},
   "outputs": [],
   "source": [
    "file = open(\"metinDosyasi.txt\", \"w\", encoding=\"utf-8\")\n",
    "\n",
    "file.write(\"içerik değişti\")\n",
    "\n",
    "\n",
    "file.close()"
   ]
  },
  {
   "cell_type": "markdown",
   "metadata": {},
   "source": [
    "\"a\": (Append) ekleme. Dosya konumda yoksa oluşturur. Dosya içeriğini silmez"
   ]
  },
  {
   "cell_type": "code",
   "execution_count": 18,
   "metadata": {},
   "outputs": [],
   "source": [
    "file = open(\"metinDosyasi.txt\", \"a\", encoding=\"utf-8\")\n",
    "\n",
    "file.write(\"\\nBu satırı dosyaya append et\")\n",
    "\n",
    "file.close()"
   ]
  },
  {
   "cell_type": "markdown",
   "metadata": {},
   "source": [
    "\"x\": (Create) oluşturma. Dosya zaten varsa hata verir."
   ]
  },
  {
   "cell_type": "code",
   "execution_count": 20,
   "metadata": {},
   "outputs": [],
   "source": [
    "file = open(\"metinDosyasi2.txt\", \"x\", encoding=\"utf-8\")\n",
    "\n",
    "file.write(\"\\n x modunda ekleme\")\n",
    "\n",
    "file.close()"
   ]
  },
  {
   "cell_type": "markdown",
   "metadata": {},
   "source": [
    "\"r\": (Read) okuma. varsayılan. dosya konumda yoksa hata verir."
   ]
  },
  {
   "cell_type": "code",
   "execution_count": 22,
   "metadata": {},
   "outputs": [
    {
     "ename": "FileNotFoundError",
     "evalue": "[Errno 2] No such file or directory: 'metinDosyasi3.txt'",
     "output_type": "error",
     "traceback": [
      "\u001b[1;31m---------------------------------------------------------------------------\u001b[0m",
      "\u001b[1;31mFileNotFoundError\u001b[0m                         Traceback (most recent call last)",
      "\u001b[1;32mc:\\Users\\Techpro\\Desktop\\AdvancePython\\session_23_23_10_2023_fileManagement.ipynb Cell 15\u001b[0m line \u001b[0;36m1\n\u001b[1;32m----> <a href='vscode-notebook-cell:/c%3A/Users/Techpro/Desktop/AdvancePython/session_23_23_10_2023_fileManagement.ipynb#X20sZmlsZQ%3D%3D?line=0'>1</a>\u001b[0m file \u001b[39m=\u001b[39m \u001b[39mopen\u001b[39;49m(\u001b[39m\"\u001b[39;49m\u001b[39mmetinDosyasi3.txt\u001b[39;49m\u001b[39m\"\u001b[39;49m)\n\u001b[0;32m      <a href='vscode-notebook-cell:/c%3A/Users/Techpro/Desktop/AdvancePython/session_23_23_10_2023_fileManagement.ipynb#X20sZmlsZQ%3D%3D?line=1'>2</a>\u001b[0m \u001b[39mprint\u001b[39m(file)\n\u001b[0;32m      <a href='vscode-notebook-cell:/c%3A/Users/Techpro/Desktop/AdvancePython/session_23_23_10_2023_fileManagement.ipynb#X20sZmlsZQ%3D%3D?line=2'>3</a>\u001b[0m file\u001b[39m.\u001b[39mclose()\n",
      "File \u001b[1;32m~\\AppData\\Roaming\\Python\\Python311\\site-packages\\IPython\\core\\interactiveshell.py:284\u001b[0m, in \u001b[0;36m_modified_open\u001b[1;34m(file, *args, **kwargs)\u001b[0m\n\u001b[0;32m    277\u001b[0m \u001b[39mif\u001b[39;00m file \u001b[39min\u001b[39;00m {\u001b[39m0\u001b[39m, \u001b[39m1\u001b[39m, \u001b[39m2\u001b[39m}:\n\u001b[0;32m    278\u001b[0m     \u001b[39mraise\u001b[39;00m \u001b[39mValueError\u001b[39;00m(\n\u001b[0;32m    279\u001b[0m         \u001b[39mf\u001b[39m\u001b[39m\"\u001b[39m\u001b[39mIPython won\u001b[39m\u001b[39m'\u001b[39m\u001b[39mt let you open fd=\u001b[39m\u001b[39m{\u001b[39;00mfile\u001b[39m}\u001b[39;00m\u001b[39m by default \u001b[39m\u001b[39m\"\u001b[39m\n\u001b[0;32m    280\u001b[0m         \u001b[39m\"\u001b[39m\u001b[39mas it is likely to crash IPython. If you know what you are doing, \u001b[39m\u001b[39m\"\u001b[39m\n\u001b[0;32m    281\u001b[0m         \u001b[39m\"\u001b[39m\u001b[39myou can use builtins\u001b[39m\u001b[39m'\u001b[39m\u001b[39m open.\u001b[39m\u001b[39m\"\u001b[39m\n\u001b[0;32m    282\u001b[0m     )\n\u001b[1;32m--> 284\u001b[0m \u001b[39mreturn\u001b[39;00m io_open(file, \u001b[39m*\u001b[39;49margs, \u001b[39m*\u001b[39;49m\u001b[39m*\u001b[39;49mkwargs)\n",
      "\u001b[1;31mFileNotFoundError\u001b[0m: [Errno 2] No such file or directory: 'metinDosyasi3.txt'"
     ]
    }
   ],
   "source": [
    "file = open(\"metinDosyasi3.txt\")\n",
    "print(file)\n",
    "file.close()"
   ]
  },
  {
   "cell_type": "code",
   "execution_count": 24,
   "metadata": {},
   "outputs": [
    {
     "name": "stdout",
     "output_type": "stream",
     "text": [
      "<_io.TextIOWrapper name='metinDosyasi.txt' mode='r' encoding='utf-8'>\n",
      "Dosya kapandı\n"
     ]
    }
   ],
   "source": [
    "try:\n",
    "    file = open(\"metinDosyasi.txt\", \"r\", encoding=\"utf-8\")\n",
    "    print(file)\n",
    "except FileNotFoundError:\n",
    "    print(\"Dosya bulunamadi.\")\n",
    "finally:\n",
    "    print(\"Dosya kapandı\")\n",
    "    file.close()"
   ]
  },
  {
   "cell_type": "code",
   "execution_count": 26,
   "metadata": {},
   "outputs": [
    {
     "name": "stdout",
     "output_type": "stream",
     "text": [
      "içerik değişti\n",
      "\n",
      "Bu satırı dosyaya append et\n",
      "\n",
      "Bu satırı dosyaya append et\n",
      "\n",
      "Bu satırı dosyaya append et\n",
      "\n",
      "Bu satırı dosyaya append et\n",
      "\n",
      "Bu satırı dosyaya append et\n"
     ]
    }
   ],
   "source": [
    "file = open(\"metinDosyasi.txt\", \"r\", encoding=\"utf-8\")\n",
    "\n",
    "for satir in file:\n",
    "    print(satir)\n",
    "\n",
    "file.close()"
   ]
  },
  {
   "cell_type": "code",
   "execution_count": 27,
   "metadata": {},
   "outputs": [
    {
     "name": "stdout",
     "output_type": "stream",
     "text": [
      "içerik1\n",
      "içerik değişti\n",
      "Bu satırı dosyaya append et\n",
      "Bu satırı dosyaya append et\n",
      "Bu satırı dosyaya append et\n",
      "Bu satırı dosyaya append et\n",
      "Bu satırı dosyaya append et\n",
      "içerik2\n",
      "\n"
     ]
    }
   ],
   "source": [
    "file = open(\"metinDosyasi.txt\", \"r\", encoding=\"utf-8\")\n",
    "\n",
    "content1 = file.read()\n",
    "print(\"içerik1\")\n",
    "print(content1)\n",
    "content2 = file.read()\n",
    "print(\"içerik2\")\n",
    "print(content2)\n",
    "\n",
    "file.close()"
   ]
  },
  {
   "cell_type": "code",
   "execution_count": 31,
   "metadata": {},
   "outputs": [
    {
     "name": "stdout",
     "output_type": "stream",
     "text": [
      " satırı dosyaya append et\n",
      "Bu satırı dosyaya append\n"
     ]
    }
   ],
   "source": [
    "file = open(\"metinDosyasi.txt\", \"r\", encoding=\"utf-8\")\n",
    "\n",
    "content = file.read(15)\n",
    "content = file.read(20)\n",
    "content = file.read(10)\n",
    "content = file.read(50)\n",
    "\n",
    "print(content)\n",
    "\n",
    "file.close()"
   ]
  },
  {
   "cell_type": "code",
   "execution_count": 32,
   "metadata": {},
   "outputs": [
    {
     "name": "stdout",
     "output_type": "stream",
     "text": [
      " satırı dosyaya append et\n",
      "Bu satırı dosyaya append\n"
     ]
    }
   ],
   "source": [
    "file = open(\"metinDosyasi.txt\", \"r\", encoding=\"utf-8\")\n",
    "\n",
    "content = file.read(15)\n",
    "content = file.read(20)\n",
    "content = file.read(10)\n",
    "content = file.read(50)\n",
    "\n",
    "\n",
    "print(content)\n",
    "\n",
    "file.close()"
   ]
  },
  {
   "cell_type": "markdown",
   "metadata": {},
   "source": [
    "#### readline() fonksiyonu"
   ]
  },
  {
   "cell_type": "code",
   "execution_count": 43,
   "metadata": {},
   "outputs": [
    {
     "name": "stdout",
     "output_type": "stream",
     "text": [
      "Bu satırı dosyaya append et\n",
      "Bu satırı dosyaya append et\n",
      "Bu satırı dosyaya append et"
     ]
    }
   ],
   "source": [
    "file = open(\"metinDosyasi.txt\", \"r\", encoding=\"utf-8\")\n",
    "\n",
    "print(file.readline(), end=\"\")\n",
    "print(file.readline(), end=\"\")\n",
    "print(file.readline(), end=\"\")\n",
    "print(file.readline(), end=\"\")\n",
    "print(file.readline(), end=\"\")\n",
    "print(file.readline(), end=\"\")\n",
    "print(file.readline(), end=\"\")\n",
    "\n",
    "file.close()"
   ]
  },
  {
   "cell_type": "code",
   "execution_count": 45,
   "metadata": {},
   "outputs": [
    {
     "name": "stdout",
     "output_type": "stream",
     "text": [
      "Bu satırı dosyaya append et\n",
      "\n",
      "Bu satırı dosyaya append et\n",
      "\n",
      "Bu satırı dosyaya append et\n"
     ]
    }
   ],
   "source": [
    "file = open(\"metinDosyasi.txt\", \"r\", encoding=\"utf-8\")\n",
    "\n",
    "for i in file:\n",
    "    print(file.readline())\n",
    "\n",
    "file.close()"
   ]
  },
  {
   "cell_type": "markdown",
   "metadata": {},
   "source": [
    "#### readlines() fonsiyonu"
   ]
  },
  {
   "cell_type": "code",
   "execution_count": 47,
   "metadata": {},
   "outputs": [
    {
     "name": "stdout",
     "output_type": "stream",
     "text": [
      "içerik değişti\n",
      "\n",
      "Bu satırı dosyaya append et\n",
      "\n",
      "Bu satırı dosyaya append et\n",
      "\n",
      "Bu satırı dosyaya append et\n",
      "\n",
      "Bu satırı dosyaya append et\n",
      "\n",
      "Bu satırı dosyaya append et\n"
     ]
    }
   ],
   "source": [
    "file = open(\"metinDosyasi.txt\", \"r\", encoding=\"utf-8\")\n",
    "\n",
    "liste = file.readlines()\n",
    "# print(liste)\n",
    "\n",
    "for i in liste:\n",
    "    print(i)\n",
    "\n",
    "file.close()"
   ]
  },
  {
   "cell_type": "code",
   "execution_count": 49,
   "metadata": {},
   "outputs": [],
   "source": [
    "file = open(\"siir1.txt\", \"w\", encoding=\"utf-8\")\n",
    "file.write(\"\"\"\n",
    "Ağlasam sesimi duyar mısınız,\n",
    "Mısralarımda;\n",
    "Dokunabilir misiniz,\n",
    "Göz yaşlarıma, ellerinizle?\n",
    "\n",
    "Bilmezdim şarkıların bu kadar güzel,\n",
    "Kelimelerinse kifayetsiz olduğunu\n",
    "Bu derde düşmeden önce.\n",
    "\n",
    "Bir yer var, biliyorum;\n",
    "Her şeyi söylemek mümkün;\n",
    "Epeyce yaklaşmışım, duyuyorum;\n",
    "Anlatamıyorum.\n",
    "\"\"\")\n",
    "\n",
    "file.close()"
   ]
  },
  {
   "cell_type": "code",
   "execution_count": 50,
   "metadata": {},
   "outputs": [
    {
     "name": "stdout",
     "output_type": "stream",
     "text": [
      "\n",
      "Ağlasam sesimi duyar mısınız,\n",
      "Mısralarımda;\n",
      "Dokunabilir misiniz,\n",
      "Göz yaşlarıma, ellerinizle?\n",
      "\n",
      "Bilmezdim şarkıların bu kadar güzel,\n",
      "Kelimelerinse kifayetsiz olduğunu\n",
      "Bu derde düşmeden önce.\n",
      "\n",
      "Bir yer var, biliyorum;\n",
      "Her şeyi söylemek mümkün;\n",
      "Epeyce yaklaşmışım, duyuyorum;\n",
      "Anlatamıyorum.\n",
      "\n"
     ]
    }
   ],
   "source": [
    "file = open(\"siir1.txt\", \"r\", encoding=\"utf-8\")\n",
    "\n",
    "print(file.read())\n",
    "\n",
    "file.close()\n"
   ]
  },
  {
   "cell_type": "code",
   "execution_count": 58,
   "metadata": {},
   "outputs": [
    {
     "name": "stdout",
     "output_type": "stream",
     "text": [
      "\n",
      "Ağlasam sesimi duyar mısınız,\n",
      "Mısralarımda;\n",
      "Dokunabilir misiniz,\n",
      "Göz yaşlarıma, ellerinizle?\n",
      "\n",
      "Bilmezdim şarkıların bu kadar güzel,\n",
      "Kelimelerinse kifayetsiz olduğunu\n",
      "Bu derde düşmeden önce.\n",
      "\n",
      "Bir yer v\n",
      "\n",
      "a;\n",
      "Dokunabilir misiniz,\n",
      "Göz yaşlarıma, ellerinizle?\n",
      "\n",
      "Bilmezdim şarkıların bu kadar güzel,\n",
      "Kelimelerinse kifayetsiz olduğunu\n",
      "Bu derde düşmeden önce.\n",
      "\n",
      "Bir yer var, biliyorum;\n",
      "Her şeyi söylemek mümkün;\n",
      "E\n"
     ]
    }
   ],
   "source": [
    "file = open(\"siir1.txt\", \"r\", encoding=\"utf-8\")\n",
    "\n",
    "content = file.read(200)\n",
    "print(content)\n",
    "file.seek(50)\n",
    "print()\n",
    "content = file.read(200)\n",
    "print(content)\n",
    "\n",
    "file.close()"
   ]
  },
  {
   "cell_type": "markdown",
   "metadata": {},
   "source": [
    "#### with open contexti"
   ]
  },
  {
   "cell_type": "code",
   "execution_count": 64,
   "metadata": {},
   "outputs": [
    {
     "name": "stdout",
     "output_type": "stream",
     "text": [
      "\n",
      "Ağlasam sesimi duyar mısınız,\n",
      "Mısralarımda;\n",
      "Dokunabilir misiniz,\n",
      "Göz yaşlarıma, ellerinizle?\n",
      "\n",
      "Bilmezdim şarkıların bu kadar güzel,\n",
      "Kelimelerinse kifayetsiz olduğunu\n",
      "Bu derde düşmeden önce.\n",
      "\n",
      "Bir yer var, biliyorum;\n",
      "Her şeyi söylemek mümkün;\n",
      "Epeyce ya\n",
      "283\n"
     ]
    }
   ],
   "source": [
    "with open(\"siir1.txt\", \"r\", encoding=\"utf-8\") as file:\n",
    "    content = file.read(250)\n",
    "    print(content)\n",
    "    print(file.tell())"
   ]
  },
  {
   "cell_type": "code",
   "execution_count": 66,
   "metadata": {},
   "outputs": [],
   "source": [
    "with open(\"siir1.txt\", \"a\", encoding=\"utf-8\") as file:\n",
    "    file.write(\"\\nBu son yazdıklarımı şiirin sonuna ekle\")\n",
    "    file.seek(0)\n",
    "    file.write(\"Bu yazıyı da şiirin başına ekle\\n\")\n",
    "    "
   ]
  },
  {
   "cell_type": "code",
   "execution_count": 68,
   "metadata": {},
   "outputs": [
    {
     "ename": "FileExistsError",
     "evalue": "[Errno 17] File exists: 'siir2.txt'",
     "output_type": "error",
     "traceback": [
      "\u001b[1;31m---------------------------------------------------------------------------\u001b[0m",
      "\u001b[1;31mFileExistsError\u001b[0m                           Traceback (most recent call last)",
      "\u001b[1;32mc:\\Users\\Techpro\\Desktop\\AdvancePython\\session_23_23_10_2023_fileManagement.ipynb Cell 32\u001b[0m line \u001b[0;36m1\n\u001b[1;32m----> <a href='vscode-notebook-cell:/c%3A/Users/Techpro/Desktop/AdvancePython/session_23_23_10_2023_fileManagement.ipynb#X43sZmlsZQ%3D%3D?line=0'>1</a>\u001b[0m \u001b[39mwith\u001b[39;00m \u001b[39mopen\u001b[39;49m(\u001b[39m\"\u001b[39;49m\u001b[39msiir2.txt\u001b[39;49m\u001b[39m\"\u001b[39;49m, \u001b[39m\"\u001b[39;49m\u001b[39mx\u001b[39;49m\u001b[39m\"\u001b[39;49m, encoding\u001b[39m=\u001b[39;49m\u001b[39m\"\u001b[39;49m\u001b[39mutf-8\u001b[39;49m\u001b[39m\"\u001b[39;49m) \u001b[39mas\u001b[39;00m dosya:\n\u001b[0;32m      <a href='vscode-notebook-cell:/c%3A/Users/Techpro/Desktop/AdvancePython/session_23_23_10_2023_fileManagement.ipynb#X43sZmlsZQ%3D%3D?line=1'>2</a>\u001b[0m     dosya\u001b[39m.\u001b[39mwrite(\u001b[39m\"\"\"\u001b[39m\n\u001b[0;32m      <a href='vscode-notebook-cell:/c%3A/Users/Techpro/Desktop/AdvancePython/session_23_23_10_2023_fileManagement.ipynb#X43sZmlsZQ%3D%3D?line=2'>3</a>\u001b[0m \u001b[39m    Milyon Kere Ayten\u001b[39m\n\u001b[0;32m      <a href='vscode-notebook-cell:/c%3A/Users/Techpro/Desktop/AdvancePython/session_23_23_10_2023_fileManagement.ipynb#X43sZmlsZQ%3D%3D?line=3'>4</a>\u001b[0m \u001b[39m \u001b[39m\n\u001b[1;32m   (...)\u001b[0m\n\u001b[0;32m     <a href='vscode-notebook-cell:/c%3A/Users/Techpro/Desktop/AdvancePython/session_23_23_10_2023_fileManagement.ipynb#X43sZmlsZQ%3D%3D?line=46'>47</a>\u001b[0m \u001b[39m    Ümit Yaşar Oğuzcan\u001b[39m\n\u001b[0;32m     <a href='vscode-notebook-cell:/c%3A/Users/Techpro/Desktop/AdvancePython/session_23_23_10_2023_fileManagement.ipynb#X43sZmlsZQ%3D%3D?line=47'>48</a>\u001b[0m \u001b[39m    \u001b[39m\u001b[39m\"\"\"\u001b[39m)\n",
      "File \u001b[1;32m~\\AppData\\Roaming\\Python\\Python311\\site-packages\\IPython\\core\\interactiveshell.py:284\u001b[0m, in \u001b[0;36m_modified_open\u001b[1;34m(file, *args, **kwargs)\u001b[0m\n\u001b[0;32m    277\u001b[0m \u001b[39mif\u001b[39;00m file \u001b[39min\u001b[39;00m {\u001b[39m0\u001b[39m, \u001b[39m1\u001b[39m, \u001b[39m2\u001b[39m}:\n\u001b[0;32m    278\u001b[0m     \u001b[39mraise\u001b[39;00m \u001b[39mValueError\u001b[39;00m(\n\u001b[0;32m    279\u001b[0m         \u001b[39mf\u001b[39m\u001b[39m\"\u001b[39m\u001b[39mIPython won\u001b[39m\u001b[39m'\u001b[39m\u001b[39mt let you open fd=\u001b[39m\u001b[39m{\u001b[39;00mfile\u001b[39m}\u001b[39;00m\u001b[39m by default \u001b[39m\u001b[39m\"\u001b[39m\n\u001b[0;32m    280\u001b[0m         \u001b[39m\"\u001b[39m\u001b[39mas it is likely to crash IPython. If you know what you are doing, \u001b[39m\u001b[39m\"\u001b[39m\n\u001b[0;32m    281\u001b[0m         \u001b[39m\"\u001b[39m\u001b[39myou can use builtins\u001b[39m\u001b[39m'\u001b[39m\u001b[39m open.\u001b[39m\u001b[39m\"\u001b[39m\n\u001b[0;32m    282\u001b[0m     )\n\u001b[1;32m--> 284\u001b[0m \u001b[39mreturn\u001b[39;00m io_open(file, \u001b[39m*\u001b[39;49margs, \u001b[39m*\u001b[39;49m\u001b[39m*\u001b[39;49mkwargs)\n",
      "\u001b[1;31mFileExistsError\u001b[0m: [Errno 17] File exists: 'siir2.txt'"
     ]
    }
   ],
   "source": [
    "with open(\"siir2.txt\", \"x\", encoding=\"utf-8\") as dosya:\n",
    "    dosya.write(\"\"\"\n",
    "    Milyon Kere Ayten\n",
    " \n",
    "    Ben bir Aytendir tutturmuşum  oh ne iyi\n",
    "    Aytenli içkiler içip sarhoş oluyorum, ne güzel! \n",
    "    Hoşuma gitmiyorsa rengi denizlerin, \n",
    "    Biraz Ayten sürüyorum, güzelleşiyor. \n",
    "    Şarkılar söylüyorum, \n",
    "    Şiirler yazıyorum Ayten üstüne. \n",
    "    Saatim her zaman Aytene beş var \n",
    "    Ya da Ayteni beş geçiyor. \n",
    "    Ne yana baksam gördüğüm o, \n",
    "    Gözümü yumsam aklımdan Ayten geçiyor.\n",
    "\n",
    "    Bana sorarsanız mevsimlerden Aytendeyiz, \n",
    "    Günlerden Aytenertesidir. \n",
    "    Odur gün gün beni yaşatan. \n",
    "    Onun kokusu sarmıştır sokakları, \n",
    "    Onun gözleridir şafakta gördüğüm\n",
    "    Akşam kızıllığında onun dudakları.\n",
    "    \n",
    "    Başka kadını övmeyin yanımda, gücenirim. \n",
    "    Ayteni övecekseniz ne alâ, oturabilirsiniz.\n",
    "    Bir kadeh de sizinle içeriz, Aytenli\n",
    "    İki laf ederiz. \n",
    "    Onu siz de seversiniz benim gibi.\n",
    "\n",
    "    Ama yağma yok Ayteni size bırakmam. \n",
    "    Alın tek kat elbisemi size vereyim, \n",
    "    Cebimde bir on liram var \n",
    "    Onu da alın gerekirse. \n",
    "    Ben Ayteni düşünürüm, üşümem. \n",
    "    Üç kere adını tekrarlarım, karnım doyar. \n",
    "    Parasızlık da bir şey mi? \n",
    "    Ölüm bile kötü değil Aytensizlik kadar. \n",
    "\n",
    "    Ona uğramayan gemiler batsın, \n",
    "    Ondan geçmeyen trenler devrilsin, \n",
    "    Onu sevmeyen yürek taş kesilsin, \n",
    "    Kapansın onu görmeyen gözler, \n",
    "    Onu övmeyen diller kurusun. \n",
    "    İki kere iki dört, elde var Ayten. \n",
    "    Bundan böyle dünyada\n",
    "    Aşkın adı Ayten olsun.\n",
    "\n",
    "    Ümit Yaşar Oğuzcan\n",
    "    \"\"\")"
   ]
  },
  {
   "cell_type": "markdown",
   "metadata": {},
   "source": [
    "#### sayfa başında güncelleme"
   ]
  },
  {
   "cell_type": "code",
   "execution_count": 72,
   "metadata": {},
   "outputs": [
    {
     "name": "stdout",
     "output_type": "stream",
     "text": [
      "Ben bir Aytendir tutturmuşum  oh ne iyi\n",
      "    Aytenli içkiler içip sarhoş oluyorum, ne güzel! \n",
      "    Hoşuma gitmiyorsa rengi denizlerin, \n",
      "    Biraz Ayten sürüyorum, güzelleşiyor. \n",
      "    Şarkılar söylüyorum, \n",
      "    Şiirler yazıyorum Ayten üstüne. \n",
      "    Saatim her zaman Aytene beş var \n",
      "    Ya da Ayteni beş geçiyor. \n",
      "    Ne yana baksam gördüğüm o, \n",
      "    Gözümü yumsam aklımdan Ayten geçiyor.\n",
      "\n",
      "    Bana sorarsanız mevsimlerden Aytendeyiz, \n",
      "    Günlerden Aytenertesidir. \n",
      "    Odur gün gün beni yaşatan. \n",
      "    Onun kokusu sarmıştır sokakları, \n",
      "    Onun gözleridir şafakta gördüğüm\n",
      "    Akşam kızıllığında onun dudakları.\n",
      "    \n",
      "    Başka kadını övmeyin yanımda, gücenirim. \n",
      "    Ayteni övecekseniz ne alâ, oturabilirsiniz.\n",
      "    Bir kadeh de sizinle içeriz, Aytenli\n",
      "    İki laf ederiz. \n",
      "    Onu siz de seversiniz benim gibi.\n",
      "\n",
      "    Ama yağma yok Ayteni size bırakmam. \n",
      "    Alın tek kat elbisemi size vereyim, \n",
      "    Cebimde bir on liram var \n",
      "    Onu da alın gerekirse. \n",
      "    Ben Ayteni düşünürüm, üşümem. \n",
      "    Üç kere adını tekrarlarım, karnım doyar. \n",
      "    Parasızlık da bir şey mi? \n",
      "    Ölüm bile kötü değil Aytensizlik kadar. \n",
      "\n",
      "    Ona uğramayan gemiler batsın, \n",
      "    Ondan geçmeyen trenler devrilsin, \n",
      "    Onu sevmeyen yürek taş kesilsin, \n",
      "    Kapansın onu görmeyen gözler, \n",
      "    Onu övmeyen diller kurusun. \n",
      "    İki kere iki dört, elde var Ayten. \n",
      "    Bundan böyle dünyada\n",
      "    Aşkın adı Ayten olsun.\n",
      "\n",
      "    Ümit Yaşar Oğuzcan\n",
      "    \n"
     ]
    }
   ],
   "source": [
    "with open(\"siir2.txt\", \"r+\", encoding=\"utf-8\") as dosya:\n",
    "    dosya.write(\"Bu metni şiirin başına ekle\\n\")\n",
    "    print(dosya.read())"
   ]
  },
  {
   "cell_type": "code",
   "execution_count": 73,
   "metadata": {},
   "outputs": [],
   "source": [
    "with open(\"siir2.txt\", \"w\", encoding=\"utf-8\") as dosya:\n",
    "    dosya.write(\"\"\"\n",
    "    Milyon Kere Ayten\n",
    " \n",
    "    Ben bir Aytendir tutturmuşum  oh ne iyi\n",
    "    Aytenli içkiler içip sarhoş oluyorum, ne güzel! \n",
    "    Hoşuma gitmiyorsa rengi denizlerin, \n",
    "    Biraz Ayten sürüyorum, güzelleşiyor. \n",
    "    Şarkılar söylüyorum, \n",
    "    Şiirler yazıyorum Ayten üstüne. \n",
    "    Saatim her zaman Aytene beş var \n",
    "    Ya da Ayteni beş geçiyor. \n",
    "    Ne yana baksam gördüğüm o, \n",
    "    Gözümü yumsam aklımdan Ayten geçiyor.\n",
    "\n",
    "    Bana sorarsanız mevsimlerden Aytendeyiz, \n",
    "    Günlerden Aytenertesidir. \n",
    "    Odur gün gün beni yaşatan. \n",
    "    Onun kokusu sarmıştır sokakları, \n",
    "    Onun gözleridir şafakta gördüğüm\n",
    "    Akşam kızıllığında onun dudakları.\n",
    "    \n",
    "    Başka kadını övmeyin yanımda, gücenirim. \n",
    "    Ayteni övecekseniz ne alâ, oturabilirsiniz.\n",
    "    Bir kadeh de sizinle içeriz, Aytenli\n",
    "    İki laf ederiz. \n",
    "    Onu siz de seversiniz benim gibi.\n",
    "\n",
    "    Ama yağma yok Ayteni size bırakmam. \n",
    "    Alın tek kat elbisemi size vereyim, \n",
    "    Cebimde bir on liram var \n",
    "    Onu da alın gerekirse. \n",
    "    Ben Ayteni düşünürüm, üşümem. \n",
    "    Üç kere adını tekrarlarım, karnım doyar. \n",
    "    Parasızlık da bir şey mi? \n",
    "    Ölüm bile kötü değil Aytensizlik kadar. \n",
    "\n",
    "    Ona uğramayan gemiler batsın, \n",
    "    Ondan geçmeyen trenler devrilsin, \n",
    "    Onu sevmeyen yürek taş kesilsin, \n",
    "    Kapansın onu görmeyen gözler, \n",
    "    Onu övmeyen diller kurusun. \n",
    "    İki kere iki dört, elde var Ayten. \n",
    "    Bundan böyle dünyada\n",
    "    Aşkın adı Ayten olsun.\n",
    "\n",
    "    Ümit Yaşar Oğuzcan\n",
    "    \"\"\")"
   ]
  },
  {
   "cell_type": "code",
   "execution_count": 76,
   "metadata": {},
   "outputs": [
    {
     "name": "stdout",
     "output_type": "stream",
     "text": [
      "Bu metni şiirin başına ekle\n",
      "Ben bir Aytendir tutturmuşum  oh ne iyi\n",
      "    Aytenli içkiler içip sarhoş oluyorum, ne güzel! \n",
      "    Hoşuma gitmiyorsa rengi denizlerin, \n",
      "    Biraz Ayten sürüyorum, güzelleşiyor. \n",
      "    Şarkılar söylüyorum, \n",
      "    Şiirler yazıyorum Ayten üstüne. \n",
      "    Saatim her zaman Aytene beş var \n",
      "    Ya da Ayteni beş geçiyor. \n",
      "    Ne yana baksam gördüğüm o, \n",
      "    Gözümü yumsam aklımdan Ayten geçiyor.\n",
      "\n",
      "    Bana sorarsanız mevsimlerden Aytendeyiz, \n",
      "    Günlerden Aytenertesidir. \n",
      "    Odur gün gün beni yaşatan. \n",
      "    Onun kokusu sarmıştır sokakları, \n",
      "    Onun gözleridir şafakta gördüğüm\n",
      "    Akşam kızıllığında onun dudakları.\n",
      "    \n",
      "    Başka kadını övmeyin yanımda, gücenirim. \n",
      "    Ayteni övecekseniz ne alâ, oturabilirsiniz.\n",
      "    Bir kadeh de sizinle içeriz, Aytenli\n",
      "    İki laf ederiz. \n",
      "    Onu siz de seversiniz benim gibi.\n",
      "\n",
      "    Ama yağma yok Ayteni size bırakmam. \n",
      "    Alın tek kat elbisemi size vereyim, \n",
      "    Cebimde bir on liram var \n",
      "    Onu da alın gerekirse. \n",
      "    Ben Ayteni düşünürüm, üşümem. \n",
      "    Üç kere adını tekrarlarım, karnım doyar. \n",
      "    Parasızlık da bir şey mi? \n",
      "    Ölüm bile kötü değil Aytensizlik kadar. \n",
      "\n",
      "    Ona uğramayan gemiler batsın, \n",
      "    Ondan geçmeyen trenler devrilsin, \n",
      "    Onu sevmeyen yürek taş kesilsin, \n",
      "    Kapansın onu görmeyen gözler, \n",
      "    Onu övmeyen diller kurusun. \n",
      "    İki kere iki dört, elde var Ayten. \n",
      "    Bundan böyle dünyada\n",
      "    Aşkın adı Ayten olsun.\n",
      "\n",
      "    Ümit Yaşar Oğuzcan\n",
      "    Bu metni şiirin başına ekle\n",
      "\n"
     ]
    }
   ],
   "source": [
    "with open(\"siir2.txt\", \"r+\", encoding=\"utf-8\") as dosya:\n",
    "    # print(dosya.read())\n",
    "    dosya.write(\"Bu metni şiirin başına ekle\\n\")\n",
    "\n",
    "with open(\"siir2.txt\", \"r\", encoding=\"utf-8\") as dosya:   \n",
    "    print(dosya.read())"
   ]
  },
  {
   "cell_type": "code",
   "execution_count": 81,
   "metadata": {},
   "outputs": [
    {
     "name": "stdout",
     "output_type": "stream",
     "text": [
      "Ümit Yaşar Oğuzcan'a ait Güzel bir şiir\n",
      "ir tutturmuşum  oh ne iyi\n",
      "    Aytenli içkiler içip sarhoş oluyorum, ne güzel! \n",
      "    Hoşuma gitmiyorsa rengi denizlerin, \n",
      "    Biraz Ayten sürüyorum, güzelleşiyor. \n",
      "    Şarkılar söylüyorum, \n",
      "    Şiirler yazıyorum Ayten üstüne. \n",
      "    Saatim her zaman Aytene beş var \n",
      "    Ya da Ayteni beş geçiyor. \n",
      "    Ne yana baksam gördüğüm o, \n",
      "    Gözümü yumsam aklımdan Ayten geçiyor.\n",
      "\n",
      "    Bana sorarsanız mevsimlerden Aytendeyiz, \n",
      "    Günlerden Aytenertesidir. \n",
      "    Odur gün gün beni yaşatan. \n",
      "    Onun kokusu sarmıştır sokakları, \n",
      "    Onun gözleridir şafakta gördüğüm\n",
      "    Akşam kızıllığında onun dudakları.\n",
      "    \n",
      "    Başka kadını övmeyin yanımda, gücenirim. \n",
      "    Ayteni övecekseniz ne alâ, oturabilirsiniz.\n",
      "    Bir kadeh de sizinle içeriz, Aytenli\n",
      "    İki laf ederiz. \n",
      "    Onu siz de seversiniz benim gibi.\n",
      "\n",
      "    Ama yağma yok Ayteni size bırakmam. \n",
      "    Alın tek kat elbisemi size vereyim, \n",
      "    Cebimde bir on liram var \n",
      "    Onu da alın gerekirse. \n",
      "    Ben Ayteni düşünürüm, üşümem. \n",
      "    Üç kere adını tekrarlarım, karnım doyar. \n",
      "    Parasızlık da bir şey mi? \n",
      "    Ölüm bile kötü değil Aytensizlik kadar. \n",
      "\n",
      "    Ona uğramayan gemiler batsın, \n",
      "    Ondan geçmeyen trenler devrilsin, \n",
      "    Onu sevmeyen yürek taş kesilsin, \n",
      "    Kapansın onu görmeyen gözler, \n",
      "    Onu övmeyen diller kurusun. \n",
      "    İki kere iki dört, elde var Ayten. \n",
      "    Bundan böyle dünyada\n",
      "    Aşkın adı Ayten olsun.\n",
      "\n",
      "    Ümit Yaşar Oğuzcan\n",
      "    Bu metni şiirin başına ekle\n",
      "Ümit Yaşar Oğuzcan'a ait Güzel bir şiir\n",
      "\n"
     ]
    }
   ],
   "source": [
    "with open(\"siir2.txt\", \"r+\", encoding=\"utf-8\") as dosya:\n",
    "    content = dosya.read()\n",
    "    dosya.seek(0)\n",
    "    content2 = \"Ümit Yaşar Oğuzcan'a ait Güzel bir şiir\\n\"\n",
    "    dosya.write(content2)\n",
    "\n",
    "with open(\"siir2.txt\", \"r\", encoding=\"utf-8\") as dosya:\n",
    "    print(dosya.read())"
   ]
  },
  {
   "cell_type": "code",
   "execution_count": 85,
   "metadata": {},
   "outputs": [
    {
     "name": "stdout",
     "output_type": "stream",
     "text": [
      "Ümit Yaşar Oğuzcan'a ait Güzel bir şiir\n",
      "ir tutturmuşum  oh ne iyi\n",
      "    Aytenli içkiler içip sarhoş oluyorum, ne güzel! \n",
      "    Hoşuma gitmiyorsa rengi denizlerin, \n",
      "    Biraz Ayten sürüyorum, güzelleşiyor. \n",
      "    Şarkılar söylüyorum, \n",
      "    Şiirler yazıyorum Ayten üstüne. \n",
      "    Saatim her zaman Aytene beş var \n",
      "    Ya da Ayteni beş geçiyor. \n",
      "    Ne yana baksam gördüğüm o, \n",
      "    Gözümü yumsam aklımdan Ayten geçiyor.\n",
      "\n",
      "    Bana sorarsanız mevsimlerden Aytendeyiz, \n",
      "    Günlerden Aytenertesidir. \n",
      "    Odur gün gün beni yaşatan. \n",
      "    Onun kokusu sarmıştır sokakları, \n",
      "    Onun gözleridir şafakta gördüğüm\n",
      "    Akşam kızıllığında onun dudakları.\n",
      "    \n",
      "    Başka kadını övmeyin yanımda, gücenirim. \n",
      "    Ayteni övecekseniz ne alâ, oturabilirsiniz.\n",
      "    Bir kadeh de sizinle içeriz, Aytenli\n",
      "    İki laf ederiz. \n",
      "\n",
      "\n",
      "\n",
      "\n",
      " Değişik metin ortaya eklenecek\n",
      "\n",
      " Bu yazıyı metnin ortasına yazalım\n",
      "\n",
      "    Onu siz de seversiniz benim gibi.\n",
      "\n",
      "    Ama yağma yok Ayteni size bırakmam. \n",
      "    Alın tek kat elbisemi size vereyim, \n",
      "    Cebimde bir on liram var \n",
      "    Onu da alın gerekirse. \n",
      "    Ben Ayteni düşünürüm, üşümem. \n",
      "    Üç kere adını tekrarlarım, karnım doyar. \n",
      "    Parasızlık da bir şey mi? \n",
      "    Ölüm bile kötü değil Aytensizlik kadar. \n",
      "\n",
      "    Ona uğramayan gemiler batsın, \n",
      "    Ondan geçmeyen trenler devrilsin, \n",
      "    Onu sevmeyen yürek taş kesilsin, \n",
      "    Kapansın onu görmeyen gözler, \n",
      "    Onu övmeyen diller kurusun. \n",
      "    İki kere iki dört, elde var Ayten. \n",
      "    Bundan böyle dünyada\n",
      "    Aşkın adı Ayten olsun.\n",
      "\n",
      "    Ümit Yaşar Oğuzcan\n",
      "    Bu metni şiirin başına ekle\n",
      "Ümit Yaşar Oğuzcan'a ait Güzel bir şiir\n",
      "\n",
      "1750\n"
     ]
    }
   ],
   "source": [
    "with open(\"siir2.txt\", \"r+\", encoding=\"utf-8\") as dosya:\n",
    "    liste = dosya.readlines()\n",
    "    # print(len(liste))\n",
    "    # print(liste)\n",
    "    liste.insert(25, \"\\n\\n Değişik metin ortaya eklenecek\\n\\n\")\n",
    "    dosya.seek(0)\n",
    "    for i in liste:\n",
    "        dosya.write(i)\n",
    "\n",
    "with open(\"siir2.txt\", \"r\", encoding=\"utf-8\") as dosya:\n",
    "    print(dosya.read())\n",
    "    print(dosya.tell())\n"
   ]
  }
 ],
 "metadata": {
  "kernelspec": {
   "display_name": "Python 3",
   "language": "python",
   "name": "python3"
  },
  "language_info": {
   "codemirror_mode": {
    "name": "ipython",
    "version": 3
   },
   "file_extension": ".py",
   "mimetype": "text/x-python",
   "name": "python",
   "nbconvert_exporter": "python",
   "pygments_lexer": "ipython3",
   "version": "3.11.4"
  }
 },
 "nbformat": 4,
 "nbformat_minor": 2
}
