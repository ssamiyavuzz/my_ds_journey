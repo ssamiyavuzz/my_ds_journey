{
 "cells": [
  {
   "cell_type": "markdown",
   "metadata": {},
   "source": [
    "##### regular expression (Düzenli ifadeler ) kullanıcıdan girilen inputun istenen kurallara uyup uymadığını kontrol etmeye yarar"
   ]
  },
  {
   "cell_type": "code",
   "execution_count": 1,
   "metadata": {},
   "outputs": [],
   "source": [
    "import re"
   ]
  },
  {
   "cell_type": "markdown",
   "metadata": {},
   "source": [
    "findall: Tüm eşleşmeleri göster(liste halinde)<br>\n",
    "search: Eşleşme olup olmadığını göster<br>\n",
    "split: eşleşme noktalarından böl ve liste oluştur<br>\n",
    "sub: eşleşmeleri verilen ifade ile değiştir.<br>"
   ]
  },
  {
   "cell_type": "code",
   "execution_count": 8,
   "metadata": {},
   "outputs": [],
   "source": [
    "import re\n",
    "\n",
    "text = \"\"\"Yar, gözüm çekinir yüzün basmaya,\n",
    "          Bir zahmet buyursan kulak asmaya,\n",
    "          Hazırdır Kelama elim basmaya,\n",
    "          Bir gülüş ikram et, götür asmaya.\"\"\""
   ]
  },
  {
   "cell_type": "code",
   "execution_count": 3,
   "metadata": {},
   "outputs": [],
   "source": [
    "pattern = \"asma\""
   ]
  },
  {
   "cell_type": "code",
   "execution_count": 9,
   "metadata": {},
   "outputs": [
    {
     "data": {
      "text/plain": [
       "<re.Match object; span=(26, 30), match='asma'>"
      ]
     },
     "execution_count": 9,
     "metadata": {},
     "output_type": "execute_result"
    }
   ],
   "source": [
    "import re\n",
    "re.search(pattern, text)"
   ]
  },
  {
   "cell_type": "code",
   "execution_count": 5,
   "metadata": {},
   "outputs": [
    {
     "data": {
      "text/plain": [
       "26"
      ]
     },
     "execution_count": 5,
     "metadata": {},
     "output_type": "execute_result"
    }
   ],
   "source": [
    "text.find(pattern)"
   ]
  },
  {
   "cell_type": "code",
   "execution_count": 6,
   "metadata": {},
   "outputs": [
    {
     "name": "stdout",
     "output_type": "stream",
     "text": [
      "Help on function search in module re:\n",
      "\n",
      "search(pattern, string, flags=0)\n",
      "    Scan through string looking for a match to the pattern, returning\n",
      "    a Match object, or None if no match was found.\n",
      "\n"
     ]
    }
   ],
   "source": [
    "help(re.search)"
   ]
  },
  {
   "cell_type": "code",
   "execution_count": 7,
   "metadata": {},
   "outputs": [
    {
     "data": {
      "text/plain": [
       "['asma', 'asma', 'asma', 'asma']"
      ]
     },
     "execution_count": 7,
     "metadata": {},
     "output_type": "execute_result"
    }
   ],
   "source": [
    "sonuc= re.findall(pattern, text)\n",
    "sonuc"
   ]
  },
  {
   "cell_type": "code",
   "execution_count": 11,
   "metadata": {},
   "outputs": [
    {
     "data": {
      "text/plain": [
       "<re.Match object; span=(26, 30), match='asma'>"
      ]
     },
     "execution_count": 11,
     "metadata": {},
     "output_type": "execute_result"
    }
   ],
   "source": [
    "sonuc = re.search(pattern, text)\n",
    "sonuc"
   ]
  },
  {
   "cell_type": "code",
   "execution_count": 12,
   "metadata": {},
   "outputs": [
    {
     "data": {
      "text/plain": [
       "'Yar, gözüm çekinir yüzün basmaya,\\n          Bir zahmet buyursan kulak asmaya,\\n          Hazırdır Kelama elim basmaya,\\n          Bir gülüş ikram et, götür asmaya.'"
      ]
     },
     "execution_count": 12,
     "metadata": {},
     "output_type": "execute_result"
    }
   ],
   "source": [
    "sonuc.string"
   ]
  },
  {
   "cell_type": "code",
   "execution_count": 13,
   "metadata": {},
   "outputs": [
    {
     "data": {
      "text/plain": [
       "((26, 30),)"
      ]
     },
     "execution_count": 13,
     "metadata": {},
     "output_type": "execute_result"
    }
   ],
   "source": [
    "sonuc.regs"
   ]
  },
  {
   "cell_type": "code",
   "execution_count": 16,
   "metadata": {},
   "outputs": [
    {
     "data": {
      "text/plain": [
       "30"
      ]
     },
     "execution_count": 16,
     "metadata": {},
     "output_type": "execute_result"
    }
   ],
   "source": [
    "sonuc.end()"
   ]
  },
  {
   "cell_type": "code",
   "execution_count": 17,
   "metadata": {},
   "outputs": [
    {
     "data": {
      "text/plain": [
       "26"
      ]
     },
     "execution_count": 17,
     "metadata": {},
     "output_type": "execute_result"
    }
   ],
   "source": [
    "sonuc.start()"
   ]
  },
  {
   "cell_type": "code",
   "execution_count": 18,
   "metadata": {},
   "outputs": [
    {
     "data": {
      "text/plain": [
       "'asma'"
      ]
     },
     "execution_count": 18,
     "metadata": {},
     "output_type": "execute_result"
    }
   ],
   "source": [
    "sonuc.group()"
   ]
  },
  {
   "cell_type": "markdown",
   "metadata": {},
   "source": [
    "### Match fonksiyonu()"
   ]
  },
  {
   "cell_type": "code",
   "execution_count": 19,
   "metadata": {},
   "outputs": [
    {
     "name": "stdout",
     "output_type": "stream",
     "text": [
      "<re.Match object; span=(0, 3), match='Yar'>\n"
     ]
    }
   ],
   "source": [
    "print(re.match(\"Yar\", text))"
   ]
  },
  {
   "cell_type": "code",
   "execution_count": 20,
   "metadata": {},
   "outputs": [
    {
     "name": "stdout",
     "output_type": "stream",
     "text": [
      "None\n"
     ]
    }
   ],
   "source": [
    "print(re.match(\"asma\", text))"
   ]
  },
  {
   "cell_type": "code",
   "execution_count": 21,
   "metadata": {},
   "outputs": [
    {
     "name": "stdout",
     "output_type": "stream",
     "text": [
      "None\n"
     ]
    }
   ],
   "source": [
    "print(re.match(\"kelama\", text))"
   ]
  },
  {
   "cell_type": "code",
   "execution_count": 22,
   "metadata": {},
   "outputs": [
    {
     "name": "stdout",
     "output_type": "stream",
     "text": [
      "None\n"
     ]
    }
   ],
   "source": [
    "print(re.match(\"Kelama\", text))"
   ]
  },
  {
   "cell_type": "code",
   "execution_count": 23,
   "metadata": {},
   "outputs": [
    {
     "ename": "TypeError",
     "evalue": "expected string or bytes-like object, got 'list'",
     "output_type": "error",
     "traceback": [
      "\u001b[1;31m---------------------------------------------------------------------------\u001b[0m",
      "\u001b[1;31mTypeError\u001b[0m                                 Traceback (most recent call last)",
      "\u001b[1;32mc:\\Users\\Techpro\\Desktop\\AdvancePython\\session_22_21_10_2023_regex.ipynb Cell 21\u001b[0m line \u001b[0;36m2\n\u001b[0;32m      <a href='vscode-notebook-cell:/c%3A/Users/Techpro/Desktop/AdvancePython/session_22_21_10_2023_regex.ipynb#X31sZmlsZQ%3D%3D?line=0'>1</a>\u001b[0m liste \u001b[39m=\u001b[39m [\u001b[39m\"\u001b[39m\u001b[39mAyşe\u001b[39m\u001b[39m\"\u001b[39m, \u001b[39m\"\u001b[39m\u001b[39mFatma\u001b[39m\u001b[39m\"\u001b[39m, \u001b[39m\"\u001b[39m\u001b[39mElif\u001b[39m\u001b[39m\"\u001b[39m]\n\u001b[1;32m----> <a href='vscode-notebook-cell:/c%3A/Users/Techpro/Desktop/AdvancePython/session_22_21_10_2023_regex.ipynb#X31sZmlsZQ%3D%3D?line=1'>2</a>\u001b[0m re\u001b[39m.\u001b[39;49msearch(\u001b[39m\"\u001b[39;49m\u001b[39mAyşe\u001b[39;49m\u001b[39m\"\u001b[39;49m, liste)\n",
      "File \u001b[1;32mc:\\Users\\Techpro\\AppData\\Local\\Programs\\Python\\Python311\\Lib\\re\\__init__.py:176\u001b[0m, in \u001b[0;36msearch\u001b[1;34m(pattern, string, flags)\u001b[0m\n\u001b[0;32m    173\u001b[0m \u001b[39mdef\u001b[39;00m \u001b[39msearch\u001b[39m(pattern, string, flags\u001b[39m=\u001b[39m\u001b[39m0\u001b[39m):\n\u001b[0;32m    174\u001b[0m \u001b[39m    \u001b[39m\u001b[39m\"\"\"Scan through string looking for a match to the pattern, returning\u001b[39;00m\n\u001b[0;32m    175\u001b[0m \u001b[39m    a Match object, or None if no match was found.\"\"\"\u001b[39;00m\n\u001b[1;32m--> 176\u001b[0m     \u001b[39mreturn\u001b[39;00m _compile(pattern, flags)\u001b[39m.\u001b[39;49msearch(string)\n",
      "\u001b[1;31mTypeError\u001b[0m: expected string or bytes-like object, got 'list'"
     ]
    }
   ],
   "source": [
    "liste = [\"Ayşe\", \"Fatma\", \"Elif\"]\n",
    "re.search(\"Ayşe\", liste)"
   ]
  },
  {
   "cell_type": "code",
   "execution_count": 24,
   "metadata": {},
   "outputs": [
    {
     "data": {
      "text/plain": [
       "True"
      ]
     },
     "execution_count": 24,
     "metadata": {},
     "output_type": "execute_result"
    }
   ],
   "source": [
    "liste = [\"Ayşe\", \"Fatma\", \"Elif\"]\n",
    "\"Ayşe\" in liste"
   ]
  },
  {
   "cell_type": "code",
   "execution_count": 27,
   "metadata": {},
   "outputs": [
    {
     "name": "stdout",
     "output_type": "stream",
     "text": [
      "Ayşe\n"
     ]
    }
   ],
   "source": [
    "for i in liste:\n",
    "    if re.search(\"Ayşe\", i):\n",
    "        print(i)"
   ]
  },
  {
   "cell_type": "code",
   "execution_count": 29,
   "metadata": {},
   "outputs": [
    {
     "name": "stdout",
     "output_type": "stream",
     "text": [
      "Elif\n"
     ]
    }
   ],
   "source": [
    "for i in liste:\n",
    "    if re.match(\"Elif\", i):\n",
    "        print(i)"
   ]
  },
  {
   "cell_type": "code",
   "execution_count": 30,
   "metadata": {},
   "outputs": [
    {
     "name": "stdout",
     "output_type": "stream",
     "text": [
      "asma\n",
      "asma\n",
      "asma\n",
      "asma\n"
     ]
    }
   ],
   "source": [
    "for eslesme in re.findall(pattern, text):\n",
    "    print(eslesme)"
   ]
  },
  {
   "cell_type": "code",
   "execution_count": 35,
   "metadata": {},
   "outputs": [
    {
     "name": "stdout",
     "output_type": "stream",
     "text": [
      "asma (26, 30)\n",
      "asma (70, 74)\n",
      "asma (110, 114)\n",
      "asma (154, 158)\n"
     ]
    }
   ],
   "source": [
    "for eslesme in re.finditer(pattern, text):\n",
    "    print(eslesme.group(), eslesme.span())"
   ]
  },
  {
   "cell_type": "code",
   "execution_count": 36,
   "metadata": {},
   "outputs": [
    {
     "data": {
      "text/plain": [
       "[<re.Match object; span=(26, 30), match='asma'>,\n",
       " <re.Match object; span=(70, 74), match='asma'>,\n",
       " <re.Match object; span=(110, 114), match='asma'>,\n",
       " <re.Match object; span=(154, 158), match='asma'>]"
      ]
     },
     "execution_count": 36,
     "metadata": {},
     "output_type": "execute_result"
    }
   ],
   "source": [
    "list(re.finditer(pattern, text))"
   ]
  },
  {
   "cell_type": "code",
   "execution_count": 45,
   "metadata": {},
   "outputs": [
    {
     "data": {
      "text/plain": [
       "['1', '2', '89', '34', '252']"
      ]
     },
     "execution_count": 45,
     "metadata": {},
     "output_type": "execute_result"
    }
   ],
   "source": [
    "metin = \"Hello world 1 2 hi 89. How do you 34 fun 252\"\n",
    "pattern = r\"\\d+\"\n",
    "re.findall(pattern, metin)"
   ]
  },
  {
   "cell_type": "code",
   "execution_count": 43,
   "metadata": {},
   "outputs": [
    {
     "data": {
      "text/plain": [
       "\"Ali\\\\'nin kırmızı otomobili\""
      ]
     },
     "execution_count": 43,
     "metadata": {},
     "output_type": "execute_result"
    }
   ],
   "source": [
    "deneme = r'Ali\\'nin kırmızı otomobili'\n",
    "deneme"
   ]
  },
  {
   "cell_type": "code",
   "execution_count": 49,
   "metadata": {},
   "outputs": [
    {
     "data": {
      "text/plain": [
       "['0555-656235', '0555-656335', '0555-656245']"
      ]
     },
     "execution_count": 49,
     "metadata": {},
     "output_type": "execute_result"
    }
   ],
   "source": [
    "metin2 = \"telefon 65651 65 1595 numaralar 0555-656235 diğer 0555-656335 mehmet 0555-656245      \"\n",
    "pattern = r\"\\d+-\\d+\"\n",
    "re.findall(pattern, metin2)"
   ]
  },
  {
   "cell_type": "code",
   "execution_count": 50,
   "metadata": {},
   "outputs": [
    {
     "data": {
      "text/plain": [
       "['0555-656235', '0555-656335', '0555-656245']"
      ]
     },
     "execution_count": 50,
     "metadata": {},
     "output_type": "execute_result"
    }
   ],
   "source": [
    "metin2 = \"telefon 65651 65 1595 numaralar 0555-656235 diğer 0555-656335 mehmet 0555-656245      \"\n",
    "pattern = r\"\\d{4}-\\d{6}\"\n",
    "re.findall(pattern, metin2)"
   ]
  },
  {
   "cell_type": "code",
   "execution_count": 51,
   "metadata": {},
   "outputs": [
    {
     "data": {
      "text/plain": [
       "['0555-656235', '0555-656335', '0555-656245']"
      ]
     },
     "execution_count": 51,
     "metadata": {},
     "output_type": "execute_result"
    }
   ],
   "source": [
    "metin2 = \"telefon -656516 65 1595 numaralar 0555-656235 diğer 0555-656335 mehmet 0555-656245      \"\n",
    "pattern = r\"\\d{4}-\\d{6}\"\n",
    "re.findall(pattern, metin2)"
   ]
  },
  {
   "cell_type": "markdown",
   "metadata": {},
   "source": [
    "### Meta Karakterler\n",
    "[]  Belirli karakterleri kullan     \"[a-m]\"<br>\n",
    "\\   Özel karakter belirt ya da sondaki karakteri dikkate alma       \"\\d\"<br>\n",
    ".   Satırbaş hariç herhangi bir karakter        \"he..o\"<br>\n",
    "^   ... ile başlayan        \"^hello\"<br>\n",
    "$   ... ile biten       \"$world\"<br>\n",
    "\"*   Sıfır ve üzeri sayıda eşleşme           \"aix*\"<br>\n",
    "\"+   Bir ve üzeri sayıda eşleşeme            \"aix+\"<br>\n",
    "{}  Kaç haneli sayı olduğunu                \"al{2}\"<br>\n",
    "|   İkisinden biri              \"falls|stays\"<br>\n",
    "()  Eşleşme ya da gruplama"
   ]
  },
  {
   "cell_type": "code",
   "execution_count": 52,
   "metadata": {},
   "outputs": [
    {
     "name": "stdout",
     "output_type": "stream",
     "text": [
      "23BH56\n",
      "4Y7UZ\n",
      "34534\n"
     ]
    }
   ],
   "source": [
    "# Rakam ile başlayanları bulalım\n",
    "a = [\"23BH56\",\"TY76Z\",\"4Y7UZ\",\"TYUDZ\",\"34534\"]\n",
    "\n",
    "for i in a:\n",
    "    if re.match(\"[0-9]\", i):\n",
    "        print(i)\n",
    "\n"
   ]
  },
  {
   "cell_type": "code",
   "execution_count": 54,
   "metadata": {},
   "outputs": [
    {
     "name": "stdout",
     "output_type": "stream",
     "text": [
      "TY76Z is valid\n"
     ]
    }
   ],
   "source": [
    "# TY76Z yi buulalım\n",
    "for i in a:\n",
    "    if re.match(\"[A-Z][A-Z][0-9][0-9][A-Z]\", i):\n",
    "        print(f\"{i} is valid\")"
   ]
  },
  {
   "cell_type": "code",
   "execution_count": 60,
   "metadata": {},
   "outputs": [
    {
     "name": "stdout",
     "output_type": "stream",
     "text": [
      "Aa123\n"
     ]
    }
   ],
   "source": [
    "# İlk karakter herhangi bir değer, ikinci rakam ve küçük harf\n",
    "a = [\"23BH56\",\"TY76Z\",\"4Y7UZ\",\"TYUDZ\",\"34534\",\"Aa123\"]\n",
    "for i in a:\n",
    "    if re.match(\".[a-z][0-9]\", i):\n",
    "        print(i)\n"
   ]
  },
  {
   "cell_type": "code",
   "execution_count": 68,
   "metadata": {},
   "outputs": [
    {
     "name": "stdout",
     "output_type": "stream",
     "text": [
      "23BH56\n",
      "34534\n",
      "Aa123\n"
     ]
    }
   ],
   "source": [
    "a = [\"23BH56\",\"TY76Z\",\"4Y7UZ\",\"TYUDZ\",\"34534\",\"Aa123\"]\n",
    "for i in a:\n",
    "    if re.match(\".[a-z0-9]\", i):\n",
    "        print(i)"
   ]
  },
  {
   "cell_type": "code",
   "execution_count": 70,
   "metadata": {},
   "outputs": [
    {
     "name": "stdout",
     "output_type": "stream",
     "text": [
      "['Python Kursu: Python Programalama ', 'ehberiniz | 40 saat']\n"
     ]
    }
   ],
   "source": [
    "import re\n",
    "\n",
    "str1 = \"Python Kursu: Python Programalama Rehberiniz | 40 saat\"\n",
    "\n",
    "result = re.split(\" \", str1)\n",
    "result = re.split(\"R\", str1)\n",
    "\n",
    "print(result)"
   ]
  },
  {
   "cell_type": "code",
   "execution_count": 72,
   "metadata": {},
   "outputs": [
    {
     "name": "stdout",
     "output_type": "stream",
     "text": [
      "Python-Kursu:-Python-Programalama-Rehberiniz-|-40-saat\n"
     ]
    }
   ],
   "source": [
    "str1 = \"Python Kursu: Python Programalama Rehberiniz | 40 saat\"\n",
    "\n",
    "result = re.sub(\" \", \"-\", str1)\n",
    "result = re.sub(\"\\s\", \"-\", str1)\n",
    "\n",
    "print(result)"
   ]
  },
  {
   "cell_type": "code",
   "execution_count": 85,
   "metadata": {},
   "outputs": [
    {
     "name": "stdout",
     "output_type": "stream",
     "text": [
      "['P', 'y', 't', 'h', 'o', 'n', ' ', 'K', 'u', 'r', 's', 'u', ':', ' ', 'P', 'y', 't', 'h', 'o', 'n', ' ', 'P', 'r', 'o', 'g', 'r', 'a', 'm', 'a', 'l', 'a', 'm', 'a', ' ', 'R', 'e', 'h', 'b', 'e', 'r', 'i', 'n', 'i', 'z', ' ', '|', ' ', ' ', 's', 'a', 'a', 't']\n"
     ]
    }
   ],
   "source": [
    "str1 = \"Python Kursu: Python Programalama Rehberiniz | 40 saat\"\n",
    "\n",
    "result = re.findall(\"[abc]\", str1)\n",
    "result = re.findall(\"[sat]\", str1)\n",
    "result = re.findall(\"[a-e]\", str1)\n",
    "result = re.findall(\"[a-z]\", str1)\n",
    "result = re.findall(\"[A-Z]\", str1)\n",
    "result = re.findall(\"[0-5]\", str1)\n",
    "result = re.findall(\"[0-395]\", str1)\n",
    "result = re.findall(\"[^abc]\", str1)\n",
    "result = re.findall(\"[^0-9]\", str1)\n",
    "\n",
    "print(result)"
   ]
  },
  {
   "cell_type": "code",
   "execution_count": 114,
   "metadata": {},
   "outputs": [
    {
     "name": "stdout",
     "output_type": "stream",
     "text": [
      "['saat']\n"
     ]
    }
   ],
   "source": [
    "str1 = \"Python Kursu: Python Programalama Rehberiniz | 40 saat\"\n",
    "\n",
    "result = re.findall(\"ctrl {3}\", str1)\n",
    "result = re.findall(\"Py..on\", str1)\n",
    "result = re.findall(\"^a\", str1)\n",
    "result = re.findall(\"^P\", str1)\n",
    "result = re.findall(\"a$\", str1)\n",
    "result = re.findall(\"t$\", str1)\n",
    "result = re.findall(\"saat$\", str1)\n",
    "result = re.findall(\"saatt$\", str1)\n",
    "result = re.findall(\"sa*t$\", str1)\n",
    "result = re.findall(\"sa+t$\", str1)\n",
    "\n",
    "print(result)"
   ]
  },
  {
   "cell_type": "code",
   "execution_count": 120,
   "metadata": {},
   "outputs": [
    {
     "name": "stdout",
     "output_type": "stream",
     "text": [
      "['P', 'y', 't', 'h', 'n', ' ', 'K', 'r', 's', ':', ' ', 'P', 'y', 't', 'h', 'n', ' ', 'P', 'r', 'g', 'r', 'm', 'l', 'm', ' ', 'R', 'e', 'h', 'b', 'e', 'r', 'i', 'n', 'i', 'z', ' ', '|', ' ', '4', '0', ' ', 's', 't']\n"
     ]
    }
   ],
   "source": [
    "str1 = \"Python Kursu: Python Programalama Rehberiniz | 40 saat\"\n",
    "\n",
    "result = re.findall(\"a|b\", str1)\n",
    "result = re.findall(\"(a|b|c)iz\", str1)\n",
    "result = re.findall(\"[^auo]\", str1)\n",
    "\n",
    "print(result)"
   ]
  },
  {
   "cell_type": "code",
   "execution_count": 121,
   "metadata": {},
   "outputs": [
    {
     "name": "stdout",
     "output_type": "stream",
     "text": [
      "['25', '30']\n"
     ]
    }
   ],
   "source": [
    "text = \"Bugün hava 25 derece ve yarın 30 derece olacak.\"\n",
    "\n",
    "pattern = r\"\\d+\"\n",
    "matches = re.findall(pattern, text)\n",
    "\n",
    "print(matches)"
   ]
  },
  {
   "cell_type": "code",
   "execution_count": 124,
   "metadata": {},
   "outputs": [
    {
     "name": "stdout",
     "output_type": "stream",
     "text": [
      "['10/11/2023', '22/11/2023']\n"
     ]
    }
   ],
   "source": [
    "text = \"Toplantı 10/11/2023 tarihinde yapılacak. Etkinlik ise 22/11/2023 tarihinde gerçekleşecek.\"\n",
    "\n",
    "pattern = r\"\\d{2}/\\d{2}/\\d{4}\"\n",
    "matches = re.findall(pattern, text)\n",
    "\n",
    "print(matches)\n"
   ]
  },
  {
   "cell_type": "code",
   "execution_count": 127,
   "metadata": {},
   "outputs": [
    {
     "name": "stdout",
     "output_type": "stream",
     "text": [
      "['123-45-6789']\n"
     ]
    }
   ],
   "source": [
    "text = \"Bir kişinin SSN numarası 123-45-6789'dur.\"\n",
    "\n",
    "pattern = r\"\\b\\d{3}-\\d{2}-\\d{4}\\b\"\n",
    "\n",
    "matches = re.findall(pattern, text)\n",
    "\n",
    "print(matches)\n"
   ]
  },
  {
   "cell_type": "code",
   "execution_count": 133,
   "metadata": {},
   "outputs": [
    {
     "name": "stdout",
     "output_type": "stream",
     "text": [
      "['user@example.com']\n"
     ]
    }
   ],
   "source": [
    "text = \"İletişim için lütfen benim e-posta adresim olan user@example.com user@ada adresine yazın.\"\n",
    "\n",
    "pattern = r\"\\b[A-Za-z0-9._%+-]+@[A-Za-z0-9.-]+\\.[A-Z|a-z]{2,7}\\b\"\n",
    "matches = re.findall(pattern, text, re.IGNORECASE)\n",
    "\n",
    "print(matches)\n"
   ]
  },
  {
   "cell_type": "code",
   "execution_count": 130,
   "metadata": {},
   "outputs": [
    {
     "name": "stdout",
     "output_type": "stream",
     "text": [
      "['user@example.com', 'user@ada']\n"
     ]
    }
   ],
   "source": [
    "text = \"İletişim için lütfen benim e-posta adresim olan user@example.com user@ada adresine yazın.\"\n",
    "pattern = r\"\\S+@\\S+\"\n",
    "matches = re.findall(pattern, text)\n",
    "print(matches)"
   ]
  }
 ],
 "metadata": {
  "kernelspec": {
   "display_name": "Python 3",
   "language": "python",
   "name": "python3"
  },
  "language_info": {
   "codemirror_mode": {
    "name": "ipython",
    "version": 3
   },
   "file_extension": ".py",
   "mimetype": "text/x-python",
   "name": "python",
   "nbconvert_exporter": "python",
   "pygments_lexer": "ipython3",
   "version": "3.11.4"
  }
 },
 "nbformat": 4,
 "nbformat_minor": 2
}
