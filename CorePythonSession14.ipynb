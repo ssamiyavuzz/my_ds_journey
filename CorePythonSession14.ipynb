{
 "cells": [
  {
   "cell_type": "markdown",
   "metadata": {},
   "source": [
    "# LOOPS"
   ]
  },
  {
   "cell_type": "markdown",
   "metadata": {},
   "source": [
    "## for"
   ]
  },
  {
   "cell_type": "markdown",
   "metadata": {},
   "source": [
    "for i in iterable:\n",
    "    body"
   ]
  },
  {
   "cell_type": "code",
   "execution_count": 2,
   "metadata": {},
   "outputs": [
    {
     "name": "stdout",
     "output_type": "stream",
     "text": [
      "t\n",
      "e\n",
      "c\n",
      "h\n",
      "p\n",
      "r\n",
      "o\n"
     ]
    }
   ],
   "source": [
    "for i in \"techpro\":\n",
    "    print(i)"
   ]
  },
  {
   "cell_type": "code",
   "execution_count": 3,
   "metadata": {},
   "outputs": [
    {
     "name": "stdout",
     "output_type": "stream",
     "text": [
      "1\n",
      "4\n",
      "9\n",
      "16\n",
      "25\n"
     ]
    }
   ],
   "source": [
    "for i in [1,2,3,4,5]:\n",
    "    print(i ** 2)"
   ]
  },
  {
   "cell_type": "code",
   "execution_count": 5,
   "metadata": {},
   "outputs": [
    {
     "name": "stdout",
     "output_type": "stream",
     "text": [
      "1\n",
      "4\n",
      "9\n",
      "16\n",
      "25\n"
     ]
    }
   ],
   "source": [
    "liste = [1,2,3,4,5]\n",
    "\n",
    "x = 0\n",
    "\n",
    "while x < len(liste):\n",
    "\n",
    "    print(liste[x] ** 2)\n",
    "\n",
    "    x += 1"
   ]
  },
  {
   "cell_type": "code",
   "execution_count": 6,
   "metadata": {},
   "outputs": [
    {
     "name": "stdout",
     "output_type": "stream",
     "text": [
      "1\n",
      "4\n",
      "9\n",
      "16\n",
      "25\n"
     ]
    }
   ],
   "source": [
    "for i in (1,2,3,4,5):\n",
    "    print(i ** 2)"
   ]
  },
  {
   "cell_type": "code",
   "execution_count": 7,
   "metadata": {},
   "outputs": [
    {
     "ename": "TypeError",
     "evalue": "'int' object is not iterable",
     "output_type": "error",
     "traceback": [
      "\u001b[1;31m---------------------------------------------------------------------------\u001b[0m",
      "\u001b[1;31mTypeError\u001b[0m                                 Traceback (most recent call last)",
      "\u001b[1;32mc:\\Users\\a\\Desktop\\B223-225\\session_14.ipynb Cell 8\u001b[0m line \u001b[0;36m1\n\u001b[1;32m----> <a href='vscode-notebook-cell:/c%3A/Users/a/Desktop/B223-225/session_14.ipynb#X12sZmlsZQ%3D%3D?line=0'>1</a>\u001b[0m \u001b[39mfor\u001b[39;00m i \u001b[39min\u001b[39;00m \u001b[39m1536\u001b[39m:\n\u001b[0;32m      <a href='vscode-notebook-cell:/c%3A/Users/a/Desktop/B223-225/session_14.ipynb#X12sZmlsZQ%3D%3D?line=1'>2</a>\u001b[0m     \u001b[39mprint\u001b[39m(i \u001b[39m*\u001b[39m\u001b[39m*\u001b[39m \u001b[39m2\u001b[39m)\n",
      "\u001b[1;31mTypeError\u001b[0m: 'int' object is not iterable"
     ]
    }
   ],
   "source": [
    "for i in 1536:\n",
    "    print(i ** 2)"
   ]
  },
  {
   "cell_type": "code",
   "execution_count": 8,
   "metadata": {},
   "outputs": [
    {
     "name": "stdout",
     "output_type": "stream",
     "text": [
      "Ahmet\n",
      "Nazım\n",
      "Ali\n",
      "Ömer\n"
     ]
    }
   ],
   "source": [
    "for i in [\"ahmet\", \"nazım\", \"ali\", \"ömer\"]:\n",
    "    print(i.capitalize())"
   ]
  },
  {
   "cell_type": "code",
   "execution_count": 9,
   "metadata": {},
   "outputs": [
    {
     "name": "stdout",
     "output_type": "stream",
     "text": [
      "Ahmet*Nazım*Ali*Ömer*"
     ]
    }
   ],
   "source": [
    "for i in [\"ahmet\", \"nazım\", \"ali\", \"ömer\"]:\n",
    "    print(i.capitalize(),end=\"*\")"
   ]
  },
  {
   "cell_type": "markdown",
   "metadata": {},
   "source": [
    "\"Techpro\"\n",
    "\n",
    "\"T-e-c-h-p-r-o\""
   ]
  },
  {
   "cell_type": "code",
   "execution_count": 10,
   "metadata": {},
   "outputs": [
    {
     "name": "stdout",
     "output_type": "stream",
     "text": [
      "ahmet-mehmet-ali\n"
     ]
    }
   ],
   "source": [
    "print(\"ahmet\", \"mehmet\", \"ali\", sep=\"-\")"
   ]
  },
  {
   "cell_type": "code",
   "execution_count": 11,
   "metadata": {},
   "outputs": [
    {
     "name": "stdout",
     "output_type": "stream",
     "text": [
      "T-e-c-h-p-r-o-"
     ]
    }
   ],
   "source": [
    "for i in \"Techpro\":\n",
    "    print((i), end = \"-\")"
   ]
  },
  {
   "cell_type": "markdown",
   "metadata": {},
   "source": [
    "\"Techpro\"\n",
    "\n",
    "\"T-e-c-h-p-r-o\""
   ]
  },
  {
   "cell_type": "code",
   "execution_count": 14,
   "metadata": {},
   "outputs": [
    {
     "data": {
      "text/plain": [
       "'t-e-c-h-p-r-o'"
      ]
     },
     "execution_count": 14,
     "metadata": {},
     "output_type": "execute_result"
    }
   ],
   "source": [
    "empty_str = \"\"\n",
    "\n",
    "for i in \"techpro\":\n",
    "    empty_str += i + \"-\"\n",
    "empty_str.strip(\"-\")"
   ]
  },
  {
   "cell_type": "code",
   "execution_count": 15,
   "metadata": {},
   "outputs": [
    {
     "data": {
      "text/plain": [
       "'techpro'"
      ]
     },
     "execution_count": 15,
     "metadata": {},
     "output_type": "execute_result"
    }
   ],
   "source": [
    "\"\".join(\"techpro\")"
   ]
  },
  {
   "cell_type": "code",
   "execution_count": 16,
   "metadata": {},
   "outputs": [
    {
     "data": {
      "text/plain": [
       "'t-e-c-h-p-r-o'"
      ]
     },
     "execution_count": 16,
     "metadata": {},
     "output_type": "execute_result"
    }
   ],
   "source": [
    "\"-\".join(\"techpro\")"
   ]
  },
  {
   "cell_type": "code",
   "execution_count": 17,
   "metadata": {},
   "outputs": [
    {
     "data": {
      "text/plain": [
       "{'name': 'Yusif', 'surname': 'Ahmadov', 'age': 26}"
      ]
     },
     "execution_count": 17,
     "metadata": {},
     "output_type": "execute_result"
    }
   ],
   "source": [
    "dict_1 = {\"name\": \"Yusif\", \"surname\": \"Ahmadov\", \"age\": 26}\n",
    "dict_1"
   ]
  },
  {
   "cell_type": "code",
   "execution_count": 18,
   "metadata": {},
   "outputs": [
    {
     "name": "stdout",
     "output_type": "stream",
     "text": [
      "name\n",
      "surname\n",
      "age\n"
     ]
    }
   ],
   "source": [
    "for i in dict_1:\n",
    "    print(i)"
   ]
  },
  {
   "cell_type": "code",
   "execution_count": 19,
   "metadata": {},
   "outputs": [
    {
     "data": {
      "text/plain": [
       "dict_values(['Yusif', 'Ahmadov', 26])"
      ]
     },
     "execution_count": 19,
     "metadata": {},
     "output_type": "execute_result"
    }
   ],
   "source": [
    "dict_1.values()"
   ]
  },
  {
   "cell_type": "code",
   "execution_count": 20,
   "metadata": {},
   "outputs": [
    {
     "name": "stdout",
     "output_type": "stream",
     "text": [
      "Yusif\n",
      "Ahmadov\n",
      "26\n"
     ]
    }
   ],
   "source": [
    "for i in dict_1.values():\n",
    "    print(i)"
   ]
  },
  {
   "cell_type": "code",
   "execution_count": 21,
   "metadata": {},
   "outputs": [
    {
     "data": {
      "text/plain": [
       "dict_items([('name', 'Yusif'), ('surname', 'Ahmadov'), ('age', 26)])"
      ]
     },
     "execution_count": 21,
     "metadata": {},
     "output_type": "execute_result"
    }
   ],
   "source": [
    "dict_1.items()"
   ]
  },
  {
   "cell_type": "code",
   "execution_count": 22,
   "metadata": {},
   "outputs": [
    {
     "name": "stdout",
     "output_type": "stream",
     "text": [
      "('name', 'Yusif')\n",
      "('surname', 'Ahmadov')\n",
      "('age', 26)\n"
     ]
    }
   ],
   "source": [
    "for i in dict_1.items():\n",
    "    print(i)"
   ]
  },
  {
   "cell_type": "code",
   "execution_count": 23,
   "metadata": {},
   "outputs": [
    {
     "name": "stdout",
     "output_type": "stream",
     "text": [
      "key: name, value: Yusif\n",
      "key: surname, value: Ahmadov\n",
      "key: age, value: 26\n"
     ]
    }
   ],
   "source": [
    "for i, j in dict_1.items():\n",
    "    print(f\"key: {i}, value: {j}\")"
   ]
  },
  {
   "cell_type": "code",
   "execution_count": 24,
   "metadata": {},
   "outputs": [
    {
     "name": "stdout",
     "output_type": "stream",
     "text": [
      "key: name      , value: Yusif\n",
      "key: surname   , value: Ahmadov\n",
      "key: age       , value: 26\n"
     ]
    }
   ],
   "source": [
    "for i, j in dict_1.items():\n",
    "    print(f\"key: {i:<10}, value: {j}\")"
   ]
  },
  {
   "cell_type": "code",
   "execution_count": 25,
   "metadata": {},
   "outputs": [
    {
     "name": "stdout",
     "output_type": "stream",
     "text": [
      "key:       name, value: Yusif\n",
      "key:    surname, value: Ahmadov\n",
      "key:        age, value: 26\n"
     ]
    }
   ],
   "source": [
    "for i, j in dict_1.items():\n",
    "    print(f\"key: {i:>10}, value: {j}\")"
   ]
  },
  {
   "cell_type": "code",
   "execution_count": 26,
   "metadata": {},
   "outputs": [
    {
     "name": "stdout",
     "output_type": "stream",
     "text": [
      "key:    name   , value:   Yusif   \n",
      "key:  surname  , value:  Ahmadov  \n",
      "key:    age    , value:     26    \n"
     ]
    }
   ],
   "source": [
    "for i, j in dict_1.items():\n",
    "    print(f\"key: {i:^10}, value: {j:^10}\")"
   ]
  },
  {
   "cell_type": "code",
   "execution_count": 30,
   "metadata": {},
   "outputs": [
    {
     "name": "stdout",
     "output_type": "stream",
     "text": [
      "i:ali,j:data_scientist,k:26\n",
      "i:veli,j:python_develeoper,k:28\n"
     ]
    }
   ],
   "source": [
    "for i,j,k in [(\"ali\", \"data_scientist\", 26), (\"veli\", \"python_develeoper\", 28)]:\n",
    "    print(f\"i:{i},j:{j},k:{k}\")\n"
   ]
  },
  {
   "cell_type": "code",
   "execution_count": 31,
   "metadata": {},
   "outputs": [
    {
     "name": "stdout",
     "output_type": "stream",
     "text": [
      "i:ali,j:data_scientist,k:26\n"
     ]
    },
    {
     "ename": "ValueError",
     "evalue": "not enough values to unpack (expected 3, got 2)",
     "output_type": "error",
     "traceback": [
      "\u001b[1;31m---------------------------------------------------------------------------\u001b[0m",
      "\u001b[1;31mValueError\u001b[0m                                Traceback (most recent call last)",
      "\u001b[1;32mc:\\Users\\a\\Desktop\\B223-225\\session_14.ipynb Cell 29\u001b[0m line \u001b[0;36m1\n\u001b[1;32m----> <a href='vscode-notebook-cell:/c%3A/Users/a/Desktop/B223-225/session_14.ipynb#X40sZmlsZQ%3D%3D?line=0'>1</a>\u001b[0m \u001b[39mfor\u001b[39;00m i,j,k \u001b[39min\u001b[39;00m [(\u001b[39m\"\u001b[39m\u001b[39mali\u001b[39m\u001b[39m\"\u001b[39m, \u001b[39m\"\u001b[39m\u001b[39mdata_scientist\u001b[39m\u001b[39m\"\u001b[39m, \u001b[39m26\u001b[39m), (\u001b[39m\"\u001b[39m\u001b[39mveli\u001b[39m\u001b[39m\"\u001b[39m, \u001b[39m\"\u001b[39m\u001b[39mpython_develeoper\u001b[39m\u001b[39m\"\u001b[39m)]:\n\u001b[0;32m      <a href='vscode-notebook-cell:/c%3A/Users/a/Desktop/B223-225/session_14.ipynb#X40sZmlsZQ%3D%3D?line=1'>2</a>\u001b[0m     \u001b[39mprint\u001b[39m(\u001b[39mf\u001b[39m\u001b[39m\"\u001b[39m\u001b[39mi:\u001b[39m\u001b[39m{\u001b[39;00mi\u001b[39m}\u001b[39;00m\u001b[39m,j:\u001b[39m\u001b[39m{\u001b[39;00mj\u001b[39m}\u001b[39;00m\u001b[39m,k:\u001b[39m\u001b[39m{\u001b[39;00mk\u001b[39m}\u001b[39;00m\u001b[39m\"\u001b[39m)\n",
      "\u001b[1;31mValueError\u001b[0m: not enough values to unpack (expected 3, got 2)"
     ]
    }
   ],
   "source": [
    "for i, j, k in [(\"ali\", \"data_scientist\", 26), (\"veli\", \"python_develeoper\")]:\n",
    "    print(f\"i:{i},j:{j},k:{k}\")"
   ]
  },
  {
   "cell_type": "code",
   "execution_count": 32,
   "metadata": {},
   "outputs": [
    {
     "ename": "ValueError",
     "evalue": "not enough values to unpack (expected 3, got 2)",
     "output_type": "error",
     "traceback": [
      "\u001b[1;31m---------------------------------------------------------------------------\u001b[0m",
      "\u001b[1;31mValueError\u001b[0m                                Traceback (most recent call last)",
      "\u001b[1;32mc:\\Users\\a\\Desktop\\B223-225\\session_14.ipynb Cell 30\u001b[0m line \u001b[0;36m1\n\u001b[1;32m----> <a href='vscode-notebook-cell:/c%3A/Users/a/Desktop/B223-225/session_14.ipynb#X65sZmlsZQ%3D%3D?line=0'>1</a>\u001b[0m \u001b[39mfor\u001b[39;00m i, j, k \u001b[39min\u001b[39;00m [(\u001b[39m\"\u001b[39m\u001b[39mali\u001b[39m\u001b[39m\"\u001b[39m, \u001b[39m\"\u001b[39m\u001b[39mdata_scientist\u001b[39m\u001b[39m\"\u001b[39m), (\u001b[39m\"\u001b[39m\u001b[39mveli\u001b[39m\u001b[39m\"\u001b[39m, \u001b[39m\"\u001b[39m\u001b[39mpython_develeoper\u001b[39m\u001b[39m\"\u001b[39m)]:\n\u001b[0;32m      <a href='vscode-notebook-cell:/c%3A/Users/a/Desktop/B223-225/session_14.ipynb#X65sZmlsZQ%3D%3D?line=1'>2</a>\u001b[0m     \u001b[39mprint\u001b[39m(\u001b[39mf\u001b[39m\u001b[39m\"\u001b[39m\u001b[39mi:\u001b[39m\u001b[39m{\u001b[39;00mi\u001b[39m}\u001b[39;00m\u001b[39m,j:\u001b[39m\u001b[39m{\u001b[39;00mj\u001b[39m}\u001b[39;00m\u001b[39m,k:\u001b[39m\u001b[39m{\u001b[39;00mk\u001b[39m}\u001b[39;00m\u001b[39m\"\u001b[39m)\n",
      "\u001b[1;31mValueError\u001b[0m: not enough values to unpack (expected 3, got 2)"
     ]
    }
   ],
   "source": [
    "for i, j, k in [(\"ali\", \"data_scientist\"), (\"veli\", \"python_develeoper\")]:\n",
    "    print(f\"i:{i},j:{j},k:{k}\")"
   ]
  },
  {
   "cell_type": "code",
   "execution_count": 33,
   "metadata": {},
   "outputs": [
    {
     "ename": "TypeError",
     "evalue": "'bool' object is not iterable",
     "output_type": "error",
     "traceback": [
      "\u001b[1;31m---------------------------------------------------------------------------\u001b[0m",
      "\u001b[1;31mTypeError\u001b[0m                                 Traceback (most recent call last)",
      "\u001b[1;32mc:\\Users\\a\\Desktop\\B223-225\\session_14.ipynb Cell 31\u001b[0m line \u001b[0;36m1\n\u001b[1;32m----> <a href='vscode-notebook-cell:/c%3A/Users/a/Desktop/B223-225/session_14.ipynb#X64sZmlsZQ%3D%3D?line=0'>1</a>\u001b[0m \u001b[39mfor\u001b[39;00m i \u001b[39min\u001b[39;00m \u001b[39mTrue\u001b[39;00m:\n\u001b[0;32m      <a href='vscode-notebook-cell:/c%3A/Users/a/Desktop/B223-225/session_14.ipynb#X64sZmlsZQ%3D%3D?line=1'>2</a>\u001b[0m     \u001b[39mprint\u001b[39m(i)\n",
      "\u001b[1;31mTypeError\u001b[0m: 'bool' object is not iterable"
     ]
    }
   ],
   "source": [
    "for i in True:\n",
    "    print(i)"
   ]
  },
  {
   "cell_type": "code",
   "execution_count": null,
   "metadata": {},
   "outputs": [],
   "source": [
    "# sonsuz döngü çalıştırma!\n",
    "liste_1 = [\"sonsuz döngü\"]\n",
    "\n",
    "for i in liste_1:\n",
    "    print(i)\n",
    "    liste_1.append(i)"
   ]
  },
  {
   "cell_type": "code",
   "execution_count": 2,
   "metadata": {},
   "outputs": [
    {
     "name": "stdout",
     "output_type": "stream",
     "text": [
      "1   - Hoca bize ceza verdi \n",
      "2   - Hoca bize ceza verdi \n",
      "3   - Hoca bize ceza verdi \n",
      "4   - Hoca bize ceza verdi \n",
      "5   - Hoca bize ceza verdi \n",
      "6   - Hoca bize ceza verdi \n",
      "7   - Hoca bize ceza verdi \n",
      "8   - Hoca bize ceza verdi \n",
      "9   - Hoca bize ceza verdi \n",
      "10  - Hoca bize ceza verdi \n",
      "11  - Hoca bize ceza verdi \n",
      "12  - Hoca bize ceza verdi \n",
      "13  - Hoca bize ceza verdi \n",
      "14  - Hoca bize ceza verdi \n",
      "15  - Hoca bize ceza verdi \n",
      "16  - Hoca bize ceza verdi \n",
      "17  - Hoca bize ceza verdi \n",
      "18  - Hoca bize ceza verdi \n",
      "19  - Hoca bize ceza verdi \n",
      "20  - Hoca bize ceza verdi \n",
      "21  - Hoca bize ceza verdi \n",
      "22  - Hoca bize ceza verdi \n",
      "23  - Hoca bize ceza verdi \n",
      "24  - Hoca bize ceza verdi \n",
      "25  - Hoca bize ceza verdi \n",
      "26  - Hoca bize ceza verdi \n",
      "27  - Hoca bize ceza verdi \n",
      "28  - Hoca bize ceza verdi \n",
      "29  - Hoca bize ceza verdi \n",
      "30  - Hoca bize ceza verdi \n",
      "31  - Hoca bize ceza verdi \n",
      "32  - Hoca bize ceza verdi \n",
      "33  - Hoca bize ceza verdi \n",
      "34  - Hoca bize ceza verdi \n",
      "35  - Hoca bize ceza verdi \n",
      "36  - Hoca bize ceza verdi \n",
      "37  - Hoca bize ceza verdi \n",
      "38  - Hoca bize ceza verdi \n",
      "39  - Hoca bize ceza verdi \n",
      "40  - Hoca bize ceza verdi \n",
      "41  - Hoca bize ceza verdi \n",
      "42  - Hoca bize ceza verdi \n",
      "43  - Hoca bize ceza verdi \n",
      "44  - Hoca bize ceza verdi \n",
      "45  - Hoca bize ceza verdi \n",
      "46  - Hoca bize ceza verdi \n",
      "47  - Hoca bize ceza verdi \n",
      "48  - Hoca bize ceza verdi \n",
      "49  - Hoca bize ceza verdi \n",
      "50  - Hoca bize ceza verdi \n"
     ]
    }
   ],
   "source": [
    "for i in range(1,51):\n",
    "    print(f\"{i:<3} - Hoca bize ceza verdi \")"
   ]
  },
  {
   "cell_type": "markdown",
   "metadata": {},
   "source": [
    "kulanıcan bir sayı isteyin ve çarpım tablosu oluşturun"
   ]
  },
  {
   "cell_type": "code",
   "execution_count": 6,
   "metadata": {},
   "outputs": [
    {
     "name": "stdout",
     "output_type": "stream",
     "text": [
      "7 x 1  = 7\n",
      "7 x 2  = 14\n",
      "7 x 3  = 21\n",
      "7 x 4  = 28\n",
      "7 x 5  = 35\n",
      "7 x 6  = 42\n",
      "7 x 7  = 49\n",
      "7 x 8  = 56\n",
      "7 x 9  = 63\n",
      "7 x 10 = 70\n"
     ]
    }
   ],
   "source": [
    "number = int(input(\"1 ile 9 arasında bir sayı girin(1 ve 9 dahil)\"))\n",
    "\n",
    "if 1 <= number <= 9:\n",
    "\n",
    "    for i in range(1,11):\n",
    "        print(f\"{number} x {i:<2} = {number * i}\")\n",
    "\n",
    "else:\n",
    "    print(\"1 ile 9 arasında bir sayı girmediniz.\")"
   ]
  },
  {
   "cell_type": "code",
   "execution_count": 2,
   "metadata": {},
   "outputs": [
    {
     "name": "stdout",
     "output_type": "stream",
     "text": [
      "8 x 1  = 8\n",
      "8 x 2  = 16\n",
      "8 x 3  = 24\n",
      "8 x 4  = 32\n",
      "8 x 5  = 40\n",
      "8 x 6  = 48\n",
      "8 x 7  = 56\n",
      "8 x 8  = 64\n",
      "8 x 9  = 72\n",
      "8 x 10 = 80\n"
     ]
    }
   ],
   "source": [
    "#sonsuz deneme hakkı olan kodlar.\n",
    "while True:\n",
    "\n",
    "    number = int(input(\"1 ile 9 arasında bir sayı girin(1 ve 9 dahil)\"))\n",
    "\n",
    "    if 1 <= number <= 9:\n",
    "\n",
    "        for i in range(1,11):\n",
    "            print(f\"{number} x {i:<2} = {number * i}\")\n",
    "        \n",
    "        break\n",
    "\n",
    "    else:\n",
    "        print(\"1 ile 9 arasında bir sayı girmediniz. Tekrar bir sayı girin\")"
   ]
  },
  {
   "cell_type": "code",
   "execution_count": null,
   "metadata": {},
   "outputs": [],
   "source": [
    "#3 deneme hakkı olan kodlar.\n",
    "deneme_sayısı = 0\n",
    "\n",
    "while deneme_sayısı < 3:\n",
    "    deneme_sayısı += 1\n",
    "    \n",
    "    number = int(input(\"1 ile 9 arasında bir sayı girin(1 ve 9 dahil)\"))\n",
    "\n",
    "    if 1 <= number <= 9:\n",
    "\n",
    "        for i in range(1,11):\n",
    "            print(f\"{number} x {i:<2} = {number * i}\")\n",
    "        \n",
    "        break\n",
    "\n",
    "    else:\n",
    "        print(\"1 ile 9 arasında bir sayı girmediniz. Tekrar bir sayı girin\")"
   ]
  },
  {
   "cell_type": "code",
   "execution_count": 3,
   "metadata": {},
   "outputs": [
    {
     "name": "stdout",
     "output_type": "stream",
     "text": [
      "8 x 1  = 8\n",
      "8 x 1  = 8\n",
      "7 x 1  = 7\n"
     ]
    }
   ],
   "source": [
    "#çalıştırma. break for döngüsünü durdurur. while sonsuza devam eder. \n",
    "while True:\n",
    "\n",
    "    number = int(input(\"1 ile 9 arasında bir sayı girin(1 ve 9 dahil)\"))\n",
    "\n",
    "    if 1 <= number <= 9:\n",
    "\n",
    "        for i in range(1,11):\n",
    "            print(f\"{number} x {i:<2} = {number * i}\")\n",
    "        \n",
    "            break\n",
    "\n",
    "    else:\n",
    "        print(\"1 ile 9 arasında bir sayı girmediniz. Tekrar bir sayı girin\")"
   ]
  },
  {
   "cell_type": "markdown",
   "metadata": {},
   "source": [
    "1 den 50(50 dahil) ye kadar olan sayıların toplamını bulan python kodunu yazınız. "
   ]
  },
  {
   "cell_type": "code",
   "execution_count": 1,
   "metadata": {},
   "outputs": [
    {
     "data": {
      "text/plain": [
       "1275"
      ]
     },
     "execution_count": 1,
     "metadata": {},
     "output_type": "execute_result"
    }
   ],
   "source": [
    "sum(range(1,51))"
   ]
  },
  {
   "cell_type": "code",
   "execution_count": 2,
   "metadata": {},
   "outputs": [
    {
     "name": "stdout",
     "output_type": "stream",
     "text": [
      "1275\n"
     ]
    }
   ],
   "source": [
    "total = 0\n",
    "\n",
    "for i in range(1,51):\n",
    "    total += i\n",
    "\n",
    "print(total)"
   ]
  },
  {
   "cell_type": "code",
   "execution_count": null,
   "metadata": {},
   "outputs": [],
   "source": [
    "(n * (n + 1)) / 2"
   ]
  },
  {
   "cell_type": "code",
   "execution_count": 4,
   "metadata": {},
   "outputs": [
    {
     "data": {
      "text/plain": [
       "1275.0"
      ]
     },
     "execution_count": 4,
     "metadata": {},
     "output_type": "execute_result"
    }
   ],
   "source": [
    "(50 * (50 + 1)) / 2"
   ]
  },
  {
   "cell_type": "code",
   "execution_count": 5,
   "metadata": {},
   "outputs": [
    {
     "data": {
      "text/plain": [
       "15"
      ]
     },
     "execution_count": 5,
     "metadata": {},
     "output_type": "execute_result"
    }
   ],
   "source": [
    "sum([1,2,3,4,5])"
   ]
  },
  {
   "cell_type": "code",
   "execution_count": 6,
   "metadata": {},
   "outputs": [
    {
     "data": {
      "text/plain": [
       "115"
      ]
     },
     "execution_count": 6,
     "metadata": {},
     "output_type": "execute_result"
    }
   ],
   "source": [
    "sum([1,2,3,4,5],100)"
   ]
  },
  {
   "cell_type": "code",
   "execution_count": 7,
   "metadata": {},
   "outputs": [
    {
     "data": {
      "text/plain": [
       "115"
      ]
     },
     "execution_count": 7,
     "metadata": {},
     "output_type": "execute_result"
    }
   ],
   "source": [
    "sum({1,2,3,4,5},100)"
   ]
  },
  {
   "cell_type": "code",
   "execution_count": 8,
   "metadata": {},
   "outputs": [
    {
     "data": {
      "text/plain": [
       "625"
      ]
     },
     "execution_count": 8,
     "metadata": {},
     "output_type": "execute_result"
    }
   ],
   "source": [
    "sum(range(1,51,2)) # tek sayılar toplamı"
   ]
  },
  {
   "cell_type": "code",
   "execution_count": 9,
   "metadata": {},
   "outputs": [
    {
     "data": {
      "text/plain": [
       "650"
      ]
     },
     "execution_count": 9,
     "metadata": {},
     "output_type": "execute_result"
    }
   ],
   "source": [
    "sum(range(2,51,2)) # çift sayıların toplamı. "
   ]
  },
  {
   "cell_type": "code",
   "execution_count": 11,
   "metadata": {},
   "outputs": [
    {
     "name": "stdout",
     "output_type": "stream",
     "text": [
      "650\n"
     ]
    }
   ],
   "source": [
    "çiftler_toplamı = 0\n",
    "\n",
    "for i in range(1,51):\n",
    "    if i % 2 == 0:\n",
    "        çiftler_toplamı += i\n",
    "print(çiftler_toplamı)"
   ]
  },
  {
   "cell_type": "code",
   "execution_count": null,
   "metadata": {},
   "outputs": [],
   "source": [
    "çiftler_toplamı = 0\n",
    "\n",
    "for i in range(1,51):\n",
    "    if i % 2 == 0:\n",
    "        çiftler_toplamı += i\n",
    "        \n",
    "    print(çiftler_toplamı)"
   ]
  },
  {
   "cell_type": "code",
   "execution_count": null,
   "metadata": {},
   "outputs": [],
   "source": [
    "çiftler_toplamı = 0\n",
    "\n",
    "for i in range(1,51):\n",
    "    if i % 2 == 0:\n",
    "        çiftler_toplamı += i\n",
    "        print(çiftler_toplamı)"
   ]
  },
  {
   "cell_type": "markdown",
   "metadata": {},
   "source": [
    "# break, continue"
   ]
  },
  {
   "cell_type": "code",
   "execution_count": 14,
   "metadata": {},
   "outputs": [
    {
     "data": {
      "text/plain": [
       "[1, 2, 3, 4, 5]"
      ]
     },
     "execution_count": 14,
     "metadata": {},
     "output_type": "execute_result"
    }
   ],
   "source": [
    "liste_2 = [1, 2, 3, 4, 5]\n",
    "liste_2"
   ]
  },
  {
   "cell_type": "code",
   "execution_count": 16,
   "metadata": {},
   "outputs": [
    {
     "name": "stdout",
     "output_type": "stream",
     "text": [
      "1\n",
      "4\n"
     ]
    }
   ],
   "source": [
    "for i in liste_2:\n",
    "    \n",
    "    if i % 3 == 0:\n",
    "        break\n",
    "    else:\n",
    "        print(i ** 2)"
   ]
  },
  {
   "cell_type": "code",
   "execution_count": 17,
   "metadata": {},
   "outputs": [
    {
     "name": "stdout",
     "output_type": "stream",
     "text": [
      "1\n",
      "4\n",
      "16\n",
      "25\n"
     ]
    }
   ],
   "source": [
    "for i in liste_2:\n",
    "    \n",
    "    if i % 3 == 0:\n",
    "        continue\n",
    "    else:\n",
    "        print(i ** 2)"
   ]
  },
  {
   "cell_type": "markdown",
   "metadata": {},
   "source": [
    "1 den 9 a kadar (9 dahil) sayıların toplamını bulun(5 ve 5 in katları hariç)"
   ]
  },
  {
   "cell_type": "code",
   "execution_count": 18,
   "metadata": {},
   "outputs": [
    {
     "data": {
      "text/plain": [
       "45"
      ]
     },
     "execution_count": 18,
     "metadata": {},
     "output_type": "execute_result"
    }
   ],
   "source": [
    "toplam = 0\n",
    "\n",
    "for i in range(1,10):\n",
    "\n",
    "    toplam += i\n",
    "toplam"
   ]
  },
  {
   "cell_type": "code",
   "execution_count": 19,
   "metadata": {},
   "outputs": [
    {
     "data": {
      "text/plain": [
       "40"
      ]
     },
     "execution_count": 19,
     "metadata": {},
     "output_type": "execute_result"
    }
   ],
   "source": [
    "toplam = 0\n",
    "\n",
    "for i in range(1,10):\n",
    "\n",
    "    if i % 5 == 0:\n",
    "        continue\n",
    "    \n",
    "    toplam += i\n",
    "toplam"
   ]
  },
  {
   "cell_type": "code",
   "execution_count": 23,
   "metadata": {},
   "outputs": [
    {
     "name": "stdout",
     "output_type": "stream",
     "text": [
      "650\n"
     ]
    }
   ],
   "source": [
    "toplam = 0\n",
    "\n",
    "for i in range(1,51):\n",
    "\n",
    "    if i % 2 == 1:\n",
    "        continue\n",
    "    toplam += i\n",
    "print(toplam)"
   ]
  },
  {
   "cell_type": "markdown",
   "metadata": {},
   "source": [
    "sayılar_listesi = [1,15,2,36,5,89,45,62,52,71,30,56,45,95,61,48]"
   ]
  },
  {
   "cell_type": "code",
   "execution_count": 26,
   "metadata": {},
   "outputs": [
    {
     "name": "stdout",
     "output_type": "stream",
     "text": [
      "tek sayılar: [1, 15, 5, 89, 45, 71, 45, 95, 61]\n",
      "çift sayılar: [2, 36, 62, 52, 30, 56, 48]\n"
     ]
    }
   ],
   "source": [
    "sayılar_listesi = [1,15,2,36,5,89,45,62,52,71,30,56,45,95,61,48]\n",
    "\n",
    "odds = []\n",
    "evens = []\n",
    "\n",
    "for i in sayılar_listesi:\n",
    "\n",
    "    if i % 2:\n",
    "        odds.append(i)\n",
    "    else:\n",
    "        evens.append(i)\n",
    "\n",
    "print(f\"tek sayılar: {odds}\")\n",
    "print(f\"çift sayılar: {evens}\")"
   ]
  },
  {
   "cell_type": "markdown",
   "metadata": {},
   "source": [
    "Bir markete gittiniz. Markette her ürünün bir kod numarası var.\n",
    "1 : Elma 2 : Portakal 3 : Çilek 4 : Yumurta 5 : Havuç 6 : Armut ... vs. şeklinde.\n",
    "Kullanıcıya almak istediği ürünü sorunuz ve kod numarası ile seçim yaptırınız. Çıkış için \"q\" opsiyonunu sununuz. Kullanıcının her ürün seçimi sonrası \" .... elma sepete eklendi\" gibi bir dönüt veriniz. Kullanıcı ürün almaya devam ettikçe ürünleri bir listede toplayınız, almaktan vazgeçtiği durumda teşekkür edip, aldığı toplam ürünleri çıktı veren bir kod yazınız.\n",
    "Çıktı:\n",
    "Teşekkür Ederiz...\n",
    "Sepetinizde Bulunan Ürünler: elma, armut, yumurta ... vs."
   ]
  },
  {
   "cell_type": "markdown",
   "metadata": {},
   "source": [
    "1 >>> Elma     \n",
    "2 >>> Portakal\n",
    "3 >>> Çilek\n",
    "4 >>> Yumurta\n",
    "5 >>> Havuç\n",
    "6 >>> Armut\n",
    "Yumurta sepete eklendi.\n",
    "Portakal sepete eklendi.\n",
    "Bizi tercih ettiğiniz için teşekkürler. Yine bekleriz.\n",
    "Almış olduğunuz ürünler: ['Yumurta', 'Portakal']"
   ]
  },
  {
   "cell_type": "code",
   "execution_count": null,
   "metadata": {},
   "outputs": [],
   "source": []
  }
 ],
 "metadata": {
  "kernelspec": {
   "display_name": "base",
   "language": "python",
   "name": "python3"
  },
  "language_info": {
   "codemirror_mode": {
    "name": "ipython",
    "version": 3
   },
   "file_extension": ".py",
   "mimetype": "text/x-python",
   "name": "python",
   "nbconvert_exporter": "python",
   "pygments_lexer": "ipython3",
   "version": "3.10.9"
  }
 },
 "nbformat": 4,
 "nbformat_minor": 2
}
