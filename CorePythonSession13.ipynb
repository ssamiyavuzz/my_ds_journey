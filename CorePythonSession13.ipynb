{
 "cells": [
  {
   "cell_type": "code",
   "execution_count": 1,
   "metadata": {},
   "outputs": [],
   "source": [
    "sayılar_listesi = [1,15,2,36,5,89,45,62,52,71,30,56,45,95,61,48]"
   ]
  },
  {
   "cell_type": "code",
   "execution_count": 2,
   "metadata": {},
   "outputs": [
    {
     "name": "stdout",
     "output_type": "stream",
     "text": [
      "tek sayılar listesi: [1, 15, 5, 89, 45, 71, 45, 95, 61]\n",
      "çift sayılar listesi: [2, 36, 62, 52, 30, 56, 48]\n"
     ]
    }
   ],
   "source": [
    "\n",
    "odds = []\n",
    "\n",
    "evens = []\n",
    "\n",
    "x = 0\n",
    "\n",
    "while x < len(sayılar_listesi):\n",
    "\n",
    "    if sayılar_listesi[x] % 2 == 0:\n",
    "        evens.append(sayılar_listesi[x])\n",
    "    \n",
    "    else:\n",
    "        odds.append(sayılar_listesi[x])\n",
    "\n",
    "    x += 1 \n",
    "\n",
    "print(f\"tek sayılar listesi: {odds}\")\n",
    "print(f\"çift sayılar listesi: {evens}\")\n"
   ]
  },
  {
   "cell_type": "code",
   "execution_count": 7,
   "metadata": {},
   "outputs": [
    {
     "name": "stdout",
     "output_type": "stream",
     "text": [
      "tek sayılar listesi: [1, 15, 5, 89, 45, 71, 45, 95, 61]. Bu liste 9 elemanlıdır\n",
      "çift sayılar listesi: [2, 36, 62, 52, 30, 56, 48]. Bu liste 7 elemanlıdır\n"
     ]
    }
   ],
   "source": [
    "odds = []\n",
    "\n",
    "evens = []\n",
    "\n",
    "x = 0\n",
    "\n",
    "while x < len(sayılar_listesi):\n",
    "\n",
    "    if sayılar_listesi[x] % 2 == 0:\n",
    "        evens.append(sayılar_listesi[x])\n",
    "    \n",
    "    else:\n",
    "        odds.append(sayılar_listesi[x])\n",
    "\n",
    "    x += 1 \n",
    "\n",
    "print(\"tek sayılar listesi: {}. Bu liste {} elemanlıdır\".format(odds, len(odds)))\n",
    "print(\"çift sayılar listesi: {}. Bu liste {} elemanlıdır\".format(evens, len(evens)))"
   ]
  },
  {
   "cell_type": "code",
   "execution_count": 8,
   "metadata": {},
   "outputs": [
    {
     "name": "stdout",
     "output_type": "stream",
     "text": [
      "tek sayılar listesi: None\n",
      "çift sayılar listesi: [2, 36, 62, 52, 30, 56, 48]\n"
     ]
    }
   ],
   "source": [
    "\n",
    "odds = []\n",
    "\n",
    "evens = []\n",
    "\n",
    "x = 0\n",
    "\n",
    "while x < len(sayılar_listesi):\n",
    "\n",
    "    if sayılar_listesi[x] % 2 == 0:\n",
    "        evens.append(sayılar_listesi[x])\n",
    "    \n",
    "    else:\n",
    "        odds.append(sayılar_listesi[x])\n",
    "\n",
    "    x += 1 \n",
    "\n",
    "print(f\"tek sayılar listesi: {odds.sort()}\")\n",
    "print(f\"çift sayılar listesi: {evens}\")"
   ]
  },
  {
   "cell_type": "code",
   "execution_count": 9,
   "metadata": {},
   "outputs": [
    {
     "data": {
      "text/plain": [
       "[1, 5, 15, 45, 45, 61, 71, 89, 95]"
      ]
     },
     "execution_count": 9,
     "metadata": {},
     "output_type": "execute_result"
    }
   ],
   "source": [
    "odds"
   ]
  },
  {
   "cell_type": "code",
   "execution_count": 10,
   "metadata": {},
   "outputs": [],
   "source": [
    "odds.sort()"
   ]
  },
  {
   "cell_type": "code",
   "execution_count": 12,
   "metadata": {},
   "outputs": [
    {
     "data": {
      "text/plain": [
       "[1, 5, 15, 45, 45, 61, 71, 89, 95]"
      ]
     },
     "execution_count": 12,
     "metadata": {},
     "output_type": "execute_result"
    }
   ],
   "source": [
    "odds"
   ]
  },
  {
   "cell_type": "code",
   "execution_count": 13,
   "metadata": {},
   "outputs": [
    {
     "name": "stdout",
     "output_type": "stream",
     "text": [
      "tek sayılar listesi: [1, 5, 15, 45, 45, 61, 71, 89, 95]\n",
      "çift sayılar listesi: [2, 30, 36, 48, 52, 56, 62]\n"
     ]
    }
   ],
   "source": [
    "odds = []\n",
    "\n",
    "evens = []\n",
    "\n",
    "x = 0\n",
    "\n",
    "while x < len(sayılar_listesi):\n",
    "\n",
    "    if sayılar_listesi[x] % 2 == 0:\n",
    "        evens.append(sayılar_listesi[x])\n",
    "    \n",
    "    else:\n",
    "        odds.append(sayılar_listesi[x])\n",
    "\n",
    "    x += 1 \n",
    "odds.sort()\n",
    "evens.sort()\n",
    "print(f\"tek sayılar listesi: {odds}\")\n",
    "print(f\"çift sayılar listesi: {evens}\")"
   ]
  },
  {
   "cell_type": "code",
   "execution_count": 15,
   "metadata": {},
   "outputs": [
    {
     "name": "stdout",
     "output_type": "stream",
     "text": [
      "Girdiğiniz sayı 12. Tahminini arttır.\n",
      "Girdiğiniz sayı 98. Tahminini azalt\n",
      "Girdiğiniz sayı 56. Tahminini azalt\n",
      "Girdiğiniz sayı 54. Tahminini arttır.\n",
      "Girdiğiniz sayı 55. Doğru bildiniz tebrikler.\n"
     ]
    }
   ],
   "source": [
    "aklımdaki_sayı = 55 \n",
    "\n",
    "while True:\n",
    "\n",
    "    tahmin = int(input(\"Aklımdaki sayıyı tahmin et\"))\n",
    "\n",
    "    if aklımdaki_sayı < tahmin:\n",
    "        print(f\"Girdiğiniz sayı {tahmin}. Tahminini azalt\")\n",
    "\n",
    "    elif aklımdaki_sayı > tahmin:\n",
    "        print(f\"Girdiğiniz sayı {tahmin}. Tahminini arttır.\")\n",
    "\n",
    "    else:\n",
    "        print(f\"Girdiğiniz sayı {tahmin}. Doğru bildiniz tebrikler.\")\n",
    "        break"
   ]
  },
  {
   "cell_type": "code",
   "execution_count": 16,
   "metadata": {},
   "outputs": [
    {
     "name": "stdout",
     "output_type": "stream",
     "text": [
      "Girdiğiniz sayı 80. Tahminini azalt\n",
      "Girdiğiniz sayı 20. Tahminini arttır.\n",
      "Girdiğiniz sayı 20. Tahminini arttır.\n",
      "Girdiğiniz sayı 60. Tahminini azalt\n",
      "Girdiğiniz sayı 41. Tahminini arttır.\n",
      "Girdiğiniz sayı 36. Tahminini arttır.\n",
      "Girdiğiniz sayı 55. 7 kerede bildiniz. Tebrikler.\n"
     ]
    }
   ],
   "source": [
    "aklımdaki_sayı = 55 \n",
    "sayac = 0\n",
    "\n",
    "while True:\n",
    "    sayac += 1 \n",
    "    tahmin = int(input(\"Aklımdaki sayıyı tahmin et\"))\n",
    "\n",
    "    if aklımdaki_sayı < tahmin:\n",
    "        print(f\"Girdiğiniz sayı {tahmin}. Tahminini azalt\")\n",
    "\n",
    "    elif aklımdaki_sayı > tahmin:\n",
    "        print(f\"Girdiğiniz sayı {tahmin}. Tahminini arttır.\")\n",
    "\n",
    "    else:\n",
    "        print(f\"Girdiğiniz sayı {tahmin}. {sayac} kerede bildiniz. Tebrikler.\")\n",
    "        break\n",
    "    "
   ]
  },
  {
   "cell_type": "code",
   "execution_count": 17,
   "metadata": {},
   "outputs": [
    {
     "name": "stdout",
     "output_type": "stream",
     "text": [
      "Girdiğiniz sayı 90. Tahminini azalt\n",
      "Girdiğiniz sayı 90. Tahminini azalt\n",
      "Girdiğiniz sayı 40. Tahminini arttır.\n",
      "Girdiğiniz sayı 30. Tahminini arttır.\n",
      "Girdiğiniz sayı 47. Tahminini arttır.\n",
      "5 hakkın bitti. Aklımdaki sayı 55 idi\n"
     ]
    }
   ],
   "source": [
    "aklımdaki_sayı = 55 \n",
    "sayac = 0\n",
    "\n",
    "while True:\n",
    "    sayac += 1\n",
    "    tahmin = int(input(\"Aklımdaki sayıyı tahmin et\"))\n",
    "\n",
    "    if aklımdaki_sayı < tahmin:\n",
    "        print(f\"Girdiğiniz sayı {tahmin}. Tahminini azalt\")\n",
    "\n",
    "    elif aklımdaki_sayı > tahmin:\n",
    "        print(f\"Girdiğiniz sayı {tahmin}. Tahminini arttır.\")\n",
    "\n",
    "    else:\n",
    "        print(f\"Girdiğiniz sayı {tahmin}. {sayac} kerede bildiniz. Tebrikler.\")\n",
    "        break\n",
    "\n",
    "    if sayac == 5:\n",
    "        print(f\"5 hakkın bitti. Aklımdaki sayı {aklımdaki_sayı} idi\")\n",
    "        break"
   ]
  },
  {
   "cell_type": "markdown",
   "metadata": {},
   "source": [
    "# random modülü"
   ]
  },
  {
   "cell_type": "code",
   "execution_count": null,
   "metadata": {},
   "outputs": [],
   "source": [
    "# import random as rd # as yapısı yeni isim vermeyi sağlar. "
   ]
  },
  {
   "cell_type": "code",
   "execution_count": 19,
   "metadata": {},
   "outputs": [],
   "source": [
    "import random"
   ]
  },
  {
   "cell_type": "code",
   "execution_count": 45,
   "metadata": {},
   "outputs": [
    {
     "data": {
      "text/plain": [
       "0.1313032898322326"
      ]
     },
     "execution_count": 45,
     "metadata": {},
     "output_type": "execute_result"
    }
   ],
   "source": [
    "random.random()"
   ]
  },
  {
   "cell_type": "code",
   "execution_count": 58,
   "metadata": {},
   "outputs": [
    {
     "data": {
      "text/plain": [
       "0.5486946056438222"
      ]
     },
     "execution_count": 58,
     "metadata": {},
     "output_type": "execute_result"
    }
   ],
   "source": [
    "random.seed(35)\n",
    "random.random()"
   ]
  },
  {
   "cell_type": "code",
   "execution_count": 66,
   "metadata": {},
   "outputs": [
    {
     "data": {
      "text/plain": [
       "4"
      ]
     },
     "execution_count": 66,
     "metadata": {},
     "output_type": "execute_result"
    }
   ],
   "source": [
    "random.randint(1,100)"
   ]
  },
  {
   "cell_type": "code",
   "execution_count": 69,
   "metadata": {},
   "outputs": [
    {
     "name": "stdout",
     "output_type": "stream",
     "text": [
      "Girdiğiniz sayı 50. Tahminini azalt\n",
      "Girdiğiniz sayı 25. Tahminini arttır.\n",
      "Girdiğiniz sayı 37. Tahminini arttır.\n",
      "Girdiğiniz sayı 45. Tahminini arttır.\n",
      "Girdiğiniz sayı 48. Tahminini azalt\n",
      "Girdiğiniz sayı 46. Tahminini arttır.\n",
      "Girdiğiniz sayı 47. 7 kerede bildiniz. Tebrikler.\n"
     ]
    }
   ],
   "source": [
    "import random\n",
    "import time\n",
    "aklımdaki_sayı = random.randint(1,100)\n",
    "sayac = 0\n",
    "\n",
    "time.sleep(2)\n",
    "\n",
    "while True:\n",
    "    sayac += 1\n",
    "    tahmin = int(input(\"Aklımdaki sayıyı tahmin et\"))\n",
    "\n",
    "    time.sleep(2)\n",
    "\n",
    "    if aklımdaki_sayı < tahmin:\n",
    "        print(f\"Girdiğiniz sayı {tahmin}. Tahminini azalt\")\n",
    "\n",
    "    elif aklımdaki_sayı > tahmin:\n",
    "        print(f\"Girdiğiniz sayı {tahmin}. Tahminini arttır.\")\n",
    "\n",
    "    else:\n",
    "        print(f\"Girdiğiniz sayı {tahmin}. {sayac} kerede bildiniz. Tebrikler.\")\n",
    "        break\n",
    "    \n",
    "    time.sleep(2)\n",
    "\n",
    "    if sayac == 7:\n",
    "        print(f\"7 hakkın bitti. Aklımdaki sayı {aklımdaki_sayı} idi\")\n",
    "        break\n",
    "    time.sleep(2)"
   ]
  },
  {
   "cell_type": "markdown",
   "metadata": {},
   "source": [
    "# min(), max()"
   ]
  },
  {
   "cell_type": "code",
   "execution_count": 70,
   "metadata": {},
   "outputs": [],
   "source": [
    "liste_1 = [1,4,5,6,9,85,23,65,47,32,91]"
   ]
  },
  {
   "cell_type": "code",
   "execution_count": 71,
   "metadata": {},
   "outputs": [
    {
     "data": {
      "text/plain": [
       "1"
      ]
     },
     "execution_count": 71,
     "metadata": {},
     "output_type": "execute_result"
    }
   ],
   "source": [
    "min(liste_1)"
   ]
  },
  {
   "cell_type": "code",
   "execution_count": 72,
   "metadata": {},
   "outputs": [
    {
     "data": {
      "text/plain": [
       "91"
      ]
     },
     "execution_count": 72,
     "metadata": {},
     "output_type": "execute_result"
    }
   ],
   "source": [
    "max(liste_1)"
   ]
  },
  {
   "cell_type": "code",
   "execution_count": 73,
   "metadata": {},
   "outputs": [],
   "source": [
    "liste_2 = [1,-4,5,6,-9,85,23,-65,47,32,91]"
   ]
  },
  {
   "cell_type": "code",
   "execution_count": 75,
   "metadata": {},
   "outputs": [
    {
     "data": {
      "text/plain": [
       "-65"
      ]
     },
     "execution_count": 75,
     "metadata": {},
     "output_type": "execute_result"
    }
   ],
   "source": [
    "min(liste_2)"
   ]
  },
  {
   "cell_type": "code",
   "execution_count": 76,
   "metadata": {},
   "outputs": [
    {
     "data": {
      "text/plain": [
       "'sedat'"
      ]
     },
     "execution_count": 76,
     "metadata": {},
     "output_type": "execute_result"
    }
   ],
   "source": [
    "min([\"sedat\",  \"techpro\" ])"
   ]
  },
  {
   "cell_type": "code",
   "execution_count": 77,
   "metadata": {},
   "outputs": [
    {
     "data": {
      "text/plain": [
       "<function str.capitalize()>"
      ]
     },
     "execution_count": 77,
     "metadata": {},
     "output_type": "execute_result"
    }
   ],
   "source": [
    "\"hello\".capitalize"
   ]
  },
  {
   "cell_type": "markdown",
   "metadata": {},
   "source": [
    "liste_1 = [4,5,6,9,85,1,23,65,47,32,91] listenin en küçük elemanını bulun. (min fonk ve sort metodu kullanmadan)"
   ]
  },
  {
   "cell_type": "code",
   "execution_count": 79,
   "metadata": {},
   "outputs": [
    {
     "name": "stdout",
     "output_type": "stream",
     "text": [
      "1\n"
     ]
    }
   ],
   "source": [
    "liste_1 = [4,5,6,9,85,1,23,65,47,32,91]\n",
    "\n",
    "x = 0\n",
    "\n",
    "min_sayı = liste_1[0]\n",
    "\n",
    "while x < len(liste_1):\n",
    "\n",
    "    if min_sayı > liste_1[x]:\n",
    "        min_sayı = liste_1[x]\n",
    "\n",
    "    x += 1\n",
    "\n",
    "print(min_sayı)"
   ]
  },
  {
   "cell_type": "code",
   "execution_count": 80,
   "metadata": {},
   "outputs": [
    {
     "name": "stdout",
     "output_type": "stream",
     "text": [
      "4\n"
     ]
    }
   ],
   "source": [
    "liste_1 = [4,5,6,9,85,15,23,65,47,32,91]\n",
    "\n",
    "x = 0\n",
    "\n",
    "min_sayı = liste_1[0]\n",
    "\n",
    "while x < len(liste_1):\n",
    "\n",
    "    if min_sayı > liste_1[x]:\n",
    "        min_sayı = liste_1[x]\n",
    "\n",
    "    x += 1\n",
    "\n",
    "print(min_sayı)"
   ]
  },
  {
   "cell_type": "code",
   "execution_count": null,
   "metadata": {},
   "outputs": [],
   "source": []
  },
  {
   "cell_type": "code",
   "execution_count": null,
   "metadata": {},
   "outputs": [],
   "source": []
  },
  {
   "cell_type": "code",
   "execution_count": null,
   "metadata": {},
   "outputs": [],
   "source": []
  },
  {
   "cell_type": "code",
   "execution_count": null,
   "metadata": {},
   "outputs": [],
   "source": []
  },
  {
   "cell_type": "code",
   "execution_count": null,
   "metadata": {},
   "outputs": [],
   "source": []
  },
  {
   "cell_type": "code",
   "execution_count": null,
   "metadata": {},
   "outputs": [],
   "source": []
  },
  {
   "cell_type": "code",
   "execution_count": null,
   "metadata": {},
   "outputs": [],
   "source": []
  },
  {
   "cell_type": "code",
   "execution_count": null,
   "metadata": {},
   "outputs": [],
   "source": []
  },
  {
   "cell_type": "code",
   "execution_count": null,
   "metadata": {},
   "outputs": [],
   "source": []
  },
  {
   "cell_type": "code",
   "execution_count": null,
   "metadata": {},
   "outputs": [],
   "source": []
  },
  {
   "cell_type": "code",
   "execution_count": null,
   "metadata": {},
   "outputs": [],
   "source": []
  },
  {
   "cell_type": "code",
   "execution_count": null,
   "metadata": {},
   "outputs": [],
   "source": []
  },
  {
   "cell_type": "code",
   "execution_count": null,
   "metadata": {},
   "outputs": [],
   "source": []
  },
  {
   "cell_type": "code",
   "execution_count": null,
   "metadata": {},
   "outputs": [],
   "source": []
  },
  {
   "cell_type": "code",
   "execution_count": null,
   "metadata": {},
   "outputs": [],
   "source": []
  }
 ],
 "metadata": {
  "kernelspec": {
   "display_name": "base",
   "language": "python",
   "name": "python3"
  },
  "language_info": {
   "codemirror_mode": {
    "name": "ipython",
    "version": 3
   },
   "file_extension": ".py",
   "mimetype": "text/x-python",
   "name": "python",
   "nbconvert_exporter": "python",
   "pygments_lexer": "ipython3",
   "version": "3.10.9"
  }
 },
 "nbformat": 4,
 "nbformat_minor": 2
}
