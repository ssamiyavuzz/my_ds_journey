{
 "cells": [
  {
   "cell_type": "markdown",
   "metadata": {},
   "source": [
    "# LOOPS"
   ]
  },
  {
   "cell_type": "markdown",
   "metadata": {},
   "source": [
    "## while"
   ]
  },
  {
   "cell_type": "code",
   "execution_count": null,
   "metadata": {},
   "outputs": [],
   "source": [
    "# çalıştırma. sonsuz döngü\n",
    "while 10 > 5:\n",
    "    print(\"bu döngü sonsuza kadar çalışır\")"
   ]
  },
  {
   "cell_type": "code",
   "execution_count": 9,
   "metadata": {},
   "outputs": [
    {
     "name": "stdout",
     "output_type": "stream",
     "text": [
      "Bu döngü koşul sağlandıkça çalışır. sonra durur.\n",
      "Bu döngü koşul sağlandıkça çalışır. sonra durur.\n",
      "Bu döngü koşul sağlandıkça çalışır. sonra durur.\n",
      "Bu döngü koşul sağlandıkça çalışır. sonra durur.\n",
      "Bu döngü koşul sağlandıkça çalışır. sonra durur.\n"
     ]
    }
   ],
   "source": [
    "x = 5\n",
    "\n",
    "while 10 > x:\n",
    "    print(\"Bu döngü koşul sağlandıkça çalışır. sonra durur.\")\n",
    "    x += 1 # x = x + 1"
   ]
  },
  {
   "cell_type": "code",
   "execution_count": 10,
   "metadata": {},
   "outputs": [
    {
     "name": "stdout",
     "output_type": "stream",
     "text": [
      "1\n",
      "2\n",
      "3\n",
      "4\n",
      "5\n",
      "6\n",
      "7\n",
      "8\n",
      "9\n"
     ]
    }
   ],
   "source": [
    "x = 1\n",
    "\n",
    "while x < 10:\n",
    "    print(x)\n",
    "    x += 1"
   ]
  },
  {
   "cell_type": "code",
   "execution_count": 11,
   "metadata": {},
   "outputs": [
    {
     "data": {
      "text/plain": [
       "10"
      ]
     },
     "execution_count": 11,
     "metadata": {},
     "output_type": "execute_result"
    }
   ],
   "source": [
    "x"
   ]
  },
  {
   "cell_type": "code",
   "execution_count": 12,
   "metadata": {},
   "outputs": [
    {
     "name": "stdout",
     "output_type": "stream",
     "text": [
      "1\n",
      "2\n",
      "3\n",
      "4\n",
      "5\n",
      "6\n",
      "7\n",
      "8\n",
      "9\n"
     ]
    }
   ],
   "source": [
    "x = 1\n",
    "\n",
    "while 10 > x:\n",
    "    print(x)\n",
    "    x += 1"
   ]
  },
  {
   "cell_type": "code",
   "execution_count": 15,
   "metadata": {},
   "outputs": [
    {
     "name": "stdout",
     "output_type": "stream",
     "text": [
      "1\n",
      "2\n",
      "3\n",
      "4\n",
      "5\n",
      "6\n",
      "7\n",
      "8\n",
      "9\n"
     ]
    }
   ],
   "source": [
    "x = 0\n",
    "\n",
    "while x < 9:\n",
    "    x += 1\n",
    "    print(x)\n",
    "    "
   ]
  },
  {
   "cell_type": "code",
   "execution_count": null,
   "metadata": {},
   "outputs": [],
   "source": [
    "# çalıştırma sonsuz dönhü\n",
    "x = 1\n",
    "\n",
    "while x < 10:\n",
    "    print(x)\n",
    "\n",
    "x += 1 # işlem while indent i içerisinde değil. "
   ]
  },
  {
   "cell_type": "code",
   "execution_count": 17,
   "metadata": {},
   "outputs": [],
   "source": [
    "while False:\n",
    "    print(\"sanki çalışmayacak\")"
   ]
  },
  {
   "cell_type": "code",
   "execution_count": null,
   "metadata": {},
   "outputs": [],
   "source": [
    "while 0:\n",
    "    print(\"bu da çalışmaz. \")"
   ]
  },
  {
   "cell_type": "code",
   "execution_count": null,
   "metadata": {},
   "outputs": [],
   "source": [
    "# Çalıştırma. sonsuz döngü.\n",
    "x = 1\n",
    "while True:\n",
    "    print(x, \"sonsuza gider\")\n",
    "    x += 1"
   ]
  },
  {
   "cell_type": "code",
   "execution_count": 20,
   "metadata": {},
   "outputs": [
    {
     "name": "stdout",
     "output_type": "stream",
     "text": [
      "while döngüsü condition False olana kadara çalışır\n"
     ]
    }
   ],
   "source": [
    "y = True\n",
    "\n",
    "while y:\n",
    "    print(\"while döngüsü condition False olana kadara çalışır\")\n",
    "    y = False"
   ]
  },
  {
   "cell_type": "code",
   "execution_count": null,
   "metadata": {},
   "outputs": [],
   "source": [
    "# çalıştırma.\n",
    "y = True\n",
    "\n",
    "while y:\n",
    "    print(\"while döngüsü condition False olana kadara çalışır\")\n",
    "\n",
    "y = False"
   ]
  },
  {
   "cell_type": "code",
   "execution_count": 21,
   "metadata": {},
   "outputs": [
    {
     "name": "stdout",
     "output_type": "stream",
     "text": [
      "1\n",
      "2\n",
      "3\n",
      "4\n",
      "5\n",
      "döngü bitti\n"
     ]
    }
   ],
   "source": [
    "x = 1\n",
    "\n",
    "while x < 6:\n",
    "    print(x)\n",
    "    x += 1\n",
    "\n",
    "print(\"döngü bitti\")"
   ]
  },
  {
   "cell_type": "code",
   "execution_count": 22,
   "metadata": {},
   "outputs": [
    {
     "name": "stdout",
     "output_type": "stream",
     "text": [
      "1\n",
      "döngü bitti\n",
      "2\n",
      "döngü bitti\n",
      "3\n",
      "döngü bitti\n",
      "4\n",
      "döngü bitti\n",
      "5\n",
      "döngü bitti\n"
     ]
    }
   ],
   "source": [
    "x = 1\n",
    "\n",
    "while x < 6:\n",
    "    print(x)\n",
    "    x += 1\n",
    "\n",
    "    print(\"döngü bitti\")"
   ]
  },
  {
   "cell_type": "code",
   "execution_count": 23,
   "metadata": {},
   "outputs": [
    {
     "name": "stdout",
     "output_type": "stream",
     "text": [
      "1\n",
      "4\n",
      "9\n",
      "16\n",
      "25\n"
     ]
    }
   ],
   "source": [
    "x = 1\n",
    "\n",
    "while x <= 5:\n",
    "    print(x ** 2)\n",
    "    x += 1"
   ]
  },
  {
   "cell_type": "code",
   "execution_count": 25,
   "metadata": {},
   "outputs": [
    {
     "name": "stdout",
     "output_type": "stream",
     "text": [
      "doğru sayıyıyı giremedin sanırım. \n",
      "doğru sayıyıyı giremedin sanırım. \n",
      "doğru sayıyıyı giremedin sanırım. \n",
      "doğru sayıyıyı giremedin sanırım. \n"
     ]
    }
   ],
   "source": [
    "# kullanıcıdan sayı isteyin sayı 50 den küçük ise döngü bitsin değilse devam etsin. \n",
    "x = int(input(\"bir sayı girin. 1 ile 100 arasında\"))\n",
    "\n",
    "while x > 50:\n",
    "    x = int(input(\"bir sayı girin\"))\n",
    "    print(\"doğru sayıyıyı giremedin sanırım.\")\n"
   ]
  },
  {
   "cell_type": "code",
   "execution_count": 26,
   "metadata": {},
   "outputs": [
    {
     "name": "stdout",
     "output_type": "stream",
     "text": [
      "Yanlış şifre. Şifrenizi tekrar girin\n",
      "Yanlış şifre. Şifrenizi tekrar girin\n",
      "Yanlış şifre. Şifrenizi tekrar girin\n",
      "işleme yönlendiriliyorsunuz\n"
     ]
    }
   ],
   "source": [
    "# Bankamatik şifre girme işleminin kodlarını yazın. 3 hatalı girme hakkınız var. \n",
    "\n",
    "kayıtlı_sifre = \"1234\"\n",
    "\n",
    "y = True\n",
    "\n",
    "while y:\n",
    "\n",
    "    kullanıcı_girisi = input(\"Lütfen şifrenizi girin\")\n",
    "\n",
    "    if kayıtlı_sifre == kullanıcı_girisi:\n",
    "        print(\"işleme yönlendiriliyorsunuz\")\n",
    "        y = False\n",
    "    else:\n",
    "        print(\"Yanlış şifre. Şifrenizi tekrar girin\")\n"
   ]
  },
  {
   "cell_type": "code",
   "execution_count": null,
   "metadata": {},
   "outputs": [],
   "source": [
    "# Bankamatik şifre girme işleminin kodlarını yazın. 3 hatalı girme hakkınız var. \n",
    "\n",
    "kayıtlı_sifre = \"1234\"\n",
    "\n",
    "count = 0\n",
    "\n",
    "y = True\n",
    "\n",
    "while y:\n",
    "    count += 1\n",
    "    kullanıcı_girisi = input(\"Lütfen şifrenizi girin\")\n",
    "\n",
    "    if kayıtlı_sifre == kullanıcı_girisi:\n",
    "        print(\"işleme yönlendiriliyorsunuz\")\n",
    "        y = False\n",
    "    else:\n",
    "        print(\"Yanlış şifre. Şifrenizi tekrar girin\")\n",
    "    \n",
    "    if count == 3:\n",
    "        y = False\n",
    "        print(\"hakkınız doldu. Kartınız bloke oldu\")\n",
    "    "
   ]
  },
  {
   "cell_type": "code",
   "execution_count": 34,
   "metadata": {},
   "outputs": [
    {
     "name": "stdout",
     "output_type": "stream",
     "text": [
      "işleme yönlendiriliyorsunuz\n"
     ]
    }
   ],
   "source": [
    "# Bankamatik şifre girme işleminin kodlarını yazın. 3 hatalı girme hakkınız var. \n",
    "\n",
    "kayıtlı_sifre = \"1234\"\n",
    "\n",
    "count = 0\n",
    "\n",
    "y = True\n",
    "\n",
    "while y:\n",
    "    count += 1\n",
    "    kullanıcı_girisi = input(\"Lütfen şifrenizi girin\")\n",
    "\n",
    "    if kayıtlı_sifre == kullanıcı_girisi:\n",
    "        print(\"işleme yönlendiriliyorsunuz\")\n",
    "        y = False\n",
    "        break\n",
    "    \n",
    "    if count == 3:\n",
    "        y = False\n",
    "        print(\"hakkınız doldu. Kartınız bloke oldu\")\n",
    "    else:\n",
    "        print(\"Yanlış şifre. Şifrenizi tekrar girin\")"
   ]
  },
  {
   "cell_type": "code",
   "execution_count": 35,
   "metadata": {},
   "outputs": [
    {
     "name": "stdout",
     "output_type": "stream",
     "text": [
      "1\n",
      "9\n",
      "36\n",
      "64\n",
      "121\n",
      "225\n"
     ]
    }
   ],
   "source": [
    "# listenin elemanlarının karesini döndüren kodu yazın. while ile çözün. \n",
    "sayılar_listesi = [1,3,6,8,11,15]\n",
    "\n",
    "x = 0\n",
    "\n",
    "while x < 6:\n",
    "\n",
    "    print(sayılar_listesi[x] ** 2)\n",
    "\n",
    "    x += 1\n"
   ]
  },
  {
   "cell_type": "code",
   "execution_count": 36,
   "metadata": {},
   "outputs": [
    {
     "name": "stdout",
     "output_type": "stream",
     "text": [
      "1\n",
      "9\n",
      "36\n",
      "64\n",
      "121\n",
      "225\n"
     ]
    }
   ],
   "source": [
    "# listenin elemanlarının karesini döndüren kodu yazın. while ile çözün. \n",
    "sayılar_listesi = [1,3,6,8,11,15]\n",
    "\n",
    "x = 0\n",
    "\n",
    "while x < len(sayılar_listesi):\n",
    "\n",
    "    print(sayılar_listesi[x] ** 2)\n",
    "\n",
    "    x += 1"
   ]
  },
  {
   "cell_type": "code",
   "execution_count": 38,
   "metadata": {},
   "outputs": [
    {
     "name": "stdout",
     "output_type": "stream",
     "text": [
      "[1, 9, 36, 64, 121, 225]\n"
     ]
    }
   ],
   "source": [
    "# listenin elemanlarının karesini liste içinde döndüren kodu yazın. while ile çözün. \n",
    "sayılar_listesi = [1,3,6,8,11,15]\n",
    "\n",
    "x = 0\n",
    "result_list = []\n",
    "\n",
    "while x < len(sayılar_listesi):\n",
    "\n",
    "    result_list.append(sayılar_listesi[x] ** 2)\n",
    "\n",
    "    x += 1\n",
    "\n",
    "print(result_list)"
   ]
  },
  {
   "cell_type": "code",
   "execution_count": null,
   "metadata": {},
   "outputs": [],
   "source": []
  },
  {
   "cell_type": "code",
   "execution_count": null,
   "metadata": {},
   "outputs": [],
   "source": []
  },
  {
   "cell_type": "code",
   "execution_count": null,
   "metadata": {},
   "outputs": [],
   "source": []
  },
  {
   "cell_type": "code",
   "execution_count": null,
   "metadata": {},
   "outputs": [],
   "source": []
  },
  {
   "cell_type": "code",
   "execution_count": null,
   "metadata": {},
   "outputs": [],
   "source": []
  },
  {
   "cell_type": "code",
   "execution_count": null,
   "metadata": {},
   "outputs": [],
   "source": []
  },
  {
   "cell_type": "code",
   "execution_count": null,
   "metadata": {},
   "outputs": [],
   "source": []
  },
  {
   "cell_type": "code",
   "execution_count": null,
   "metadata": {},
   "outputs": [],
   "source": []
  },
  {
   "cell_type": "code",
   "execution_count": null,
   "metadata": {},
   "outputs": [],
   "source": []
  },
  {
   "cell_type": "code",
   "execution_count": null,
   "metadata": {},
   "outputs": [],
   "source": []
  },
  {
   "cell_type": "code",
   "execution_count": null,
   "metadata": {},
   "outputs": [],
   "source": []
  },
  {
   "cell_type": "code",
   "execution_count": null,
   "metadata": {},
   "outputs": [],
   "source": []
  },
  {
   "cell_type": "code",
   "execution_count": null,
   "metadata": {},
   "outputs": [],
   "source": []
  },
  {
   "cell_type": "code",
   "execution_count": null,
   "metadata": {},
   "outputs": [],
   "source": []
  },
  {
   "cell_type": "code",
   "execution_count": null,
   "metadata": {},
   "outputs": [],
   "source": []
  },
  {
   "cell_type": "code",
   "execution_count": null,
   "metadata": {},
   "outputs": [],
   "source": []
  },
  {
   "cell_type": "code",
   "execution_count": null,
   "metadata": {},
   "outputs": [],
   "source": []
  },
  {
   "cell_type": "code",
   "execution_count": null,
   "metadata": {},
   "outputs": [],
   "source": []
  },
  {
   "cell_type": "code",
   "execution_count": null,
   "metadata": {},
   "outputs": [],
   "source": []
  },
  {
   "cell_type": "code",
   "execution_count": null,
   "metadata": {},
   "outputs": [],
   "source": []
  }
 ],
 "metadata": {
  "kernelspec": {
   "display_name": "base",
   "language": "python",
   "name": "python3"
  },
  "language_info": {
   "codemirror_mode": {
    "name": "ipython",
    "version": 3
   },
   "file_extension": ".py",
   "mimetype": "text/x-python",
   "name": "python",
   "nbconvert_exporter": "python",
   "pygments_lexer": "ipython3",
   "version": "3.10.9"
  }
 },
 "nbformat": 4,
 "nbformat_minor": 2
}
